{
 "cells": [
  {
   "cell_type": "code",
   "execution_count": 1,
   "id": "fae61216-63ba-432a-9d74-c7a2084e302d",
   "metadata": {},
   "outputs": [],
   "source": [
    "import sys\n",
    "import tensorflow as tf\n",
    "import numpy as np"
   ]
  },
  {
   "cell_type": "code",
   "execution_count": 2,
   "id": "76606428-1c0f-47c7-8748-1214292b6ca1",
   "metadata": {},
   "outputs": [
    {
     "name": "stdout",
     "output_type": "stream",
     "text": [
      "(60000, 28, 28)\n",
      "(60000,)\n",
      "학습셋 이미지 수 : 60000 개\n",
      "테스트셋 이미지 수 : 10000 개\n"
     ]
    }
   ],
   "source": [
    "# MNIST 데이터셋 불러오기\n",
    "(X_train, Y_train), (X_test, Y_test) = tf.keras.datasets.mnist.load_data()\n",
    "\n",
    "# shape 확인하기\n",
    "print(X_train.shape) # 28 x 28의 이미지가 60,000장\n",
    "print(Y_train.shape) ## [ 5, 1, 2, 3, 4, 4,   .... ]\n",
    "print(\"학습셋 이미지 수 : %d 개\" % (X_train.shape[0]))\n",
    "print(\"테스트셋 이미지 수 : %d 개\" % (X_test.shape[0]))"
   ]
  },
  {
   "cell_type": "code",
   "execution_count": 3,
   "id": "d06b31e6-8ef9-4847-ab03-f55f970c2655",
   "metadata": {},
   "outputs": [
    {
     "name": "stdout",
     "output_type": "stream",
     "text": [
      "5\n"
     ]
    },
    {
     "data": {
      "image/png": "[encoded data removed]",
      "text/plain": [
       "<Figure size 640x480 with 1 Axes>"
      ]
     },
     "metadata": {},
     "output_type": "display_data"
    }
   ],
   "source": [
    "# MNIST 데이터를 시각화하기 \n",
    "import matplotlib.pyplot as plt\n",
    "print(Y_train[0])\n",
    "plt.imshow(X_train[0], cmap='Greys') # 흑백 이미지로 확인\n",
    "plt.show()"
   ]
  },
  {
   "cell_type": "code",
   "execution_count": 4,
   "id": "f554d391-6862-4d10-bbbd-8ae87125e05b",
   "metadata": {},
   "outputs": [
    {
     "name": "stdout",
     "output_type": "stream",
     "text": [
      "0\t0\t0\t0\t0\t0\t0\t0\t0\t0\t0\t0\t0\t0\t0\t0\t0\t0\t0\t0\t0\t0\t0\t0\t0\t0\t0\t0\t\n",
      "0\t0\t0\t0\t0\t0\t0\t0\t0\t0\t0\t0\t0\t0\t0\t0\t0\t0\t0\t0\t0\t0\t0\t0\t0\t0\t0\t0\t\n",
      "0\t0\t0\t0\t0\t0\t0\t0\t0\t0\t0\t0\t0\t0\t0\t0\t0\t0\t0\t0\t0\t0\t0\t0\t0\t0\t0\t0\t\n",
      "0\t0\t0\t0\t0\t0\t0\t0\t0\t0\t0\t0\t0\t0\t0\t0\t0\t0\t0\t0\t0\t0\t0\t0\t0\t0\t0\t0\t\n",
      "0\t0\t0\t0\t0\t0\t0\t0\t0\t0\t0\t0\t0\t0\t0\t0\t0\t0\t0\t0\t0\t0\t0\t0\t0\t0\t0\t0\t\n",
      "0\t0\t0\t0\t0\t0\t0\t0\t0\t0\t0\t0\t3\t18\t18\t18\t126\t136\t175\t26\t166\t255\t247\t127\t0\t0\t0\t0\t\n",
      "0\t0\t0\t0\t0\t0\t0\t0\t30\t36\t94\t154\t170\t253\t253\t253\t253\t253\t225\t172\t253\t242\t195\t64\t0\t0\t0\t0\t\n",
      "0\t0\t0\t0\t0\t0\t0\t49\t238\t253\t253\t253\t253\t253\t253\t253\t253\t251\t93\t82\t82\t56\t39\t0\t0\t0\t0\t0\t\n",
      "0\t0\t0\t0\t0\t0\t0\t18\t219\t253\t253\t253\t253\t253\t198\t182\t247\t241\t0\t0\t0\t0\t0\t0\t0\t0\t0\t0\t\n",
      "0\t0\t0\t0\t0\t0\t0\t0\t80\t156\t107\t253\t253\t205\t11\t0\t43\t154\t0\t0\t0\t0\t0\t0\t0\t0\t0\t0\t\n",
      "0\t0\t0\t0\t0\t0\t0\t0\t0\t14\t1\t154\t253\t90\t0\t0\t0\t0\t0\t0\t0\t0\t0\t0\t0\t0\t0\t0\t\n",
      "0\t0\t0\t0\t0\t0\t0\t0\t0\t0\t0\t139\t253\t190\t2\t0\t0\t0\t0\t0\t0\t0\t0\t0\t0\t0\t0\t0\t\n",
      "0\t0\t0\t0\t0\t0\t0\t0\t0\t0\t0\t11\t190\t253\t70\t0\t0\t0\t0\t0\t0\t0\t0\t0\t0\t0\t0\t0\t\n",
      "0\t0\t0\t0\t0\t0\t0\t0\t0\t0\t0\t0\t35\t241\t225\t160\t108\t1\t0\t0\t0\t0\t0\t0\t0\t0\t0\t0\t\n",
      "0\t0\t0\t0\t0\t0\t0\t0\t0\t0\t0\t0\t0\t81\t240\t253\t253\t119\t25\t0\t0\t0\t0\t0\t0\t0\t0\t0\t\n",
      "0\t0\t0\t0\t0\t0\t0\t0\t0\t0\t0\t0\t0\t0\t45\t186\t253\t253\t150\t27\t0\t0\t0\t0\t0\t0\t0\t0\t\n",
      "0\t0\t0\t0\t0\t0\t0\t0\t0\t0\t0\t0\t0\t0\t0\t16\t93\t252\t253\t187\t0\t0\t0\t0\t0\t0\t0\t0\t\n",
      "0\t0\t0\t0\t0\t0\t0\t0\t0\t0\t0\t0\t0\t0\t0\t0\t0\t249\t253\t249\t64\t0\t0\t0\t0\t0\t0\t0\t\n",
      "0\t0\t0\t0\t0\t0\t0\t0\t0\t0\t0\t0\t0\t0\t46\t130\t183\t253\t253\t207\t2\t0\t0\t0\t0\t0\t0\t0\t\n",
      "0\t0\t0\t0\t0\t0\t0\t0\t0\t0\t0\t0\t39\t148\t229\t253\t253\t253\t250\t182\t0\t0\t0\t0\t0\t0\t0\t0\t\n",
      "0\t0\t0\t0\t0\t0\t0\t0\t0\t0\t24\t114\t221\t253\t253\t253\t253\t201\t78\t0\t0\t0\t0\t0\t0\t0\t0\t0\t\n",
      "0\t0\t0\t0\t0\t0\t0\t0\t23\t66\t213\t253\t253\t253\t253\t198\t81\t2\t0\t0\t0\t0\t0\t0\t0\t0\t0\t0\t\n",
      "0\t0\t0\t0\t0\t0\t18\t171\t219\t253\t253\t253\t253\t195\t80\t9\t0\t0\t0\t0\t0\t0\t0\t0\t0\t0\t0\t0\t\n",
      "0\t0\t0\t0\t55\t172\t226\t253\t253\t253\t253\t244\t133\t11\t0\t0\t0\t0\t0\t0\t0\t0\t0\t0\t0\t0\t0\t0\t\n",
      "0\t0\t0\t0\t136\t253\t253\t253\t212\t135\t132\t16\t0\t0\t0\t0\t0\t0\t0\t0\t0\t0\t0\t0\t0\t0\t0\t0\t\n",
      "0\t0\t0\t0\t0\t0\t0\t0\t0\t0\t0\t0\t0\t0\t0\t0\t0\t0\t0\t0\t0\t0\t0\t0\t0\t0\t0\t0\t\n",
      "0\t0\t0\t0\t0\t0\t0\t0\t0\t0\t0\t0\t0\t0\t0\t0\t0\t0\t0\t0\t0\t0\t0\t0\t0\t0\t0\t0\t\n",
      "0\t0\t0\t0\t0\t0\t0\t0\t0\t0\t0\t0\t0\t0\t0\t0\t0\t0\t0\t0\t0\t0\t0\t0\t0\t0\t0\t0\t\n"
     ]
    }
   ],
   "source": [
    "# 데이터를 직접 들여다보기\n",
    "for x in X_train[0]:\n",
    "    for i in x:\n",
    "        sys.stdout.write('%d\\t' % i)\n",
    "    sys.stdout.write('\\n')"
   ]
  },
  {
   "cell_type": "code",
   "execution_count": 5,
   "id": "8c80a192-5e45-4782-990c-48166af10f56",
   "metadata": {},
   "outputs": [],
   "source": [
    "X_train = X_train.reshape(X_train.shape[0], 784).astype('float32') # 28 x 28= 784\n",
    "X_test = X_test.reshape(X_test.shape[0], 784).astype('float32')"
   ]
  },
  {
   "cell_type": "code",
   "execution_count": 6,
   "id": "a0d6b758-aaee-4da0-b633-acc3a7f55607",
   "metadata": {},
   "outputs": [],
   "source": [
    "Y_train = tf.keras.utils.to_categorical(Y_train)\n",
    "Y_test = tf.keras.utils.to_categorical(Y_test)"
   ]
  },
  {
   "cell_type": "code",
   "execution_count": 7,
   "id": "9059f411-ee08-434d-9547-359dfed9d6ba",
   "metadata": {},
   "outputs": [
    {
     "name": "stdout",
     "output_type": "stream",
     "text": [
      "(60000, 10)\n",
      "(10000, 10)\n",
      "[0. 0. 0. 0. 0. 1. 0. 0. 0. 0.]\n"
     ]
    }
   ],
   "source": [
    "print(Y_train.shape)\n",
    "print(Y_test.shape)\n",
    "print(Y_train[0])"
   ]
  },
  {
   "cell_type": "code",
   "execution_count": 8,
   "id": "80d200ab-8815-41e2-9f00-b97bda3d36ed",
   "metadata": {},
   "outputs": [
    {
     "name": "stdout",
     "output_type": "stream",
     "text": [
      "Model: \"model\"\n",
      "_________________________________________________________________\n",
      " Layer (type)                Output Shape              Param #   \n",
      "=================================================================\n",
      " input_1 (InputLayer)        [(None, 784)]             0         \n",
      "                                                                 \n",
      " dense (Dense)               (None, 512)               401920    \n",
      "                                                                 \n",
      " dense_1 (Dense)             (None, 512)               262656    \n",
      "                                                                 \n",
      " dense_2 (Dense)             (None, 10)                5130      \n",
      "                                                                 \n",
      "=================================================================\n",
      "Total params: 669706 (2.55 MB)\n",
      "Trainable params: 669706 (2.55 MB)\n",
      "Non-trainable params: 0 (0.00 Byte)\n",
      "_________________________________________________________________\n"
     ]
    }
   ],
   "source": [
    "# 모델 설계하기 \n",
    "input_layer = tf.keras.layers.Input(shape=(784,)) # input layer, input의 사이즈에 맞게 shape을 지정하는 것이 중요\n",
    "x = tf.keras.layers.Dense(512, activation='relu')(input_layer) # hidden layer 1, 512개의 perceptron으로 구성된 fully connted layer, activation 함수는 relu\n",
    "x = tf.keras.layers.Dense(512, activation='relu')(x) # hidden layer 2\n",
    "\n",
    "# 분류해야 하는 class 0~9 (10개) -> 따라서 최종 layer의 perceptron은 10개\n",
    "out_layer= tf.keras.layers.Dense(10, activation='softmax')(x)\n",
    "\n",
    "model = tf.keras.Model(inputs=[input_layer], outputs=[out_layer])\n",
    "model.summary()"
   ]
  },
  {
   "cell_type": "code",
   "execution_count": 9,
   "id": "b0b3a7a2-5d5c-4b98-9179-425f0a38afe5",
   "metadata": {},
   "outputs": [
    {
     "name": "stderr",
     "output_type": "stream",
     "text": [
      "WARNING:absl:At this time, the v2.11+ optimizer `tf.keras.optimizers.Adam` runs slowly on M1/M2 Macs, please use the legacy Keras optimizer instead, located at `tf.keras.optimizers.legacy.Adam`.\n"
     ]
    }
   ],
   "source": [
    "loss=tf.keras.losses.categorical_crossentropy\n",
    "optimizer = tf.keras.optimizers.Adam(learning_rate = 0.001)\n",
    "metric=tf.keras.metrics.categorical_accuracy\n",
    "model.compile(loss = loss,\n",
    "              optimizer = optimizer,\n",
    "              metrics = [metric])"
   ]
  },
  {
   "cell_type": "code",
   "execution_count": 10,
   "id": "3edcbe4f-20db-4ba0-af02-66e59772ff8e",
   "metadata": {},
   "outputs": [
    {
     "name": "stdout",
     "output_type": "stream",
     "text": [
      "Epoch 1/30\n",
      "48/48 [==============================] - 1s 18ms/step - loss: 13.1730 - categorical_accuracy: 0.8022 - val_loss: 1.3368 - val_categorical_accuracy: 0.9246\n",
      "Epoch 2/30\n",
      "48/48 [==============================] - 1s 18ms/step - loss: 0.8696 - categorical_accuracy: 0.9343 - val_loss: 0.7933 - val_categorical_accuracy: 0.9369\n",
      "Epoch 3/30\n",
      "48/48 [==============================] - 1s 18ms/step - loss: 0.4150 - categorical_accuracy: 0.9555 - val_loss: 0.6706 - val_categorical_accuracy: 0.9412\n",
      "Epoch 4/30\n",
      "48/48 [==============================] - 1s 18ms/step - loss: 0.2311 - categorical_accuracy: 0.9697 - val_loss: 0.5897 - val_categorical_accuracy: 0.9460\n",
      "Epoch 5/30\n",
      "48/48 [==============================] - 1s 18ms/step - loss: 0.1258 - categorical_accuracy: 0.9791 - val_loss: 0.5480 - val_categorical_accuracy: 0.9477\n",
      "Epoch 6/30\n",
      "48/48 [==============================] - 1s 17ms/step - loss: 0.0676 - categorical_accuracy: 0.9869 - val_loss: 0.5246 - val_categorical_accuracy: 0.9503\n",
      "Epoch 7/30\n",
      "48/48 [==============================] - 1s 17ms/step - loss: 0.0349 - categorical_accuracy: 0.9923 - val_loss: 0.5120 - val_categorical_accuracy: 0.9521\n",
      "Epoch 8/30\n",
      "48/48 [==============================] - 1s 16ms/step - loss: 0.0186 - categorical_accuracy: 0.9954 - val_loss: 0.4983 - val_categorical_accuracy: 0.9522\n",
      "Epoch 9/30\n",
      "48/48 [==============================] - 1s 17ms/step - loss: 0.0084 - categorical_accuracy: 0.9976 - val_loss: 0.5110 - val_categorical_accuracy: 0.9514\n",
      "Epoch 10/30\n",
      "48/48 [==============================] - 1s 17ms/step - loss: 0.0046 - categorical_accuracy: 0.9987 - val_loss: 0.4905 - val_categorical_accuracy: 0.9537\n",
      "Epoch 11/30\n",
      "48/48 [==============================] - 1s 17ms/step - loss: 0.0017 - categorical_accuracy: 0.9996 - val_loss: 0.4880 - val_categorical_accuracy: 0.9547\n",
      "Epoch 12/30\n",
      "48/48 [==============================] - 1s 18ms/step - loss: 4.8774e-04 - categorical_accuracy: 1.0000 - val_loss: 0.4850 - val_categorical_accuracy: 0.9557\n",
      "Epoch 13/30\n",
      "48/48 [==============================] - 1s 17ms/step - loss: 2.5140e-04 - categorical_accuracy: 1.0000 - val_loss: 0.4841 - val_categorical_accuracy: 0.9554\n",
      "Epoch 14/30\n",
      "48/48 [==============================] - 1s 18ms/step - loss: 2.0072e-04 - categorical_accuracy: 1.0000 - val_loss: 0.4841 - val_categorical_accuracy: 0.9553\n",
      "Epoch 15/30\n",
      "48/48 [==============================] - 1s 17ms/step - loss: 1.7389e-04 - categorical_accuracy: 1.0000 - val_loss: 0.4838 - val_categorical_accuracy: 0.9555\n",
      "Epoch 16/30\n",
      "48/48 [==============================] - 1s 17ms/step - loss: 1.5688e-04 - categorical_accuracy: 1.0000 - val_loss: 0.4836 - val_categorical_accuracy: 0.9555\n",
      "Epoch 17/30\n",
      "48/48 [==============================] - 1s 18ms/step - loss: 1.4422e-04 - categorical_accuracy: 1.0000 - val_loss: 0.4838 - val_categorical_accuracy: 0.9557\n",
      "Epoch 18/30\n",
      "48/48 [==============================] - 1s 18ms/step - loss: 1.3302e-04 - categorical_accuracy: 1.0000 - val_loss: 0.4839 - val_categorical_accuracy: 0.9557\n",
      "Epoch 19/30\n",
      "48/48 [==============================] - 1s 17ms/step - loss: 1.2431e-04 - categorical_accuracy: 1.0000 - val_loss: 0.4840 - val_categorical_accuracy: 0.9557\n",
      "Epoch 20/30\n",
      "48/48 [==============================] - 1s 18ms/step - loss: 1.1616e-04 - categorical_accuracy: 1.0000 - val_loss: 0.4839 - val_categorical_accuracy: 0.9556\n",
      "Epoch 21/30\n",
      "48/48 [==============================] - 1s 19ms/step - loss: 1.0924e-04 - categorical_accuracy: 1.0000 - val_loss: 0.4839 - val_categorical_accuracy: 0.9558\n",
      "Epoch 22/30\n",
      "48/48 [==============================] - 1s 19ms/step - loss: 1.0282e-04 - categorical_accuracy: 1.0000 - val_loss: 0.4839 - val_categorical_accuracy: 0.9557\n",
      "Epoch 23/30\n",
      "48/48 [==============================] - 1s 19ms/step - loss: 9.8038e-05 - categorical_accuracy: 1.0000 - val_loss: 0.4840 - val_categorical_accuracy: 0.9557\n",
      "Epoch 24/30\n",
      "48/48 [==============================] - 1s 19ms/step - loss: 9.2326e-05 - categorical_accuracy: 1.0000 - val_loss: 0.4840 - val_categorical_accuracy: 0.9562\n",
      "Epoch 25/30\n",
      "48/48 [==============================] - 1s 19ms/step - loss: 8.8005e-05 - categorical_accuracy: 1.0000 - val_loss: 0.4842 - val_categorical_accuracy: 0.9562\n",
      "Epoch 26/30\n",
      "48/48 [==============================] - 1s 19ms/step - loss: 8.3640e-05 - categorical_accuracy: 1.0000 - val_loss: 0.4842 - val_categorical_accuracy: 0.9563\n",
      "Epoch 27/30\n",
      "48/48 [==============================] - 1s 20ms/step - loss: 7.9799e-05 - categorical_accuracy: 1.0000 - val_loss: 0.4842 - val_categorical_accuracy: 0.9563\n",
      "Epoch 28/30\n",
      "48/48 [==============================] - 1s 19ms/step - loss: 7.6143e-05 - categorical_accuracy: 1.0000 - val_loss: 0.4844 - val_categorical_accuracy: 0.9563\n",
      "Epoch 29/30\n",
      "48/48 [==============================] - 1s 19ms/step - loss: 7.2942e-05 - categorical_accuracy: 1.0000 - val_loss: 0.4844 - val_categorical_accuracy: 0.9563\n",
      "Epoch 30/30\n",
      "48/48 [==============================] - 1s 19ms/step - loss: 6.9919e-05 - categorical_accuracy: 1.0000 - val_loss: 0.4845 - val_categorical_accuracy: 0.9564\n",
      "dict_keys(['loss', 'categorical_accuracy', 'val_loss', 'val_categorical_accuracy'])\n"
     ]
    }
   ],
   "source": [
    "# validation_data 옵션으로 테스트 데이터만 넣어주어서 검증 데이터 분류가 가능\n",
    "history = model.fit(X_train, Y_train, validation_split=0.2, epochs=30, batch_size=1000, verbose=1)\n",
    "print(history.history.keys())"
   ]
  },
  {
   "cell_type": "code",
   "execution_count": 11,
   "id": "54e87a32-9dd6-48f2-b1ac-5b0a193225c0",
   "metadata": {},
   "outputs": [
    {
     "name": "stdout",
     "output_type": "stream",
     "text": [
      "[13.172990798950195, 0.8696237802505493, 0.4150458872318268, 0.2311430275440216, 0.12577924132347107, 0.06764853745698929, 0.03487662598490715, 0.018601592630147934, 0.008449221961200237, 0.004622345790266991, 0.001673400984145701, 0.00048774067545309663, 0.00025139839272014797, 0.0002007150324061513, 0.00017388761625625193, 0.00015687862469349056, 0.00014421605737879872, 0.00013301990111358464, 0.00012431098730303347, 0.00011615810944931582, 0.00010924071830231696, 0.00010282301082042977, 9.803802822716534e-05, 9.232610318576917e-05, 8.800549403531477e-05, 8.36395047372207e-05, 7.979886868270114e-05, 7.61434857849963e-05, 7.294231909327209e-05, 6.991924601607025e-05]\n"
     ]
    }
   ],
   "source": [
    "# Training loss 확인하기\n",
    "loss = history.history['loss']\n",
    "print(loss)"
   ]
  },
  {
   "cell_type": "code",
   "execution_count": 12,
   "id": "e96e1532-b9d8-4827-802b-a72eba00fdb5",
   "metadata": {},
   "outputs": [
    {
     "name": "stdout",
     "output_type": "stream",
     "text": [
      "[1.3367573022842407, 0.7932921648025513, 0.6705913543701172, 0.5896936655044556, 0.5480121374130249, 0.5246303677558899, 0.5120020508766174, 0.49831587076187134, 0.5110132098197937, 0.4904855489730835, 0.48797115683555603, 0.484955757856369, 0.48407691717147827, 0.4840910732746124, 0.4837927520275116, 0.4836321175098419, 0.48375967144966125, 0.4838605225086212, 0.48402827978134155, 0.48389074206352234, 0.48386526107788086, 0.48392948508262634, 0.4839501976966858, 0.4840485155582428, 0.4842057228088379, 0.48422130942344666, 0.48416846990585327, 0.4844053089618683, 0.4843982458114624, 0.48447224497795105]\n"
     ]
    }
   ],
   "source": [
    "val_loss = history.history['val_loss']\n",
    "print(val_loss)"
   ]
  },
  {
   "cell_type": "code",
   "execution_count": 13,
   "id": "e0c54883-b817-42d4-a548-a02c61ef0147",
   "metadata": {},
   "outputs": [
    {
     "name": "stdout",
     "output_type": "stream",
     "text": [
      "313/313 [==============================] - 1s 2ms/step - loss: 0.4568 - categorical_accuracy: 0.9568\n",
      "\n",
      " Test Accuracy: 0.9568\n"
     ]
    }
   ],
   "source": [
    "print(\"\\n Test Accuracy: %.4f\" % (model.evaluate(X_test, Y_test)[1]))"
   ]
  },
  {
   "cell_type": "code",
   "execution_count": 14,
   "id": "f690387f-b6e5-413e-b654-f6a22963b5ae",
   "metadata": {},
   "outputs": [
    {
     "data": {
      "image/png": "[encoded data removed]",
      "text/plain": [
       "<Figure size 640x480 with 1 Axes>"
      ]
     },
     "metadata": {},
     "output_type": "display_data"
    }
   ],
   "source": [
    "# 그래프로 표현\n",
    "x_len = np.arange(len(val_loss))\n",
    "plt.plot(x_len, val_loss, marker='.', c=\"red\", label='validation loss')\n",
    "plt.plot(x_len, loss, marker='.', c=\"blue\", label='training loss')\n",
    "\n",
    "# 그래프에 그리드를 주고 레이블을 표시\n",
    "plt.legend(loc='upper right')\n",
    "# plt.axis([0, 20, 0, 0.35])\n",
    "plt.grid()\n",
    "plt.xlabel('epoch')\n",
    "plt.ylabel('loss')\n",
    "plt.show()"
   ]
  },
  {
   "cell_type": "code",
   "execution_count": 15,
   "id": "2c16e132-83e9-4190-bd31-516bab7b4a5c",
   "metadata": {},
   "outputs": [
    {
     "name": "stdout",
     "output_type": "stream",
     "text": [
      "Model: \"model_1\"\n",
      "_________________________________________________________________\n",
      " Layer (type)                Output Shape              Param #   \n",
      "=================================================================\n",
      " input_2 (InputLayer)        [(None, 784)]             0         \n",
      "                                                                 \n",
      " dense_3 (Dense)             (None, 512)               401920    \n",
      "                                                                 \n",
      " dense_4 (Dense)             (None, 256)               131328    \n",
      "                                                                 \n",
      " dense_5 (Dense)             (None, 10)                2570      \n",
      "                                                                 \n",
      "=================================================================\n",
      "Total params: 535818 (2.04 MB)\n",
      "Trainable params: 535818 (2.04 MB)\n",
      "Non-trainable params: 0 (0.00 Byte)\n",
      "_________________________________________________________________\n"
     ]
    }
   ],
   "source": [
    "# 모델 설계하기 \n",
    "input_layer = tf.keras.layers.Input(shape=(784,)) # input layer, input의 사이즈에 맞게 shape을 지정하는 것이 중요\n",
    "x = tf.keras.layers.Dense(512, activation='relu')(input_layer) # hidden layer 1, 512개의 perceptron으로 구성된 fully connted layer, activation 함수는 relu\n",
    "x = tf.keras.layers.Dense(256, activation='relu')(x) # hidden layer 2\n",
    "\n",
    "# 분류해야 하는 class 0~9 (10개) -> 따라서 최종 layer의 perceptron은 10개\n",
    "out_layer= tf.keras.layers.Dense(10, activation='softmax')(x)\n",
    "\n",
    "model = tf.keras.Model(inputs=[input_layer], outputs=[out_layer])\n",
    "model.summary()"
   ]
  },
  {
   "cell_type": "code",
   "execution_count": 16,
   "id": "6b39a8c3-addf-41da-b6bc-54ae3f0151d8",
   "metadata": {},
   "outputs": [
    {
     "name": "stderr",
     "output_type": "stream",
     "text": [
      "WARNING:absl:At this time, the v2.11+ optimizer `tf.keras.optimizers.Adam` runs slowly on M1/M2 Macs, please use the legacy Keras optimizer instead, located at `tf.keras.optimizers.legacy.Adam`.\n"
     ]
    }
   ],
   "source": [
    "loss=tf.keras.losses.categorical_crossentropy\n",
    "optimizer = tf.keras.optimizers.Adam(learning_rate = 0.005)\n",
    "metric=tf.keras.metrics.categorical_accuracy\n",
    "model.compile(loss = loss,\n",
    "              optimizer = optimizer,\n",
    "              metrics = [metric])"
   ]
  },
  {
   "cell_type": "code",
   "execution_count": 17,
   "id": "6fa167d9-5178-46ee-a32c-20c186cb7409",
   "metadata": {},
   "outputs": [
    {
     "name": "stdout",
     "output_type": "stream",
     "text": [
      "Epoch 1/30\n",
      "48/48 [==============================] - 1s 17ms/step - loss: 57.2130 - categorical_accuracy: 0.6235 - val_loss: 0.7460 - val_categorical_accuracy: 0.8168\n",
      "Epoch 2/30\n",
      "48/48 [==============================] - 1s 15ms/step - loss: 0.6126 - categorical_accuracy: 0.8457 - val_loss: 0.4789 - val_categorical_accuracy: 0.8818\n",
      "Epoch 3/30\n",
      "48/48 [==============================] - 1s 16ms/step - loss: 0.4259 - categorical_accuracy: 0.8890 - val_loss: 0.3844 - val_categorical_accuracy: 0.9072\n",
      "Epoch 4/30\n",
      "48/48 [==============================] - 1s 17ms/step - loss: 0.3319 - categorical_accuracy: 0.9102 - val_loss: 0.3213 - val_categorical_accuracy: 0.9168\n",
      "Epoch 5/30\n",
      "48/48 [==============================] - 1s 16ms/step - loss: 0.2794 - categorical_accuracy: 0.9216 - val_loss: 0.2979 - val_categorical_accuracy: 0.9229\n",
      "Epoch 6/30\n",
      "48/48 [==============================] - 1s 16ms/step - loss: 0.2400 - categorical_accuracy: 0.9314 - val_loss: 0.2788 - val_categorical_accuracy: 0.9293\n",
      "Epoch 7/30\n",
      "48/48 [==============================] - 1s 16ms/step - loss: 0.2067 - categorical_accuracy: 0.9401 - val_loss: 0.2698 - val_categorical_accuracy: 0.9341\n",
      "Epoch 8/30\n",
      "48/48 [==============================] - 1s 16ms/step - loss: 0.1877 - categorical_accuracy: 0.9444 - val_loss: 0.2677 - val_categorical_accuracy: 0.9338\n",
      "Epoch 9/30\n",
      "48/48 [==============================] - 1s 17ms/step - loss: 0.1713 - categorical_accuracy: 0.9486 - val_loss: 0.2522 - val_categorical_accuracy: 0.9366\n",
      "Epoch 10/30\n",
      "48/48 [==============================] - 1s 16ms/step - loss: 0.1603 - categorical_accuracy: 0.9525 - val_loss: 0.2526 - val_categorical_accuracy: 0.9384\n",
      "Epoch 11/30\n",
      "48/48 [==============================] - 1s 16ms/step - loss: 0.1447 - categorical_accuracy: 0.9565 - val_loss: 0.2425 - val_categorical_accuracy: 0.9432\n",
      "Epoch 12/30\n",
      "48/48 [==============================] - 1s 16ms/step - loss: 0.1333 - categorical_accuracy: 0.9597 - val_loss: 0.2554 - val_categorical_accuracy: 0.9420\n",
      "Epoch 13/30\n",
      "48/48 [==============================] - 1s 16ms/step - loss: 0.1242 - categorical_accuracy: 0.9625 - val_loss: 0.2460 - val_categorical_accuracy: 0.9433\n",
      "Epoch 14/30\n",
      "48/48 [==============================] - 1s 16ms/step - loss: 0.1216 - categorical_accuracy: 0.9624 - val_loss: 0.2323 - val_categorical_accuracy: 0.9448\n",
      "Epoch 15/30\n",
      "48/48 [==============================] - 1s 16ms/step - loss: 0.1100 - categorical_accuracy: 0.9663 - val_loss: 0.2534 - val_categorical_accuracy: 0.9442\n",
      "Epoch 16/30\n",
      "48/48 [==============================] - 1s 16ms/step - loss: 0.1062 - categorical_accuracy: 0.9678 - val_loss: 0.2558 - val_categorical_accuracy: 0.9467\n",
      "Epoch 17/30\n",
      "48/48 [==============================] - 1s 17ms/step - loss: 0.0971 - categorical_accuracy: 0.9700 - val_loss: 0.2514 - val_categorical_accuracy: 0.9463\n",
      "Epoch 18/30\n",
      "48/48 [==============================] - 1s 16ms/step - loss: 0.0969 - categorical_accuracy: 0.9707 - val_loss: 0.2543 - val_categorical_accuracy: 0.9446\n",
      "Epoch 19/30\n",
      "48/48 [==============================] - 1s 17ms/step - loss: 0.0949 - categorical_accuracy: 0.9704 - val_loss: 0.2551 - val_categorical_accuracy: 0.9449\n",
      "Epoch 20/30\n",
      "48/48 [==============================] - 1s 18ms/step - loss: 0.0858 - categorical_accuracy: 0.9736 - val_loss: 0.2505 - val_categorical_accuracy: 0.9480\n",
      "Epoch 21/30\n",
      "48/48 [==============================] - 1s 17ms/step - loss: 0.0780 - categorical_accuracy: 0.9761 - val_loss: 0.2582 - val_categorical_accuracy: 0.9467\n",
      "Epoch 22/30\n",
      "48/48 [==============================] - 1s 18ms/step - loss: 0.0745 - categorical_accuracy: 0.9770 - val_loss: 0.2448 - val_categorical_accuracy: 0.9482\n",
      "Epoch 23/30\n",
      "48/48 [==============================] - 1s 17ms/step - loss: 0.0697 - categorical_accuracy: 0.9789 - val_loss: 0.2667 - val_categorical_accuracy: 0.9480\n",
      "Epoch 24/30\n",
      "48/48 [==============================] - 1s 16ms/step - loss: 0.0635 - categorical_accuracy: 0.9796 - val_loss: 0.2619 - val_categorical_accuracy: 0.9471\n",
      "Epoch 25/30\n",
      "48/48 [==============================] - 1s 16ms/step - loss: 0.0709 - categorical_accuracy: 0.9779 - val_loss: 0.2915 - val_categorical_accuracy: 0.9487\n",
      "Epoch 26/30\n",
      "48/48 [==============================] - 1s 16ms/step - loss: 0.0715 - categorical_accuracy: 0.9778 - val_loss: 0.2757 - val_categorical_accuracy: 0.9467\n",
      "Epoch 27/30\n",
      "48/48 [==============================] - 1s 17ms/step - loss: 0.0726 - categorical_accuracy: 0.9779 - val_loss: 0.2747 - val_categorical_accuracy: 0.9498\n",
      "Epoch 28/30\n",
      "48/48 [==============================] - 1s 16ms/step - loss: 0.0767 - categorical_accuracy: 0.9760 - val_loss: 0.2921 - val_categorical_accuracy: 0.9461\n",
      "Epoch 29/30\n",
      "48/48 [==============================] - 1s 17ms/step - loss: 0.0657 - categorical_accuracy: 0.9790 - val_loss: 0.2904 - val_categorical_accuracy: 0.9484\n",
      "Epoch 30/30\n",
      "48/48 [==============================] - 1s 18ms/step - loss: 0.0663 - categorical_accuracy: 0.9802 - val_loss: 0.2699 - val_categorical_accuracy: 0.9515\n",
      "dict_keys(['loss', 'categorical_accuracy', 'val_loss', 'val_categorical_accuracy'])\n"
     ]
    }
   ],
   "source": [
    "history = model.fit(X_train, Y_train, validation_split=0.2, epochs=30, batch_size=1000, verbose=1)\n",
    "print(history.history.keys())"
   ]
  },
  {
   "cell_type": "code",
   "execution_count": 18,
   "id": "50c52526-3738-4b6f-8947-150a77244fdd",
   "metadata": {},
   "outputs": [
    {
     "name": "stdout",
     "output_type": "stream",
     "text": [
      "313/313 [==============================] - 0s 1ms/step - loss: 0.2665 - categorical_accuracy: 0.9506\n",
      "\n",
      " Test Accuracy: 0.9506\n"
     ]
    }
   ],
   "source": [
    "print(\"\\n Test Accuracy: %.4f\" % (model.evaluate(X_test, Y_test)[1]))"
   ]
  },
  {
   "cell_type": "code",
   "execution_count": 19,
   "id": "b19de8ae-dea8-4387-90ab-9d7cc081fa4e",
   "metadata": {},
   "outputs": [
    {
     "data": {
      "image/png": "[encoded data removed]",
      "text/plain": [
       "<Figure size 640x480 with 1 Axes>"
      ]
     },
     "metadata": {},
     "output_type": "display_data"
    }
   ],
   "source": [
    "loss = history.history['loss']\n",
    "val_loss = history.history['val_loss']\n",
    "\n",
    "# 그래프로 표현\n",
    "x_len = np.arange(len(val_loss))\n",
    "plt.plot(x_len, val_loss, marker='.', c=\"red\", label='validation loss')\n",
    "plt.plot(x_len, loss, marker='.', c=\"blue\", label='training loss')\n",
    "\n",
    "# 그래프에 그리드를 주고 레이블을 표시\n",
    "plt.legend(loc='upper right')\n",
    "# plt.axis([0, 20, 0, 0.35])\n",
    "plt.grid()\n",
    "plt.xlabel('epoch')\n",
    "plt.ylabel('loss')\n",
    "plt.show()"
   ]
  },
  {
   "cell_type": "code",
   "execution_count": 20,
   "id": "a71e0a9f-1ce7-4844-b6b6-f5734fd1d539",
   "metadata": {},
   "outputs": [],
   "source": [
    "import cv2"
   ]
  },
  {
   "cell_type": "code",
   "execution_count": 21,
   "id": "da6797e0-b1cd-4cd1-8962-c53c1b0339d8",
   "metadata": {},
   "outputs": [],
   "source": [
    "import tensorflow as tf\n",
    "import numpy as np\n",
    "\n",
    "(X_train, Y_train), (X_test, Y_test) = tf.keras.datasets.mnist.load_data()"
   ]
  },
  {
   "cell_type": "code",
   "execution_count": 22,
   "id": "c212fef9-f8fe-406f-8843-a98ff9cef186",
   "metadata": {},
   "outputs": [
    {
     "name": "stdout",
     "output_type": "stream",
     "text": [
      "(60000, 28, 28)\n",
      "(60000,)\n",
      "학습셋 이미지 수 : 60000 개\n",
      "테스트셋 이미지 수 : 10000 개\n"
     ]
    }
   ],
   "source": [
    "print(X_train.shape)\n",
    "print(Y_train.shape)\n",
    "print(\"학습셋 이미지 수 : %d 개\" % (X_train.shape[0]))\n",
    "print(\"테스트셋 이미지 수 : %d 개\" % (X_test.shape[0]))"
   ]
  },
  {
   "cell_type": "code",
   "execution_count": 23,
   "id": "647bd519-9a14-4277-b107-c97ecf289583",
   "metadata": {},
   "outputs": [],
   "source": [
    "# 이미지 회전 변환 메트릭스 구하기 \n",
    "M= cv2.getRotationMatrix2D((20, 25), 20, 1)  ## 회전 변환 Matrix 생성\n",
    "\n",
    "# 이미지 이동 변환 메트릭스 구하기\n",
    "M[0, 2] = M[0, 2] + 3\n",
    "M[1, 2] = M[1, 2] + 3\n",
    "\n",
    "# 이미지 변환 메트릭스 적용\n",
    "test_image = cv2.warpAffine(X_train[5], M, (28, 28))  ## image에 matrix 곱"
   ]
  },
  {
   "cell_type": "code",
   "execution_count": 24,
   "id": "3810a08e-9805-4d57-9b8c-9eb0d408e3ca",
   "metadata": {},
   "outputs": [
    {
     "data": {
      "text/plain": [
       "<matplotlib.image.AxesImage at 0x1682c6d70>"
      ]
     },
     "execution_count": 24,
     "metadata": {},
     "output_type": "execute_result"
    },
    {
     "data": {
      "image/png": "[encoded data removed]",
      "text/plain": [
       "<Figure size 640x480 with 1 Axes>"
      ]
     },
     "metadata": {},
     "output_type": "display_data"
    }
   ],
   "source": [
    "import matplotlib.pyplot as plt\n",
    "\n",
    "plt.imshow(test_image, cmap='Greys')"
   ]
  },
  {
   "cell_type": "code",
   "execution_count": 25,
   "id": "4aed1db6-fe96-4023-9506-cdbeb981d556",
   "metadata": {},
   "outputs": [],
   "source": [
    "test_image_reshape = test_image.reshape(1, 784).astype('float64')"
   ]
  },
  {
   "cell_type": "code",
   "execution_count": 26,
   "id": "8272210e-6d8d-4dcb-a39a-9d19922800fb",
   "metadata": {},
   "outputs": [
    {
     "name": "stdout",
     "output_type": "stream",
     "text": [
      "1/1 [==============================] - 0s 124ms/step\n"
     ]
    }
   ],
   "source": [
    "Y_prediction = model.predict(test_image_reshape)"
   ]
  },
  {
   "cell_type": "code",
   "execution_count": 27,
   "id": "a7d052af-f58e-4394-9f05-c1a209947472",
   "metadata": {},
   "outputs": [
    {
     "data": {
      "image/png": "[encoded data removed]",
      "text/plain": [
       "<Figure size 640x480 with 1 Axes>"
      ]
     },
     "metadata": {},
     "output_type": "display_data"
    }
   ],
   "source": [
    "index = np.argmax(Y_prediction) # 10개의 class가 각 확률 값으로 나오기 때문에 가장 높은 값을 가진 인덱스를 추출 \n",
    "value = Y_prediction[:, index]\n",
    "plt.imshow(test_image, cmap='Greys')\n",
    "plt.xlabel(\"prediction: \"+str(index)+\"  \" +str(value), fontsize=20)\n",
    "plt.show()"
   ]
  },
  {
   "cell_type": "code",
   "execution_count": null,
   "id": "4125079b-ab5e-4691-b9c5-de13956dadda",
   "metadata": {},
   "outputs": [],
   "source": []
  }
 ],
 "metadata": {
  "kernelspec": {
   "display_name": "Python 3 (ipykernel)",
   "language": "python",
   "name": "python3"
  },
  "language_info": {
   "codemirror_mode": {
    "name": "ipython",
    "version": 3
   },
   "file_extension": ".py",
   "mimetype": "text/x-python",
   "name": "python",
   "nbconvert_exporter": "python",
   "pygments_lexer": "ipython3",
   "version": "3.10.13"
  }
 },
 "nbformat": 4,
 "nbformat_minor": 5
}
