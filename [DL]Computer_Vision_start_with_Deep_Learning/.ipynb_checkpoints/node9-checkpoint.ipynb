{
 "cells": [
  {
   "cell_type": "code",
   "execution_count": 1,
   "id": "75c843ee-8cbd-4a70-8b14-582eb5a01cbc",
   "metadata": {},
   "outputs": [],
   "source": [
    "import tensorflow.keras.layers as layers\n",
    "import tensorflow as tf"
   ]
  },
  {
   "cell_type": "code",
   "execution_count": 6,
   "id": "83207257",
   "metadata": {},
   "outputs": [],
   "source": [
    "inputs = layers.Input(shape=(572, 572, 1))\n",
    "\n",
    "conv0 = layers.Conv2D(64, activation='relu', kernel_size=3)(inputs) #(570, 570, 64)\n",
    "conv1 = layers.Conv2D(64, activation='relu', kernel_size=3)(conv0) #(568, 568, 64)\n",
    "conv2 = layers.MaxPool2D(pool_size=(2,2), strides=(2,2))(conv1) #(284, 284, 64)\n",
    "\n",
    "conv3 = layers.Conv2D(128, activation='relu', kernel_size=3)(conv2) #(282, 282, 128)\n",
    "conv4 = layers.Conv2D(128, activation='relu', kernel_size=3)(conv3) #(280, 280, 128)\n",
    "conv5 = layers.MaxPool2D(pool_size=(2,2), strides=(2,2))(conv4) #(140, 140, 128)\n",
    "\n",
    "conv6 = layers.Conv2D(256, activation='relu', kernel_size=3)(conv5) #(138, 138, 256)\n",
    "conv7 = layers.Conv2D(256, activation='relu', kernel_size=3)(conv6) #(136, 136, 256)\n",
    "conv8 = layers.MaxPool2D(pool_size=(2,2), strides=(2,2))(conv7) #(68, 68, 256)\n",
    "\n",
    "conv9 = layers.Conv2D(512, activation='relu', kernel_size=3)(conv8) #(66, 66, 512)\n",
    "conv10 = layers.Conv2D(512, activation='relu', kernel_size=3)(conv9) #(64, 64, 512)\n",
    "conv11 = layers.MaxPool2D(pool_size=(2,2), strides=(2,2))(conv10) #(32, 32, 512)\n",
    "\n",
    "conv12 = layers.Conv2D(1024, activation='relu', kernel_size=3)(conv11) #(30, 30, 1024)\n",
    "conv13 = layers.Conv2D(1024, activation='relu', kernel_size=3)(conv12) #(28, 28, 1024)\n",
    "\n",
    "trans01 = layers.Conv2DTranspose(512, kernel_size=2, strides=(2,2), activation='relu')(conv13) #(56, 56, 512)\n",
    "crop01 = layers.Cropping2D(cropping=(4,4))(conv10) #(56, 56, 512)\n",
    "concat01 = layers.concatenate([trans01, crop01], axis=-1) #(56, 56, 1024)\n",
    "\n",
    "conv14 = layers.Conv2D(512, activation='relu', kernel_size=3)(concat01) #(54, 54, 512)\n",
    "conv15 = layers.Conv2D(512, activation='relu', kernel_size=3)(conv14) #(52, 52, 512)\n",
    "\n",
    "trans02 = layers.Conv2DTranspose(256, kernel_size=2, strides=(2,2), activation='relu')(conv15) #(104, 104, 256)\n",
    "crop02 = layers.Cropping2D(cropping=(16, 16))(conv7) #(104, 104, 256)\n",
    "concat02 = layers.concatenate([trans02, crop02], axis=-1) #(104, 104, 512)\n",
    "\n",
    "conv16 = layers.Conv2D(256, activation='relu', kernel_size=3)(concat02) #(102, 102, 256)\n",
    "conv17 = layers.Conv2D(256, activation='relu', kernel_size=3)(conv16) #(100, 100, 256)\n",
    "\n",
    "trans03 = layers.Conv2DTranspose(128, kernel_size=2, strides=(2,2), activation='relu')(conv17) #(200, 200, 128)\n",
    "crop03 = layers.Cropping2D(cropping=(40, 40))(conv4) #(200, 200, 128)\n",
    "concat03 = layers.concatenate([trans03, crop03], axis=-1) #(200, 200, 256)\n",
    "\n",
    "conv18 = layers.Conv2D(128, activation='relu', kernel_size=3)(concat03) #(198, 198, 128)\n",
    "conv19 = layers.Conv2D(128, activation='relu', kernel_size=3)(conv18) #(196, 196, 128)\n",
    "\n",
    "trans04 = layers.Conv2DTranspose(64, kernel_size=2, strides=(2,2), activation='relu')(conv19) #(392, 392, 64)\n",
    "crop04 = layers.Cropping2D(cropping=(88, 88))(conv1) #(392, 392, 64)\n",
    "concat04 = layers.concatenate([trans04, crop04], axis=-1) #(392, 392, 128)\n",
    "\n",
    "conv20 = layers.Conv2D(64, activation='relu', kernel_size=3)(concat04) #(390, 390, 64)\n",
    "conv21 = layers.Conv2D(64, activation='relu', kernel_size=3)(conv20) #(388, 388, 64)\n",
    "\n",
    "outputs = layers.Conv2D(2, kernel_size=1)(conv21)\n",
    "\n",
    "model = tf.keras.Model(inputs=inputs, outputs=outputs, name='u-netmodel')"
   ]
  },
  {
   "cell_type": "code",
   "execution_count": 7,
   "id": "00b294db",
   "metadata": {},
   "outputs": [
    {
     "name": "stdout",
     "output_type": "stream",
     "text": [
      "Model: \"u-netmodel\"\n",
      "__________________________________________________________________________________________________\n",
      " Layer (type)                Output Shape                 Param #   Connected to                  \n",
      "==================================================================================================\n",
      " input_5 (InputLayer)        [(None, 572, 572, 1)]        0         []                            \n",
      "                                                                                                  \n",
      " conv2d_53 (Conv2D)          (None, 570, 570, 64)         640       ['input_5[0][0]']             \n",
      "                                                                                                  \n",
      " conv2d_54 (Conv2D)          (None, 568, 568, 64)         36928     ['conv2d_53[0][0]']           \n",
      "                                                                                                  \n",
      " max_pooling2d_15 (MaxPooli  (None, 284, 284, 64)         0         ['conv2d_54[0][0]']           \n",
      " ng2D)                                                                                            \n",
      "                                                                                                  \n",
      " conv2d_55 (Conv2D)          (None, 282, 282, 128)        73856     ['max_pooling2d_15[0][0]']    \n",
      "                                                                                                  \n",
      " conv2d_56 (Conv2D)          (None, 280, 280, 128)        147584    ['conv2d_55[0][0]']           \n",
      "                                                                                                  \n",
      " max_pooling2d_16 (MaxPooli  (None, 140, 140, 128)        0         ['conv2d_56[0][0]']           \n",
      " ng2D)                                                                                            \n",
      "                                                                                                  \n",
      " conv2d_57 (Conv2D)          (None, 138, 138, 256)        295168    ['max_pooling2d_16[0][0]']    \n",
      "                                                                                                  \n",
      " conv2d_58 (Conv2D)          (None, 136, 136, 256)        590080    ['conv2d_57[0][0]']           \n",
      "                                                                                                  \n",
      " max_pooling2d_17 (MaxPooli  (None, 68, 68, 256)          0         ['conv2d_58[0][0]']           \n",
      " ng2D)                                                                                            \n",
      "                                                                                                  \n",
      " conv2d_59 (Conv2D)          (None, 66, 66, 512)          1180160   ['max_pooling2d_17[0][0]']    \n",
      "                                                                                                  \n",
      " conv2d_60 (Conv2D)          (None, 64, 64, 512)          2359808   ['conv2d_59[0][0]']           \n",
      "                                                                                                  \n",
      " max_pooling2d_18 (MaxPooli  (None, 32, 32, 512)          0         ['conv2d_60[0][0]']           \n",
      " ng2D)                                                                                            \n",
      "                                                                                                  \n",
      " conv2d_61 (Conv2D)          (None, 30, 30, 1024)         4719616   ['max_pooling2d_18[0][0]']    \n",
      "                                                                                                  \n",
      " conv2d_62 (Conv2D)          (None, 28, 28, 1024)         9438208   ['conv2d_61[0][0]']           \n",
      "                                                                                                  \n",
      " conv2d_transpose_10 (Conv2  (None, 56, 56, 512)          2097664   ['conv2d_62[0][0]']           \n",
      " DTranspose)                                                                                      \n",
      "                                                                                                  \n",
      " cropping2d_8 (Cropping2D)   (None, 56, 56, 512)          0         ['conv2d_60[0][0]']           \n",
      "                                                                                                  \n",
      " concatenate_8 (Concatenate  (None, 56, 56, 1024)         0         ['conv2d_transpose_10[0][0]', \n",
      " )                                                                   'cropping2d_8[0][0]']        \n",
      "                                                                                                  \n",
      " conv2d_63 (Conv2D)          (None, 54, 54, 512)          4719104   ['concatenate_8[0][0]']       \n",
      "                                                                                                  \n",
      " conv2d_64 (Conv2D)          (None, 52, 52, 512)          2359808   ['conv2d_63[0][0]']           \n",
      "                                                                                                  \n",
      " conv2d_transpose_11 (Conv2  (None, 104, 104, 256)        524544    ['conv2d_64[0][0]']           \n",
      " DTranspose)                                                                                      \n",
      "                                                                                                  \n",
      " cropping2d_9 (Cropping2D)   (None, 104, 104, 256)        0         ['conv2d_58[0][0]']           \n",
      "                                                                                                  \n",
      " concatenate_9 (Concatenate  (None, 104, 104, 512)        0         ['conv2d_transpose_11[0][0]', \n",
      " )                                                                   'cropping2d_9[0][0]']        \n",
      "                                                                                                  \n",
      " conv2d_65 (Conv2D)          (None, 102, 102, 256)        1179904   ['concatenate_9[0][0]']       \n",
      "                                                                                                  \n",
      " conv2d_66 (Conv2D)          (None, 100, 100, 256)        590080    ['conv2d_65[0][0]']           \n",
      "                                                                                                  \n",
      " conv2d_transpose_12 (Conv2  (None, 200, 200, 128)        131200    ['conv2d_66[0][0]']           \n",
      " DTranspose)                                                                                      \n",
      "                                                                                                  \n",
      " cropping2d_10 (Cropping2D)  (None, 200, 200, 128)        0         ['conv2d_56[0][0]']           \n",
      "                                                                                                  \n",
      " concatenate_10 (Concatenat  (None, 200, 200, 256)        0         ['conv2d_transpose_12[0][0]', \n",
      " e)                                                                  'cropping2d_10[0][0]']       \n",
      "                                                                                                  \n",
      " conv2d_67 (Conv2D)          (None, 198, 198, 128)        295040    ['concatenate_10[0][0]']      \n",
      "                                                                                                  \n",
      " conv2d_68 (Conv2D)          (None, 196, 196, 128)        147584    ['conv2d_67[0][0]']           \n",
      "                                                                                                  \n",
      " conv2d_transpose_13 (Conv2  (None, 392, 392, 64)         32832     ['conv2d_68[0][0]']           \n",
      " DTranspose)                                                                                      \n",
      "                                                                                                  \n",
      " cropping2d_11 (Cropping2D)  (None, 392, 392, 64)         0         ['conv2d_54[0][0]']           \n",
      "                                                                                                  \n",
      " concatenate_11 (Concatenat  (None, 392, 392, 128)        0         ['conv2d_transpose_13[0][0]', \n",
      " e)                                                                  'cropping2d_11[0][0]']       \n",
      "                                                                                                  \n",
      " conv2d_69 (Conv2D)          (None, 390, 390, 64)         73792     ['concatenate_11[0][0]']      \n",
      "                                                                                                  \n"
     ]
    },
    {
     "name": "stdout",
     "output_type": "stream",
     "text": [
      " conv2d_70 (Conv2D)          (None, 388, 388, 64)         36928     ['conv2d_69[0][0]']           \n",
      "                                                                                                  \n",
      " conv2d_71 (Conv2D)          (None, 388, 388, 2)          130       ['conv2d_70[0][0]']           \n",
      "                                                                                                  \n",
      "==================================================================================================\n",
      "Total params: 31030658 (118.37 MB)\n",
      "Trainable params: 31030658 (118.37 MB)\n",
      "Non-trainable params: 0 (0.00 Byte)\n",
      "__________________________________________________________________________________________________\n"
     ]
    }
   ],
   "source": [
    "model.summary()"
   ]
  },
  {
   "cell_type": "code",
   "execution_count": 10,
   "id": "7c0de7db",
   "metadata": {},
   "outputs": [
    {
     "name": "stdout",
     "output_type": "stream",
     "text": [
      "You must install pydot (`pip install pydot`) and install graphviz (see instructions at https://graphviz.gitlab.io/download/) for plot_model to work.\n"
     ]
    },
    {
     "ename": "AttributeError",
     "evalue": "'NoneType' object has no attribute 'create'",
     "output_type": "error",
     "traceback": [
      "\u001b[0;31m---------------------------------------------------------------------------\u001b[0m",
      "\u001b[0;31mAttributeError\u001b[0m                            Traceback (most recent call last)",
      "Cell \u001b[0;32mIn[10], line 6\u001b[0m\n\u001b[1;32m      2\u001b[0m \u001b[38;5;28;01mfrom\u001b[39;00m \u001b[38;5;21;01mkeras\u001b[39;00m\u001b[38;5;21;01m.\u001b[39;00m\u001b[38;5;21;01mutils\u001b[39;00m \u001b[38;5;28;01mimport\u001b[39;00m plot_model  \u001b[38;5;66;03m# 수정된 부분\u001b[39;00m\n\u001b[1;32m      4\u001b[0m get_ipython()\u001b[38;5;241m.\u001b[39mrun_line_magic(\u001b[38;5;124m'\u001b[39m\u001b[38;5;124mmatplotlib\u001b[39m\u001b[38;5;124m'\u001b[39m, \u001b[38;5;124m'\u001b[39m\u001b[38;5;124minline\u001b[39m\u001b[38;5;124m'\u001b[39m)\n\u001b[0;32m----> 6\u001b[0m SVG(plot_model(model, show_shapes\u001b[38;5;241m=\u001b[39m\u001b[38;5;28;01mTrue\u001b[39;00m, show_layer_names\u001b[38;5;241m=\u001b[39m\u001b[38;5;28;01mTrue\u001b[39;00m, dpi\u001b[38;5;241m=\u001b[39m\u001b[38;5;241m80\u001b[39m)\u001b[38;5;241m.\u001b[39mcreate(prog\u001b[38;5;241m=\u001b[39m\u001b[38;5;124m'\u001b[39m\u001b[38;5;124mdot\u001b[39m\u001b[38;5;124m'\u001b[39m, \u001b[38;5;28mformat\u001b[39m\u001b[38;5;241m=\u001b[39m\u001b[38;5;124m'\u001b[39m\u001b[38;5;124msvg\u001b[39m\u001b[38;5;124m'\u001b[39m))\n",
      "\u001b[0;31mAttributeError\u001b[0m: 'NoneType' object has no attribute 'create'"
     ]
    }
   ],
   "source": [
    "from IPython.display import SVG\n",
    "from keras.utils import plot_model  # 수정된 부분\n",
    "\n",
    "%matplotlib inline\n",
    "\n",
    "SVG(plot_model(model, show_shapes=True, show_layer_names=True, dpi=80).create(prog='dot', format='svg'))"
   ]
  },
  {
   "cell_type": "code",
   "execution_count": null,
   "id": "12a76ccf",
   "metadata": {},
   "outputs": [],
   "source": []
  }
 ],
 "metadata": {
  "kernelspec": {
   "display_name": "Python 3 (ipykernel)",
   "language": "python",
   "name": "python3"
  },
  "language_info": {
   "codemirror_mode": {
    "name": "ipython",
    "version": 3
   },
   "file_extension": ".py",
   "mimetype": "text/x-python",
   "name": "python",
   "nbconvert_exporter": "python",
   "pygments_lexer": "ipython3",
   "version": "3.11.5"
  }
 },
 "nbformat": 4,
 "nbformat_minor": 5
}
