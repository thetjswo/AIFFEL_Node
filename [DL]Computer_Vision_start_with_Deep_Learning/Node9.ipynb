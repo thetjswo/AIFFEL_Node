{
 "cells": [
  {
   "cell_type": "code",
   "execution_count": 2,
   "id": "75c843ee-8cbd-4a70-8b14-582eb5a01cbc",
   "metadata": {},
   "outputs": [],
   "source": [
    "import tensorflow.keras.layers as layers\n",
    "import tensorflow as tf"
   ]
  },
  {
   "cell_type": "code",
   "execution_count": 3,
   "id": "0e910bb9",
   "metadata": {},
   "outputs": [],
   "source": [
    "inputs = layers.Input(shape=(572, 572, 1))\n",
    "\n",
    "conv0 = layers.Conv2D(64, activation='relu', kernel_size=3)(inputs) #(570, 570, 64)\n",
    "conv1 = layers.Conv2D(64, activation='relu', kernel_size=3)(conv0) #(568, 568, 64)\n",
    "conv2 = layers.MaxPool2D(pool_size=(2,2), strides=(2,2))(conv1) #(284, 284, 64)\n",
    "\n",
    "conv3 = layers.Conv2D(128, activation='relu', kernel_size=3)(conv2) #(282, 282, 128)\n",
    "conv4 = layers.Conv2D(128, activation='relu', kernel_size=3)(conv3) #(280, 280, 128)\n",
    "conv5 = layers.MaxPool2D(pool_size=(2,2), strides=(2,2))(conv4) #(140, 140, 128)\n",
    "\n",
    "conv6 = layers.Conv2D(256, activation='relu', kernel_size=3)(conv5) #(138, 138, 256)\n",
    "conv7 = layers.Conv2D(256, activation='relu', kernel_size=3)(conv6) #(136, 136, 256)\n",
    "conv8 = layers.MaxPool2D(pool_size=(2,2), strides=(2,2))(conv7) #(68, 68, 256)\n",
    "\n",
    "conv9 = layers.Conv2D(512, activation='relu', kernel_size=3)(conv8) #(66, 66, 512)\n",
    "conv10 = layers.Conv2D(512, activation='relu', kernel_size=3)(conv9) #(64, 64, 512)\n",
    "conv11 = layers.MaxPool2D(pool_size=(2,2), strides=(2,2))(conv10) #(32, 32, 512)\n",
    "\n",
    "conv12 = layers.Conv2D(1024, activation='relu', kernel_size=3)(conv11) #(30, 30, 1024)\n",
    "conv13 = layers.Conv2D(1024, activation='relu', kernel_size=3)(conv12) #(28, 28, 1024)\n",
    "\n",
    "trans01 = layers.Conv2DTranspose(512, kernel_size=2, strides=(2,2), activation='relu')(conv13) #(56, 56, 512)\n",
    "crop01 = layers.Cropping2D(cropping=(4,4))(conv10) #(56, 56, 512)\n",
    "concat01 = layers.concatenate([trans01, crop01], axis=-1) #(56, 56, 1024)\n",
    "\n",
    "conv14 = layers.Conv2D(512, activation='relu', kernel_size=3)(concat01) #(54, 54, 512)\n",
    "conv15 = layers.Conv2D(512, activation='relu', kernel_size=3)(conv14) #(52, 52, 512)\n",
    "\n",
    "trans02 = layers.Conv2DTranspose(256, kernel_size=2, strides=(2,2), activation='relu')(conv15) #(104, 104, 256)\n",
    "crop02 = layers.Cropping2D(cropping=(16, 16))(conv7) #(104, 104, 256)\n",
    "concat02 = layers.concatenate([trans02, crop02], axis=-1) #(104, 104, 512)\n",
    "\n",
    "conv16 = layers.Conv2D(256, activation='relu', kernel_size=3)(concat02) #(102, 102, 256)\n",
    "conv17 = layers.Conv2D(256, activation='relu', kernel_size=3)(conv16) #(100, 100, 256)\n",
    "\n",
    "trans03 = layers.Conv2DTranspose(128, kernel_size=2, strides=(2,2), activation='relu')(conv17) #(200, 200, 128)\n",
    "crop03 = layers.Cropping2D(cropping=(40, 40))(conv4) #(200, 200, 128)\n",
    "concat03 = layers.concatenate([trans03, crop03], axis=-1) #(200, 200, 256)\n",
    "\n",
    "conv18 = layers.Conv2D(128, activation='relu', kernel_size=3)(concat03) #(198, 198, 128)\n",
    "conv19 = layers.Conv2D(128, activation='relu', kernel_size=3)(conv18) #(196, 196, 128)\n",
    "\n",
    "trans04 = layers.Conv2DTranspose(64, kernel_size=2, strides=(2,2), activation='relu')(conv19) #(392, 392, 64)\n",
    "crop04 = layers.Cropping2D(cropping=(88, 88))(conv1) #(392, 392, 64)\n",
    "concat04 = layers.concatenate([trans04, crop04], axis=-1) #(392, 392, 128)\n",
    "\n",
    "conv20 = layers.Conv2D(64, activation='relu', kernel_size=3)(concat04) #(390, 390, 64)\n",
    "conv21 = layers.Conv2D(64, activation='relu', kernel_size=3)(conv20) #(388, 388, 64)\n",
    "\n",
    "outputs = layers.Conv2D(2, kernel_size=1)(conv21)\n",
    "\n",
    "model = tf.keras.Model(inputs=inputs, outputs=outputs, name='u-netmodel')"
   ]
  },
  {
   "cell_type": "code",
   "execution_count": 4,
   "id": "06a8b8aa",
   "metadata": {},
   "outputs": [
    {
     "name": "stdout",
     "output_type": "stream",
     "text": [
      "Model: \"u-netmodel\"\n",
      "__________________________________________________________________________________________________\n",
      " Layer (type)                Output Shape                 Param #   Connected to                  \n",
      "==================================================================================================\n",
      " input_1 (InputLayer)        [(None, 572, 572, 1)]        0         []                            \n",
      "                                                                                                  \n",
      " conv2d (Conv2D)             (None, 570, 570, 64)         640       ['input_1[0][0]']             \n",
      "                                                                                                  \n",
      " conv2d_1 (Conv2D)           (None, 568, 568, 64)         36928     ['conv2d[0][0]']              \n",
      "                                                                                                  \n",
      " max_pooling2d (MaxPooling2  (None, 284, 284, 64)         0         ['conv2d_1[0][0]']            \n",
      " D)                                                                                               \n",
      "                                                                                                  \n",
      " conv2d_2 (Conv2D)           (None, 282, 282, 128)        73856     ['max_pooling2d[0][0]']       \n",
      "                                                                                                  \n",
      " conv2d_3 (Conv2D)           (None, 280, 280, 128)        147584    ['conv2d_2[0][0]']            \n",
      "                                                                                                  \n",
      " max_pooling2d_1 (MaxPoolin  (None, 140, 140, 128)        0         ['conv2d_3[0][0]']            \n",
      " g2D)                                                                                             \n",
      "                                                                                                  \n",
      " conv2d_4 (Conv2D)           (None, 138, 138, 256)        295168    ['max_pooling2d_1[0][0]']     \n",
      "                                                                                                  \n",
      " conv2d_5 (Conv2D)           (None, 136, 136, 256)        590080    ['conv2d_4[0][0]']            \n",
      "                                                                                                  \n",
      " max_pooling2d_2 (MaxPoolin  (None, 68, 68, 256)          0         ['conv2d_5[0][0]']            \n",
      " g2D)                                                                                             \n",
      "                                                                                                  \n",
      " conv2d_6 (Conv2D)           (None, 66, 66, 512)          1180160   ['max_pooling2d_2[0][0]']     \n",
      "                                                                                                  \n",
      " conv2d_7 (Conv2D)           (None, 64, 64, 512)          2359808   ['conv2d_6[0][0]']            \n",
      "                                                                                                  \n",
      " max_pooling2d_3 (MaxPoolin  (None, 32, 32, 512)          0         ['conv2d_7[0][0]']            \n",
      " g2D)                                                                                             \n",
      "                                                                                                  \n",
      " conv2d_8 (Conv2D)           (None, 30, 30, 1024)         4719616   ['max_pooling2d_3[0][0]']     \n",
      "                                                                                                  \n",
      " conv2d_9 (Conv2D)           (None, 28, 28, 1024)         9438208   ['conv2d_8[0][0]']            \n",
      "                                                                                                  \n",
      " conv2d_transpose (Conv2DTr  (None, 56, 56, 512)          2097664   ['conv2d_9[0][0]']            \n",
      " anspose)                                                                                         \n",
      "                                                                                                  \n",
      " cropping2d (Cropping2D)     (None, 56, 56, 512)          0         ['conv2d_7[0][0]']            \n",
      "                                                                                                  \n",
      " concatenate (Concatenate)   (None, 56, 56, 1024)         0         ['conv2d_transpose[0][0]',    \n",
      "                                                                     'cropping2d[0][0]']          \n",
      "                                                                                                  \n",
      " conv2d_10 (Conv2D)          (None, 54, 54, 512)          4719104   ['concatenate[0][0]']         \n",
      "                                                                                                  \n",
      " conv2d_11 (Conv2D)          (None, 52, 52, 512)          2359808   ['conv2d_10[0][0]']           \n",
      "                                                                                                  \n",
      " conv2d_transpose_1 (Conv2D  (None, 104, 104, 256)        524544    ['conv2d_11[0][0]']           \n",
      " Transpose)                                                                                       \n",
      "                                                                                                  \n",
      " cropping2d_1 (Cropping2D)   (None, 104, 104, 256)        0         ['conv2d_5[0][0]']            \n",
      "                                                                                                  \n",
      " concatenate_1 (Concatenate  (None, 104, 104, 512)        0         ['conv2d_transpose_1[0][0]',  \n",
      " )                                                                   'cropping2d_1[0][0]']        \n",
      "                                                                                                  \n",
      " conv2d_12 (Conv2D)          (None, 102, 102, 256)        1179904   ['concatenate_1[0][0]']       \n",
      "                                                                                                  \n",
      " conv2d_13 (Conv2D)          (None, 100, 100, 256)        590080    ['conv2d_12[0][0]']           \n",
      "                                                                                                  \n",
      " conv2d_transpose_2 (Conv2D  (None, 200, 200, 128)        131200    ['conv2d_13[0][0]']           \n",
      " Transpose)                                                                                       \n",
      "                                                                                                  \n",
      " cropping2d_2 (Cropping2D)   (None, 200, 200, 128)        0         ['conv2d_3[0][0]']            \n",
      "                                                                                                  \n",
      " concatenate_2 (Concatenate  (None, 200, 200, 256)        0         ['conv2d_transpose_2[0][0]',  \n",
      " )                                                                   'cropping2d_2[0][0]']        \n",
      "                                                                                                  \n",
      " conv2d_14 (Conv2D)          (None, 198, 198, 128)        295040    ['concatenate_2[0][0]']       \n",
      "                                                                                                  \n",
      " conv2d_15 (Conv2D)          (None, 196, 196, 128)        147584    ['conv2d_14[0][0]']           \n",
      "                                                                                                  \n",
      " conv2d_transpose_3 (Conv2D  (None, 392, 392, 64)         32832     ['conv2d_15[0][0]']           \n",
      " Transpose)                                                                                       \n",
      "                                                                                                  \n",
      " cropping2d_3 (Cropping2D)   (None, 392, 392, 64)         0         ['conv2d_1[0][0]']            \n",
      "                                                                                                  \n",
      " concatenate_3 (Concatenate  (None, 392, 392, 128)        0         ['conv2d_transpose_3[0][0]',  \n",
      " )                                                                   'cropping2d_3[0][0]']        \n",
      "                                                                                                  \n",
      " conv2d_16 (Conv2D)          (None, 390, 390, 64)         73792     ['concatenate_3[0][0]']       \n",
      "                                                                                                  \n"
     ]
    },
    {
     "name": "stdout",
     "output_type": "stream",
     "text": [
      " conv2d_17 (Conv2D)          (None, 388, 388, 64)         36928     ['conv2d_16[0][0]']           \n",
      "                                                                                                  \n",
      " conv2d_18 (Conv2D)          (None, 388, 388, 2)          130       ['conv2d_17[0][0]']           \n",
      "                                                                                                  \n",
      "==================================================================================================\n",
      "Total params: 31030658 (118.37 MB)\n",
      "Trainable params: 31030658 (118.37 MB)\n",
      "Non-trainable params: 0 (0.00 Byte)\n",
      "__________________________________________________________________________________________________\n"
     ]
    }
   ],
   "source": [
    "model.summary()"
   ]
  },
  {
   "cell_type": "code",
   "execution_count": 5,
   "id": "8f495d44",
   "metadata": {},
   "outputs": [
    {
     "ename": "AttributeError",
     "evalue": "'Image' object has no attribute 'create'",
     "output_type": "error",
     "traceback": [
      "\u001b[0;31m---------------------------------------------------------------------------\u001b[0m",
      "\u001b[0;31mAttributeError\u001b[0m                            Traceback (most recent call last)",
      "Cell \u001b[0;32mIn[5], line 6\u001b[0m\n\u001b[1;32m      2\u001b[0m \u001b[38;5;28;01mfrom\u001b[39;00m \u001b[38;5;21;01mkeras\u001b[39;00m\u001b[38;5;21;01m.\u001b[39;00m\u001b[38;5;21;01mutils\u001b[39;00m \u001b[38;5;28;01mimport\u001b[39;00m plot_model  \u001b[38;5;66;03m# 수정된 부분\u001b[39;00m\n\u001b[1;32m      4\u001b[0m get_ipython()\u001b[38;5;241m.\u001b[39mrun_line_magic(\u001b[38;5;124m'\u001b[39m\u001b[38;5;124mmatplotlib\u001b[39m\u001b[38;5;124m'\u001b[39m, \u001b[38;5;124m'\u001b[39m\u001b[38;5;124minline\u001b[39m\u001b[38;5;124m'\u001b[39m)\n\u001b[0;32m----> 6\u001b[0m SVG(plot_model(model, show_shapes\u001b[38;5;241m=\u001b[39m\u001b[38;5;28;01mTrue\u001b[39;00m, show_layer_names\u001b[38;5;241m=\u001b[39m\u001b[38;5;28;01mTrue\u001b[39;00m, dpi\u001b[38;5;241m=\u001b[39m\u001b[38;5;241m80\u001b[39m)\u001b[38;5;241m.\u001b[39mcreate(prog\u001b[38;5;241m=\u001b[39m\u001b[38;5;124m'\u001b[39m\u001b[38;5;124mdot\u001b[39m\u001b[38;5;124m'\u001b[39m, \u001b[38;5;28mformat\u001b[39m\u001b[38;5;241m=\u001b[39m\u001b[38;5;124m'\u001b[39m\u001b[38;5;124msvg\u001b[39m\u001b[38;5;124m'\u001b[39m))\n",
      "\u001b[0;31mAttributeError\u001b[0m: 'Image' object has no attribute 'create'"
     ]
    }
   ],
   "source": [
    "from IPython.display import SVG\n",
    "from keras.utils import plot_model  # 수정된 부분\n",
    "\n",
    "%matplotlib inline\n",
    "\n",
    "SVG(plot_model(model, show_shapes=True, show_layer_names=True, dpi=80).create(prog='dot', format='svg'))"
   ]
  },
  {
   "cell_type": "code",
   "execution_count": 6,
   "id": "9ec1ea50",
   "metadata": {},
   "outputs": [],
   "source": [
    "import numpy as np\n",
    "import tensorflow as tf"
   ]
  },
  {
   "cell_type": "code",
   "execution_count": 7,
   "id": "684c371b",
   "metadata": {},
   "outputs": [],
   "source": [
    "X = np.asarray([[1, 2], [3, 4]])"
   ]
  },
  {
   "cell_type": "code",
   "execution_count": 8,
   "id": "213a7fbc",
   "metadata": {},
   "outputs": [
    {
     "name": "stdout",
     "output_type": "stream",
     "text": [
      "[[1 2]\n",
      " [3 4]]\n",
      "(2, 2)\n"
     ]
    }
   ],
   "source": [
    "print(X) \n",
    "print(X.shape)"
   ]
  },
  {
   "cell_type": "code",
   "execution_count": 9,
   "id": "700c89b2",
   "metadata": {},
   "outputs": [],
   "source": [
    "X = X.reshape((1, 2, 2, 1)) # 2X2 크기의 흑백 이미지 한 개"
   ]
  },
  {
   "cell_type": "code",
   "execution_count": 10,
   "id": "7169dc11",
   "metadata": {},
   "outputs": [
    {
     "name": "stdout",
     "output_type": "stream",
     "text": [
      "[[[[1]\n",
      "   [2]]\n",
      "\n",
      "  [[3]\n",
      "   [4]]]]\n",
      "(1, 2, 2, 1)\n"
     ]
    }
   ],
   "source": [
    "print(X)\n",
    "print(X.shape)"
   ]
  },
  {
   "cell_type": "code",
   "execution_count": 11,
   "id": "814b90d7",
   "metadata": {},
   "outputs": [],
   "source": [
    "model = tf.keras.models.Sequential()\n",
    "model.add(tf.keras.layers.Conv2DTranspose(1, (1, 1), strides=(2, 2), input_shape=(2, 2, 1)))"
   ]
  },
  {
   "cell_type": "code",
   "execution_count": 12,
   "id": "7ec1deaa",
   "metadata": {},
   "outputs": [],
   "source": [
    "weights = [np.asarray([[[[1]]]]), np.asarray([1])]"
   ]
  },
  {
   "cell_type": "code",
   "execution_count": 13,
   "id": "3c6392ed",
   "metadata": {},
   "outputs": [
    {
     "data": {
      "text/plain": [
       "[array([[[[1]]]]), array([1])]"
      ]
     },
     "execution_count": 13,
     "metadata": {},
     "output_type": "execute_result"
    }
   ],
   "source": [
    "weights"
   ]
  },
  {
   "cell_type": "code",
   "execution_count": 14,
   "id": "67a32ad5",
   "metadata": {},
   "outputs": [],
   "source": [
    "model.set_weights(weights)"
   ]
  },
  {
   "cell_type": "code",
   "execution_count": 15,
   "id": "02669dae",
   "metadata": {},
   "outputs": [
    {
     "name": "stdout",
     "output_type": "stream",
     "text": [
      "1/1 [==============================] - 0s 44ms/step\n",
      "[[2. 1. 3. 1.]\n",
      " [1. 1. 1. 1.]\n",
      " [4. 1. 5. 1.]\n",
      " [1. 1. 1. 1.]]\n"
     ]
    }
   ],
   "source": [
    "yhat = model.predict(X) \n",
    "yhat = yhat.reshape((4, 4)) # 결과를 확인하기 편하게 reshaping\n",
    "print(yhat)"
   ]
  },
  {
   "cell_type": "code",
   "execution_count": 27,
   "id": "735f51ab",
   "metadata": {},
   "outputs": [
    {
     "name": "stdout",
     "output_type": "stream",
     "text": [
      "WARNING:tensorflow:5 out of the last 5 calls to <function Model.make_predict_function.<locals>.predict_function at 0x17f7e3100> triggered tf.function retracing. Tracing is expensive and the excessive number of tracings could be due to (1) creating @tf.function repeatedly in a loop, (2) passing tensors with different shapes, (3) passing Python objects instead of tensors. For (1), please define your @tf.function outside of the loop. For (2), @tf.function has reduce_retracing=True option that can avoid unnecessary retracing. For (3), please refer to https://www.tensorflow.org/guide/function#controlling_retracing and https://www.tensorflow.org/api_docs/python/tf/function for  more details.\n",
      "1/1 [==============================] - 0s 26ms/step\n",
      "[[ 3.  3.  5.  3.  5.  3.  3.]\n",
      " [ 3.  3.  5.  3.  5.  3.  3.]\n",
      " [ 7.  7. 13.  7. 13.  7.  7.]\n",
      " [ 5.  5.  9.  5.  9.  5.  5.]\n",
      " [11. 11. 21. 11. 21. 11. 11.]\n",
      " [ 7.  7. 13.  7. 13.  7.  7.]\n",
      " [ 7.  7. 13.  7. 13.  7.  7.]]\n"
     ]
    }
   ],
   "source": [
    "X = np.asarray([[1, 1, 1], [2, 2, 2], [3, 3, 3]])\n",
    "X = X.reshape((1, 3, 3, 1))\n",
    "\n",
    "model = tf.keras.models.Sequential()\n",
    "model.add(tf.keras.layers.Conv2DTranspose(1, (3, 3), strides=(2, 2), input_shape=(3, 3, 1)))\n",
    "\n",
    "weights = [np.full((3, 3, 1, 1), 2), np.asarray([1])]\n",
    "model.set_weights(weights)\n",
    "\n",
    "yhat = model.predict(X) \n",
    "yhat = yhat.reshape((7, 7))\n",
    "print(yhat)"
   ]
  },
  {
   "cell_type": "code",
   "execution_count": null,
   "id": "2cd03e98",
   "metadata": {},
   "outputs": [],
   "source": []
  }
 ],
 "metadata": {
  "kernelspec": {
   "display_name": "Python 3 (ipykernel)",
   "language": "python",
   "name": "python3"
  },
  "language_info": {
   "codemirror_mode": {
    "name": "ipython",
    "version": 3
   },
   "file_extension": ".py",
   "mimetype": "text/x-python",
   "name": "python",
   "nbconvert_exporter": "python",
   "pygments_lexer": "ipython3",
   "version": "3.11.5"
  }
 },
 "nbformat": 4,
 "nbformat_minor": 5
}
