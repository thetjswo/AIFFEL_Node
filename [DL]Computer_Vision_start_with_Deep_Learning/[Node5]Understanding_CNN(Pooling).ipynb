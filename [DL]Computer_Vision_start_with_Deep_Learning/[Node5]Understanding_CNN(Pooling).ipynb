{
 "cells": [
  {
   "cell_type": "code",
   "execution_count": 1,
   "id": "ba3f17d9-2ad4-418b-b944-e44ef943dde4",
   "metadata": {},
   "outputs": [],
   "source": [
    "import tensorflow as tf"
   ]
  },
  {
   "cell_type": "code",
   "execution_count": 5,
   "id": "85fe203d-c25f-496e-8d91-2a09abd80e43",
   "metadata": {},
   "outputs": [
    {
     "name": "stdout",
     "output_type": "stream",
     "text": [
      "<class 'keras.src.engine.keras_tensor.KerasTensor'>\n",
      "KerasTensor(type_spec=TensorSpec(shape=(None, 28, 28, 4), dtype=tf.float32, name=None), name='conv2d_2/Relu:0', description=\"created by layer 'conv2d_2'\")\n"
     ]
    }
   ],
   "source": [
    "input_layer = tf.keras.layers.Input(shape=(28,28,1))\n",
    "\n",
    "x = tf.keras.layers.Conv2D(filters=4, kernel_size=3, strides=1, padding='same', activation='relu')(input_layer)\n",
    "\n",
    "print(type(x))\n",
    "print(x)"
   ]
  },
  {
   "cell_type": "code",
   "execution_count": 6,
   "id": "77e55559-caf0-42e8-819e-d4bedcb7fa8e",
   "metadata": {},
   "outputs": [
    {
     "name": "stdout",
     "output_type": "stream",
     "text": [
      "(None, 28, 28, 1)\n",
      "(None, 28, 28, 4)\n"
     ]
    }
   ],
   "source": [
    "print(input_layer.shape)\n",
    "print(x.shape)"
   ]
  },
  {
   "cell_type": "code",
   "execution_count": 7,
   "id": "3846109a-e12e-43c0-a3b5-8befb125256b",
   "metadata": {},
   "outputs": [],
   "source": [
    "input_tensor = tf.keras.layers.Input(shape=(27,27,1))"
   ]
  },
  {
   "cell_type": "code",
   "execution_count": 9,
   "id": "1edb13e4-649f-45fd-bc71-9ce911eee30b",
   "metadata": {},
   "outputs": [],
   "source": [
    "x1 = tf.keras.layers.Conv2D(filters=6, kernel_size=2, padding='same', strides=2, activation='relu')(input_tensor)"
   ]
  },
  {
   "cell_type": "code",
   "execution_count": 10,
   "id": "02aee27b-d134-42c9-b97d-8da53e57e494",
   "metadata": {},
   "outputs": [
    {
     "name": "stdout",
     "output_type": "stream",
     "text": [
      "KerasTensor(type_spec=TensorSpec(shape=(None, 14, 14, 6), dtype=tf.float32, name=None), name='conv2d_3/Relu:0', description=\"created by layer 'conv2d_3'\")\n",
      "KerasTensor(type_spec=TensorSpec(shape=(None, 7, 7, 6), dtype=tf.float32, name=None), name='max_pooling2d/MaxPool:0', description=\"created by layer 'max_pooling2d'\")\n"
     ]
    }
   ],
   "source": [
    "x2 = tf.keras.layers.MaxPooling2D(2)(x1) \n",
    "print(x1)\n",
    "print(x2)"
   ]
  },
  {
   "cell_type": "code",
   "execution_count": 11,
   "id": "38b50231-d7f0-4a93-962b-04d18d2ad7ff",
   "metadata": {},
   "outputs": [
    {
     "name": "stdout",
     "output_type": "stream",
     "text": [
      "Model: \"model\"\n",
      "_________________________________________________________________\n",
      " Layer (type)                Output Shape              Param #   \n",
      "=================================================================\n",
      " input_5 (InputLayer)        [(None, 7, 7, 5)]         0         \n",
      "                                                                 \n",
      " conv2d_4 (Conv2D)           (None, 7, 7, 4)           184       \n",
      "                                                                 \n",
      " conv2d_5 (Conv2D)           (None, 7, 7, 8)           296       \n",
      "                                                                 \n",
      " max_pooling2d_1 (MaxPoolin  (None, 3, 3, 8)           0         \n",
      " g2D)                                                            \n",
      "                                                                 \n",
      "=================================================================\n",
      "Total params: 480 (1.88 KB)\n",
      "Trainable params: 480 (1.88 KB)\n",
      "Non-trainable params: 0 (0.00 Byte)\n",
      "_________________________________________________________________\n"
     ]
    }
   ],
   "source": [
    "input_layer = tf.keras.layers.Input(shape=(7,7,5))\n",
    "convlayer1 = tf.keras.layers.Conv2D(filters=4, kernel_size=3, strides=1, padding='same')(input_layer)\n",
    "convlayer2 = tf.keras.layers.Conv2D(filters=8, kernel_size=3, strides=1, padding='same')(convlayer1)\n",
    "pooling = tf.keras.layers.MaxPooling2D(2)(convlayer2)\n",
    "\n",
    "model = tf.keras.Model(inputs= input_layer, outputs=pooling)\n",
    "model.summary()"
   ]
  },
  {
   "cell_type": "code",
   "execution_count": 16,
   "id": "850f87e2-d193-42e8-9542-9da73fcdaa62",
   "metadata": {},
   "outputs": [],
   "source": [
    "input_tensor = tf.keras.layers.Input(shape=(28, 28, 1)) # (28,28,1)\n",
    "x = tf.keras.layers.Conv2D(filters=32, kernel_size=3, strides=1, padding='same', activation='relu')(input_tensor) # (28,28, 32)\n",
    "x = tf.keras.layers.Conv2D(filters=64, kernel_size=3, activation='relu')(x) # (26, 26, 64)\n",
    "x = tf.keras.layers.MaxPooling2D(2)(x) # (13, 13, 64)\n",
    "\n",
    "x = tf.keras.layers.Flatten()(x) # (10816)\n",
    "\n",
    "x = tf.keras.layers.Dense(100, activation= 'relu')(x) # (100)\n",
    "output = tf.keras.layers.Dense(10, activation='softmax')(x) # (10)"
   ]
  },
  {
   "cell_type": "code",
   "execution_count": 17,
   "id": "390a890a-6525-46ec-8a45-d6c9fd01e4a2",
   "metadata": {},
   "outputs": [
    {
     "name": "stdout",
     "output_type": "stream",
     "text": [
      "Model: \"model_3\"\n",
      "_________________________________________________________________\n",
      " Layer (type)                Output Shape              Param #   \n",
      "=================================================================\n",
      " input_8 (InputLayer)        [(None, 28, 28, 1)]       0         \n",
      "                                                                 \n",
      " conv2d_10 (Conv2D)          (None, 28, 28, 32)        320       \n",
      "                                                                 \n",
      " conv2d_11 (Conv2D)          (None, 26, 26, 64)        18496     \n",
      "                                                                 \n",
      " max_pooling2d_4 (MaxPoolin  (None, 13, 13, 64)        0         \n",
      " g2D)                                                            \n",
      "                                                                 \n",
      " flatten_2 (Flatten)         (None, 10816)             0         \n",
      "                                                                 \n",
      " dense_4 (Dense)             (None, 100)               1081700   \n",
      "                                                                 \n",
      " dense_5 (Dense)             (None, 10)                1010      \n",
      "                                                                 \n",
      "=================================================================\n",
      "Total params: 1101526 (4.20 MB)\n",
      "Trainable params: 1101526 (4.20 MB)\n",
      "Non-trainable params: 0 (0.00 Byte)\n",
      "_________________________________________________________________\n"
     ]
    }
   ],
   "source": [
    "model = tf.keras.Model(inputs=input_tensor, outputs=output)\n",
    "model.summary()"
   ]
  },
  {
   "cell_type": "code",
   "execution_count": null,
   "id": "e5a067ac-f5df-4d67-8e74-64181a611843",
   "metadata": {},
   "outputs": [],
   "source": []
  }
 ],
 "metadata": {
  "kernelspec": {
   "display_name": "Python 3 (ipykernel)",
   "language": "python",
   "name": "python3"
  },
  "language_info": {
   "codemirror_mode": {
    "name": "ipython",
    "version": 3
   },
   "file_extension": ".py",
   "mimetype": "text/x-python",
   "name": "python",
   "nbconvert_exporter": "python",
   "pygments_lexer": "ipython3",
   "version": "3.10.13"
  }
 },
 "nbformat": 4,
 "nbformat_minor": 5
}
