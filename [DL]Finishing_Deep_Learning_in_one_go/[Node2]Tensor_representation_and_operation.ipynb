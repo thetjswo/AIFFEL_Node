{
 "cells": [
  {
   "cell_type": "code",
   "execution_count": 1,
   "id": "a9ffbeee-9f29-4eeb-a212-739f55557832",
   "metadata": {},
   "outputs": [],
   "source": [
    "import tensorflow as tf"
   ]
  },
  {
   "cell_type": "code",
   "execution_count": 3,
   "id": "3c0ca867-983a-4226-9906-fcf92e2c0a5b",
   "metadata": {},
   "outputs": [
    {
     "name": "stdout",
     "output_type": "stream",
     "text": [
      "tf.Tensor(1, shape=(), dtype=int32)\n",
      "tf.Tensor(0, shape=(), dtype=int32)\n"
     ]
    }
   ],
   "source": [
    "t0 = tf.constant(1)\n",
    "print(t0)\n",
    "print(tf.rank(t0))"
   ]
  },
  {
   "cell_type": "code",
   "execution_count": 4,
   "id": "de80cf4c-5ffc-4235-8796-df5d551b22fc",
   "metadata": {},
   "outputs": [
    {
     "name": "stdout",
     "output_type": "stream",
     "text": [
      "tf.Tensor([1 2 3], shape=(3,), dtype=int32)\n",
      "tf.Tensor(1, shape=(), dtype=int32)\n"
     ]
    }
   ],
   "source": [
    "t1 = tf.constant([1,2,3])\n",
    "print(t1)\n",
    "print(tf.rank(t1))"
   ]
  },
  {
   "cell_type": "code",
   "execution_count": 5,
   "id": "9300b85a-5478-44e1-bc24-e6e7077f4291",
   "metadata": {},
   "outputs": [
    {
     "name": "stdout",
     "output_type": "stream",
     "text": [
      "tf.Tensor(\n",
      "[[1 2 3]\n",
      " [4 5 6]\n",
      " [7 8 9]], shape=(3, 3), dtype=int32)\n",
      "tf.Tensor(2, shape=(), dtype=int32)\n"
     ]
    }
   ],
   "source": [
    "t2 = tf.constant([[1,2,3],[4,5,6],[7,8,9]])\n",
    "print(t2)\n",
    "print(tf.rank(t2))"
   ]
  },
  {
   "cell_type": "code",
   "execution_count": 6,
   "id": "96f44f6c-84b9-4c4d-aa10-2e475052cea8",
   "metadata": {},
   "outputs": [
    {
     "name": "stdout",
     "output_type": "stream",
     "text": [
      "tf.Tensor(\n",
      "[[[ 1  2  3]\n",
      "  [ 4  5  6]\n",
      "  [ 7  8  9]]\n",
      "\n",
      " [[10 11 12]\n",
      "  [13 14 15]\n",
      "  [16 17 18]]\n",
      "\n",
      " [[19 20 21]\n",
      "  [22 23 24]\n",
      "  [25 26 27]]], shape=(3, 3, 3), dtype=int32)\n",
      "tf.Tensor(3, shape=(), dtype=int32)\n"
     ]
    }
   ],
   "source": [
    "t3 = tf.constant([[[1,2,3],[4,5,6],[7,8,9]],[[10,11,12],[13,14,15],[16,17,18]],[[19,20,21],[22,23,24],[25,26,27]]])\n",
    "print(t3)\n",
    "print(tf.rank(t3))"
   ]
  },
  {
   "cell_type": "code",
   "execution_count": 7,
   "id": "e3c91e82-b332-48ca-a625-abd04e89a5b9",
   "metadata": {},
   "outputs": [
    {
     "name": "stdout",
     "output_type": "stream",
     "text": [
      "tf.Tensor(2, shape=(), dtype=int32)\n"
     ]
    }
   ],
   "source": [
    "i = tf.constant(2)\n",
    "print(i)"
   ]
  },
  {
   "cell_type": "code",
   "execution_count": 9,
   "id": "2c1fd61a-50fa-4613-abc0-4c90d023684c",
   "metadata": {},
   "outputs": [
    {
     "name": "stdout",
     "output_type": "stream",
     "text": [
      "tf.Tensor(2.0, shape=(), dtype=float32)\n"
     ]
    }
   ],
   "source": [
    "f = tf.constant(2.)\n",
    "print(f)"
   ]
  },
  {
   "cell_type": "code",
   "execution_count": 10,
   "id": "98bbe02e-1251-4789-878e-b5fa4f170a7d",
   "metadata": {},
   "outputs": [
    {
     "name": "stdout",
     "output_type": "stream",
     "text": [
      "tf.Tensor(b'seonjae', shape=(), dtype=string)\n"
     ]
    }
   ],
   "source": [
    "s = tf.constant('seonjae')\n",
    "print(s)"
   ]
  },
  {
   "cell_type": "code",
   "execution_count": 11,
   "id": "e92d9f80-2e48-4e55-b1bb-d006c30c9890",
   "metadata": {},
   "outputs": [
    {
     "name": "stdout",
     "output_type": "stream",
     "text": [
      "tf.Tensor(2.0, shape=(), dtype=float16)\n"
     ]
    }
   ],
   "source": [
    "f16 = tf.constant(2., dtype=tf.float16)\n",
    "print(f16)"
   ]
  },
  {
   "cell_type": "code",
   "execution_count": 12,
   "id": "57ee4c67-f404-4172-9270-260ee8556687",
   "metadata": {},
   "outputs": [
    {
     "name": "stdout",
     "output_type": "stream",
     "text": [
      "tf.Tensor(2, shape=(), dtype=int8)\n"
     ]
    }
   ],
   "source": [
    "i8 = tf.constant(2, dtype=tf.int8)\n",
    "print(i8)"
   ]
  },
  {
   "cell_type": "code",
   "execution_count": 13,
   "id": "f53e379b-5275-4183-8899-7476ffc2ae3f",
   "metadata": {},
   "outputs": [
    {
     "name": "stdout",
     "output_type": "stream",
     "text": [
      "tf.Tensor(2.0, shape=(), dtype=float32)\n"
     ]
    }
   ],
   "source": [
    "f32 = tf.cast(f16, tf.float32)\n",
    "print(f32)"
   ]
  },
  {
   "cell_type": "code",
   "execution_count": 14,
   "id": "bbb3cb93-f7ef-4e9b-b267-baa77e20d13c",
   "metadata": {},
   "outputs": [
    {
     "name": "stdout",
     "output_type": "stream",
     "text": [
      "tf.Tensor(2, shape=(), dtype=int32)\n"
     ]
    }
   ],
   "source": [
    "i32 = tf.cast(i8, tf.int32)\n",
    "print(i32)"
   ]
  },
  {
   "cell_type": "code",
   "execution_count": 15,
   "id": "2ca943c2-3719-4008-9f6b-b9105d223221",
   "metadata": {},
   "outputs": [
    {
     "name": "stdout",
     "output_type": "stream",
     "text": [
      "tf.Tensor(\n",
      "[[1]\n",
      " [2]\n",
      " [3]], shape=(3, 1), dtype=int32)\n",
      "(3, 1)\n",
      "tf.Tensor([[1 2 3]], shape=(1, 3), dtype=int32)\n",
      "(1, 3)\n"
     ]
    }
   ],
   "source": [
    "x = tf.constant([[1], [2], [3]])\n",
    "print(x)\n",
    "print(x.shape)\n",
    "\n",
    "y = tf.reshape(x, [1, 3])\n",
    "print(y)\n",
    "print(y.shape)"
   ]
  },
  {
   "cell_type": "code",
   "execution_count": 16,
   "id": "2867ae33-52b5-403b-abca-c69c3c3da4c4",
   "metadata": {},
   "outputs": [
    {
     "name": "stdout",
     "output_type": "stream",
     "text": [
      "tf.Tensor([[1 2 3]], shape=(1, 3), dtype=int32)\n",
      "tf.Tensor(\n",
      "[[1]\n",
      " [2]\n",
      " [3]], shape=(3, 1), dtype=int32)\n",
      "(1, 3)\n"
     ]
    }
   ],
   "source": [
    "print(y)\n",
    "print(tf.transpose(y))\n",
    "print(y.shape)"
   ]
  },
  {
   "cell_type": "code",
   "execution_count": 17,
   "id": "e88c9077-d7ba-4fca-bac7-07c04cec53b7",
   "metadata": {},
   "outputs": [
    {
     "name": "stdout",
     "output_type": "stream",
     "text": [
      "tf.Tensor(\n",
      "[[1]\n",
      " [2]\n",
      " [3]], shape=(3, 1), dtype=int32)\n",
      "tf.Tensor([1 2 3], shape=(3,), dtype=int32)\n"
     ]
    }
   ],
   "source": [
    "print(x)\n",
    "print(tf.squeeze(x))"
   ]
  },
  {
   "cell_type": "code",
   "execution_count": 18,
   "id": "f46ef3b7-23b1-4f66-92f4-ec7f5810d175",
   "metadata": {},
   "outputs": [
    {
     "name": "stdout",
     "output_type": "stream",
     "text": [
      "tf.Tensor([[1 2 3]], shape=(1, 3), dtype=int32)\n",
      "tf.Tensor([[[1 2 3]]], shape=(1, 1, 3), dtype=int32)\n",
      "tf.Tensor([[[1 2 3]]], shape=(1, 1, 3), dtype=int32)\n",
      "tf.Tensor(\n",
      "[[[1]\n",
      "  [2]\n",
      "  [3]]], shape=(1, 3, 1), dtype=int32)\n"
     ]
    }
   ],
   "source": [
    "print(y)\n",
    "print(tf.expand_dims(y, axis=0))\n",
    "print(tf.expand_dims(y, axis=1))\n",
    "print(tf.expand_dims(y, axis=2))"
   ]
  },
  {
   "cell_type": "code",
   "execution_count": 19,
   "id": "791315a5-6326-4492-83eb-7cac9ff835b1",
   "metadata": {},
   "outputs": [
    {
     "name": "stdout",
     "output_type": "stream",
     "text": [
      "tf.Tensor(\n",
      "[[1]\n",
      " [2]\n",
      " [3]], shape=(3, 1), dtype=int32)\n",
      "[<tf.Tensor: shape=(1, 1), dtype=int32, numpy=array([[1]], dtype=int32)>, <tf.Tensor: shape=(1, 1), dtype=int32, numpy=array([[2]], dtype=int32)>, <tf.Tensor: shape=(1, 1), dtype=int32, numpy=array([[3]], dtype=int32)>]\n"
     ]
    }
   ],
   "source": [
    "print(x)\n",
    "print(tf.split(x, 3))"
   ]
  },
  {
   "cell_type": "code",
   "execution_count": 20,
   "id": "a7129f2f-8d2a-4023-bbd3-797351a389ee",
   "metadata": {},
   "outputs": [
    {
     "name": "stdout",
     "output_type": "stream",
     "text": [
      "tf.Tensor(\n",
      "[[1]\n",
      " [2]\n",
      " [3]], shape=(3, 1), dtype=int32)\n",
      "tf.Tensor(\n",
      "[[1]\n",
      " [2]\n",
      " [3]\n",
      " [1]\n",
      " [2]\n",
      " [3]], shape=(6, 1), dtype=int32)\n",
      "tf.Tensor(\n",
      "[[1 1]\n",
      " [2 2]\n",
      " [3 3]], shape=(3, 2), dtype=int32)\n"
     ]
    }
   ],
   "source": [
    "print(x)\n",
    "print(tf.concat([x, x], axis=0))\n",
    "print(tf.concat([x, x], axis=1))"
   ]
  },
  {
   "cell_type": "code",
   "execution_count": 21,
   "id": "e31bd70b-f0cd-40ec-9c4c-a44567cbec95",
   "metadata": {},
   "outputs": [
    {
     "name": "stdout",
     "output_type": "stream",
     "text": [
      "tf.Tensor(4, shape=(), dtype=int32)\n",
      "tf.Tensor(0, shape=(), dtype=int32)\n",
      "tf.Tensor(4, shape=(), dtype=int32)\n",
      "tf.Tensor(0, shape=(), dtype=int32)\n"
     ]
    }
   ],
   "source": [
    "print(tf.constant(2) + tf.constant(2))\n",
    "print(tf.constant(2) - tf.constant(2))\n",
    "print(tf.add(tf.constant(2), tf.constant(2)))\n",
    "print(tf.subtract(tf.constant(2), tf.constant(2)))"
   ]
  },
  {
   "cell_type": "code",
   "execution_count": 22,
   "id": "4a1faa6a-e35e-4090-aca6-cfba3bf78a7e",
   "metadata": {},
   "outputs": [
    {
     "name": "stdout",
     "output_type": "stream",
     "text": [
      "tf.Tensor(4, shape=(), dtype=int32)\n",
      "tf.Tensor(1.0, shape=(), dtype=float64)\n",
      "tf.Tensor(4, shape=(), dtype=int32)\n",
      "tf.Tensor(1.0, shape=(), dtype=float64)\n"
     ]
    }
   ],
   "source": [
    "print(tf.constant(2) * tf.constant(2))\n",
    "print(tf.constant(2) / tf.constant(2))\n",
    "print(tf.multiply(tf.constant(2), tf.constant(2)))\n",
    "print(tf.divide(tf.constant(2), tf.constant(2)))"
   ]
  },
  {
   "cell_type": "code",
   "execution_count": 23,
   "id": "3a118703-7087-4f91-9a1a-d1cae02ad86e",
   "metadata": {},
   "outputs": [
    {
     "name": "stdout",
     "output_type": "stream",
     "text": [
      "tf.Tensor(4.2, shape=(), dtype=float32)\n"
     ]
    }
   ],
   "source": [
    "print(tf.cast(tf.constant(2), tf.float32) + tf.constant(2.2))"
   ]
  },
  {
   "cell_type": "code",
   "execution_count": 24,
   "id": "9e499326-73de-4aa4-bda7-8295c7eb4e13",
   "metadata": {},
   "outputs": [
    {
     "name": "stdout",
     "output_type": "stream",
     "text": [
      "tf.Tensor(\n",
      "[[2 3 4]\n",
      " [3 4 5]\n",
      " [4 5 6]], shape=(3, 3), dtype=int32)\n",
      "tf.Tensor(\n",
      "[[2 3 4]\n",
      " [3 4 5]\n",
      " [4 5 6]], shape=(3, 3), dtype=int32)\n",
      "tf.Tensor(\n",
      "[[ 0  1  2]\n",
      " [-1  0  1]\n",
      " [-2 -1  0]], shape=(3, 3), dtype=int32)\n",
      "tf.Tensor(\n",
      "[[ 0  1  2]\n",
      " [-1  0  1]\n",
      " [-2 -1  0]], shape=(3, 3), dtype=int32)\n",
      "tf.Tensor(\n",
      "[[1 2 3]\n",
      " [2 4 6]\n",
      " [3 6 9]], shape=(3, 3), dtype=int32)\n",
      "tf.Tensor(\n",
      "[[1 2 3]\n",
      " [2 4 6]\n",
      " [3 6 9]], shape=(3, 3), dtype=int32)\n",
      "tf.Tensor(\n",
      "[[1.         0.5        0.33333333]\n",
      " [2.         1.         0.66666667]\n",
      " [3.         1.5        1.        ]], shape=(3, 3), dtype=float64)\n",
      "tf.Tensor(\n",
      "[[1.         0.5        0.33333333]\n",
      " [2.         1.         0.66666667]\n",
      " [3.         1.5        1.        ]], shape=(3, 3), dtype=float64)\n"
     ]
    }
   ],
   "source": [
    "print(x+y)\n",
    "print(tf.add(x,y))\n",
    "print(y-x)\n",
    "print(tf.subtract(y,x))\n",
    "print(x*y)\n",
    "print(tf.multiply(x,y))\n",
    "print(x/y)\n",
    "print(tf.divide(x,y))"
   ]
  },
  {
   "cell_type": "code",
   "execution_count": 25,
   "id": "cc6d07a9-616b-4438-bdcc-e6f30a5d5265",
   "metadata": {},
   "outputs": [
    {
     "name": "stdout",
     "output_type": "stream",
     "text": [
      "tf.Tensor(\n",
      "[[5 5]\n",
      " [5 5]], shape=(2, 2), dtype=int32)\n",
      "tf.Tensor(\n",
      "[[1 1]\n",
      " [1 1]], shape=(2, 2), dtype=int32)\n",
      "tf.Tensor(\n",
      "[[6 6]\n",
      " [6 6]], shape=(2, 2), dtype=int32)\n",
      "tf.Tensor(\n",
      "[[12 12]\n",
      " [12 12]], shape=(2, 2), dtype=int32)\n",
      "tf.Tensor(\n",
      "[[1.5 1.5]\n",
      " [1.5 1.5]], shape=(2, 2), dtype=float64)\n"
     ]
    }
   ],
   "source": [
    "a = tf.constant([[3,3],[3,3]])\n",
    "b = tf.constant([[2,2],[2,2]])\n",
    "\n",
    "print(a + b) # element-wise addition\n",
    "print(a - b) # element-wise subtraction\n",
    "print(a * b) # element-wise multiplication\n",
    "print(a @ b) # matrix multiplication\n",
    "print(a / b) # element-wise division"
   ]
  },
  {
   "cell_type": "code",
   "execution_count": 26,
   "id": "14de110a-2c3d-4d4a-a90b-0291e608530c",
   "metadata": {},
   "outputs": [
    {
     "name": "stdout",
     "output_type": "stream",
     "text": [
      "tf.Tensor(\n",
      "[[5 5]\n",
      " [5 5]], shape=(2, 2), dtype=int32)\n",
      "tf.Tensor(\n",
      "[[1 1]\n",
      " [1 1]], shape=(2, 2), dtype=int32)\n",
      "tf.Tensor(\n",
      "[[6 6]\n",
      " [6 6]], shape=(2, 2), dtype=int32)\n",
      "tf.Tensor(\n",
      "[[12 12]\n",
      " [12 12]], shape=(2, 2), dtype=int32)\n",
      "tf.Tensor(\n",
      "[[1.5 1.5]\n",
      " [1.5 1.5]], shape=(2, 2), dtype=float64)\n"
     ]
    }
   ],
   "source": [
    "print(tf.add(a, b))\n",
    "print(tf.subtract(a, b))\n",
    "print(tf.multiply(a, b))\n",
    "print(tf.matmul(a, b))\n",
    "print(tf.divide(a, b))"
   ]
  },
  {
   "cell_type": "code",
   "execution_count": 27,
   "id": "720805be-952d-4fc3-8ebd-51b326ca0cb6",
   "metadata": {},
   "outputs": [
    {
     "name": "stdout",
     "output_type": "stream",
     "text": [
      "tf.Tensor(10.0, shape=(), dtype=float32)\n",
      "tf.Tensor([1 1 1], shape=(3,), dtype=int64)\n",
      "tf.Tensor(\n",
      "[[0.09003057 0.24472848 0.66524094]\n",
      " [0.66524094 0.24472848 0.09003057]], shape=(2, 3), dtype=float32)\n"
     ]
    }
   ],
   "source": [
    "c = tf.constant([[4.0, 5.0, 6.0], \n",
    "                 [10.0, 9.0, 8.0]])\n",
    "\n",
    "print(tf.reduce_max(c))\n",
    "print(tf.argmax(c))\n",
    "print(tf.nn.softmax(c))"
   ]
  },
  {
   "cell_type": "code",
   "execution_count": null,
   "id": "e3485a4e-2af3-4486-8a5f-2d82df276fe5",
   "metadata": {},
   "outputs": [],
   "source": []
  }
 ],
 "metadata": {
  "kernelspec": {
   "display_name": "Python 3 (ipykernel)",
   "language": "python",
   "name": "python3"
  },
  "language_info": {
   "codemirror_mode": {
    "name": "ipython",
    "version": 3
   },
   "file_extension": ".py",
   "mimetype": "text/x-python",
   "name": "python",
   "nbconvert_exporter": "python",
   "pygments_lexer": "ipython3",
   "version": "3.10.13"
  }
 },
 "nbformat": 4,
 "nbformat_minor": 5
}
