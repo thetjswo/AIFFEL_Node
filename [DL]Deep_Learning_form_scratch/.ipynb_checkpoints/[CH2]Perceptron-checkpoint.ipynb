{
 "cells": [
  {
   "cell_type": "markdown",
   "id": "f74d48d3",
   "metadata": {},
   "source": [
    "\n",
    "## 퍼셉트론이란?\n",
    "* 다수의 신호를 받아 하나의 신호를 출력\n",
    "\t* 신호는 전류나 강물처럼 **흐름**이 있는 것의 개념이다.\n",
    "\t* 전류가 전선을 타고 전자를 흘려보내듯, 퍼셉트론 신호도 흐름을 만들고 정보를 앞으로 전달한다.\n",
    "*  퍼셉트론 신호는 흐른다(1)/흐르지 않는다(0) 두 가지 값으로 구분된다.\n",
    "\n",
    "입력신호를 x, 가중치를 w, 출력 신호르 y라고 하면 y = wx 로 표현이 가능하다.\n",
    "y = 1 (w₁x₁ + w₂x₂ + ⋯ wₙxₙ > θ) : 뉴런 활성화\n",
    "y = 0 (w₁x₁ + w₂x₂ + ⋯ wₙxₙ <= θ) : 뉴런 비활성화\n",
    "퍼셉트론의 가중치가 클수록 강한 신호를 흘려보낸다.\n",
    "\n",
    "## 단순한 논리 회로\n",
    "\n",
    "### AND 게이트\n",
    "* AND 게이트: 입력 값 두 개 모두 1이면 1출력\n",
    "* 진리표  \n",
    "\tx₁    x₂    y  \n",
    "\t0      0    0  \n",
    "\t1      0    0  \n",
    "\t0      1    0  \n",
    "\t1      1    1  \n",
    "* (w₁, w₂, θ)의 w₁와 w₂의 합이 θ를 초과하면 AND 게이트의 조건을 만족한다.\n",
    "\t* ex) (0.1, 0.1, 0.1)\n",
    "\n",
    "### NAND 게이트와 OR 게이트\n",
    "* NAND 게이트: AND 게이트의 출력을 뒤집은 것이다.\n",
    "*  진리표  \n",
    "\tx₁    x₂    y  \n",
    "\t0      0    1  \n",
    "\t1      0    1  \n",
    "\t0      1    1  \n",
    "\t1      1    0\n",
    "\tex) (-0.1,-0.1,-0.1) : AND 게이트 매개변수의 부호를 반전\n",
    "* OR 게이트: 입력값 중 1개 이상이 1이면 1출력\n",
    "* 진리표  \n",
    "\tx₁    x₂    y  \n",
    "\t0      0    0  \n",
    "\t1      0    1  \n",
    "\t0      1    1  \n",
    "\t1      1    1\n",
    "\tex) (1, -0.5, 0.1)??"
   ]
  },
  {
   "cell_type": "code",
   "execution_count": 1,
   "id": "52a3cbc0",
   "metadata": {},
   "outputs": [],
   "source": [
    "def AND(x1, x2):\n",
    "    w1, w2, theta = 0.5, 0.5, 0.7  # (0.5, 0.5, 0.7)\n",
    "    tmp = x1*w1 + x2*w2\n",
    "    if tmp <= theta:\n",
    "        return 0\n",
    "    elif tmp > theta:\n",
    "        return 1"
   ]
  },
  {
   "cell_type": "code",
   "execution_count": 4,
   "id": "474eadf6",
   "metadata": {},
   "outputs": [
    {
     "data": {
      "text/plain": [
       "(0, 0, 0, 1)"
      ]
     },
     "execution_count": 4,
     "metadata": {},
     "output_type": "execute_result"
    }
   ],
   "source": [
    "AND(0,0),AND(1,0),AND(0,1),AND(1,1)"
   ]
  },
  {
   "cell_type": "markdown",
   "id": "4178a371",
   "metadata": {},
   "source": [
    "앞서 구현한 AND 게이트를 다른 방식으로 수정해본다.\n",
    "θ를 -b로 치환하면 퍼셉트론의 동작을 다음과 같이 표현할 수 있다.\n",
    "* y = 1 (b + w₁x₁ + w₂x₂ + ⋯ wₙxₙ > 0) : 뉴런 활성화 \n",
    "* y = 0 (b + w₁x₁ + w₂x₂ + ⋯ wₙxₙ <= 0) : 뉴런 비활성화  \n",
    "\n",
    "여기에서 b를 '편향'이라고 표현하며, w는 그대로 가중치이다."
   ]
  },
  {
   "cell_type": "code",
   "execution_count": 5,
   "id": "8ba00d9d",
   "metadata": {},
   "outputs": [
    {
     "data": {
      "text/plain": [
       "array([0. , 0.5])"
      ]
     },
     "execution_count": 5,
     "metadata": {},
     "output_type": "execute_result"
    }
   ],
   "source": [
    "import numpy as np\n",
    "x = np.array([0,1]) # 입력\n",
    "w = np.array([0.5,0.5]) # 가중치 -- 가중치는 기울기?\n",
    "b = -0.7 # 편향\n",
    "w*x"
   ]
  },
  {
   "cell_type": "code",
   "execution_count": 6,
   "id": "1efa9ffb",
   "metadata": {},
   "outputs": [
    {
     "data": {
      "text/plain": [
       "0.5"
      ]
     },
     "execution_count": 6,
     "metadata": {},
     "output_type": "execute_result"
    }
   ],
   "source": [
    "np.sum(w*x)"
   ]
  },
  {
   "cell_type": "code",
   "execution_count": 7,
   "id": "ca6d6009",
   "metadata": {},
   "outputs": [
    {
     "data": {
      "text/plain": [
       "-0.19999999999999996"
      ]
     },
     "execution_count": 7,
     "metadata": {},
     "output_type": "execute_result"
    }
   ],
   "source": [
    "np.sum(w*x) + b"
   ]
  },
  {
   "cell_type": "markdown",
   "id": "1fc5badd",
   "metadata": {},
   "source": [
    "* numpy 배열끼리의 연산은 원소 개수가 같다면 각 원소끼리 연산한다."
   ]
  },
  {
   "cell_type": "markdown",
   "id": "3a0c2975",
   "metadata": {},
   "source": [
    "### 가중치와 편향 구현하기"
   ]
  },
  {
   "cell_type": "code",
   "execution_count": 10,
   "id": "c350224d",
   "metadata": {},
   "outputs": [],
   "source": [
    "def AND(x1, x2):\n",
    "    x = np.array([x1, x2])\n",
    "    w = np.array([0.5,0.5])\n",
    "    b = -0.7\n",
    "    \n",
    "    tmp = np.sum(w*x) + b\n",
    "    if tmp <= 0:\n",
    "        return 0\n",
    "    else:\n",
    "        return 1"
   ]
  },
  {
   "cell_type": "markdown",
   "id": "4528a5ab",
   "metadata": {},
   "source": [
    "* 가중치 w는 각 입력신호가 결과에 주는 영향력을 조절하는 매개변수이다.\n",
    "* 편향은 뉴런이 얼마나 쉽게 활성화를 하느냐를 조정하는 매개변수이다.  - 뉴런 활성화 여부를 결정하는 기준치라고 볼 수 있나?\n"
   ]
  },
  {
   "cell_type": "code",
   "execution_count": 11,
   "id": "8394101a",
   "metadata": {},
   "outputs": [
    {
     "data": {
      "text/plain": [
       "(0, 0, 0, 1)"
      ]
     },
     "execution_count": 11,
     "metadata": {},
     "output_type": "execute_result"
    }
   ],
   "source": [
    "AND(0,0),AND(1,0),AND(0,1),AND(1,1)"
   ]
  },
  {
   "cell_type": "code",
   "execution_count": 12,
   "id": "f34f0fbb",
   "metadata": {},
   "outputs": [],
   "source": [
    "def NAND(x1, x2):\n",
    "    x = np.array([x1, x2])\n",
    "    w = np.array([-0.5, -0.5])\n",
    "    b = 0.7\n",
    "    \n",
    "    tmp = np.sum(w*x) + b\n",
    "    if tmp <= 0:\n",
    "        return 0\n",
    "    else:\n",
    "        return 1\n",
    "    \n",
    "def OR(x1, x2):\n",
    "    x = np.array([x1,x2])\n",
    "    w = np.array([0.5, 0.5])\n",
    "    b = -0.2\n",
    "    \n",
    "    tmp = np.sum(w*x) + b\n",
    "    if tmp <= 0:\n",
    "        return 0\n",
    "    else:\n",
    "        return 1"
   ]
  },
  {
   "cell_type": "code",
   "execution_count": 13,
   "id": "107459ac",
   "metadata": {},
   "outputs": [
    {
     "data": {
      "text/plain": [
       "(1, 1, 1, 0)"
      ]
     },
     "execution_count": 13,
     "metadata": {},
     "output_type": "execute_result"
    }
   ],
   "source": [
    "NAND(0,0),NAND(1,0),NAND(0,1),NAND(1,1)"
   ]
  },
  {
   "cell_type": "code",
   "execution_count": 14,
   "id": "9608680e",
   "metadata": {},
   "outputs": [
    {
     "data": {
      "text/plain": [
       "(0, 1, 1, 1)"
      ]
     },
     "execution_count": 14,
     "metadata": {},
     "output_type": "execute_result"
    }
   ],
   "source": [
    "OR(0,0),OR(1,0),OR(0,1),OR(1,1)"
   ]
  },
  {
   "cell_type": "markdown",
   "id": "26fb7f4f",
   "metadata": {},
   "source": [
    "## 퍼셉트론의 한계\n",
    "XOR 게이튼는 **배타적 논리합**이라는 논리 회로이다.\n",
    "\tx₁    x₂    y  \n",
    "\t0      0    0  \n",
    "\t1      0    1  \n",
    "\t0      1    1  \n",
    "\t1      1    0  \n",
    "$x_1$과 $x_2$ 중 한 쪽이 1일 때만 1을 출력한다.\n",
    "그래프 나중에 추가\n",
    "\n",
    "퍼셉트론은 직선 하나로 나눈 영역만 표현할 수 있다는 한계가 있어 배타적 논리합은 표현할 수 없다.\n",
    "하지만 이러한 한계는 단층 퍼셉트론이 가지고 있을 뿐, 다층 퍼셉트론을 이용하면 한계를 극복할 수 있다.\n",
    "\n",
    "$x_1  x_2  s_1  s_2  y$  \n",
    "0      0    1    0   0     \n",
    "1      0    1    1   1   \n",
    "0      1    1    1   1  \n",
    "1      1    0    0   0  \n",
    "\n"
   ]
  },
  {
   "cell_type": "markdown",
   "id": "1498d5c3",
   "metadata": {},
   "source": [
    "## XOR 게이트 구현하기"
   ]
  },
  {
   "cell_type": "code",
   "execution_count": 15,
   "id": "ee1f4940",
   "metadata": {},
   "outputs": [],
   "source": [
    "def XOR(x1, x2):\n",
    "    s1 = NAND(x1, x2)\n",
    "    s2 = OR(x1, x2)\n",
    "    y = AND(s1, s2)\n",
    "    return y"
   ]
  },
  {
   "cell_type": "code",
   "execution_count": 16,
   "id": "17704fe1",
   "metadata": {},
   "outputs": [
    {
     "data": {
      "text/plain": [
       "(0, 1, 1, 0)"
      ]
     },
     "execution_count": 16,
     "metadata": {},
     "output_type": "execute_result"
    }
   ],
   "source": [
    "XOR(0, 0), XOR(1, 0), XOR(0, 1), XOR(1, 1)"
   ]
  },
  {
   "cell_type": "markdown",
   "id": "e5f7147b",
   "metadata": {},
   "source": [
    "나중에 그림 추가!\n",
    "\n",
    "다층 퍼셉트론의 동작은 다음과 같다.\n",
    "* 0층의 두 뉴런이 입력신호를 받아 1층의 뉴런으로 신호를 보낸다.\n",
    "* 1층의 뉴런이 2층의 뉴런으로 신호를 보내고, 최종 층의 뉴런은 y를 출력한다."
   ]
  },
  {
   "cell_type": "markdown",
   "id": "2ed266d5",
   "metadata": {},
   "source": [
    "## 퍼셉트론에서 신경망으로\n",
    "\n",
    "$$\n",
    "y = h(b + w_1x_1 + w_2x_2)\n",
    "$$\n",
    "* $h(x) = 0 (x <= 0)$\n",
    "* $h(x) = 1 (x > 0)$\n",
    "\n",
    "이러한 $h()$ 함수를 **활성화 함수**라고 한다.  \n",
    "위와 같이 임계값을 경계로 출력이 바뀌는 함수를 **계단 함수**라고 한다.  \n",
    "다시 정의하자면 '**퍼셉트론은 활성화 함수로 계단 함수를 이용한다.**'이다.  \n",
    "* 시그모이드 함수: $1\\over 1+ exp(-x)$\n",
    "    * $exp(-x) = e^{-x}$\n",
    "    * $e = 2.7182...$\n",
    "$$\n",
    "h(x) = {e^x\\over e^x + 1}\n",
    "$$"
   ]
  },
  {
   "cell_type": "code",
   "execution_count": 21,
   "id": "0c0d98cb",
   "metadata": {},
   "outputs": [
    {
     "name": "stdout",
     "output_type": "stream",
     "text": [
      "[-1.  1.  2.]\n"
     ]
    },
    {
     "data": {
      "text/plain": [
       "array([0, 1, 1])"
      ]
     },
     "execution_count": 21,
     "metadata": {},
     "output_type": "execute_result"
    }
   ],
   "source": [
    "def step_function(x):\n",
    "#     if x > 0:\n",
    "#         return 1\n",
    "#     else:\n",
    "#         return 0\n",
    "    y = x > 0\n",
    "    return y.astype(np.int)\n",
    "\n",
    "import numpy as np\n",
    "\n",
    "x = np.array([-1.0, 1.0, 2.0])\n",
    "print(x)\n",
    "\n",
    "y = x > 0\n",
    "y = y.astype(int)\n",
    "y"
   ]
  },
  {
   "cell_type": "code",
   "execution_count": 22,
   "id": "848f0e41",
   "metadata": {},
   "outputs": [
    {
     "data": {
      "image/png": "[encoded data removed]",
      "text/plain": [
       "<Figure size 640x480 with 1 Axes>"
      ]
     },
     "metadata": {},
     "output_type": "display_data"
    }
   ],
   "source": [
    "import numpy as np\n",
    "import matplotlib.pylab as plt\n",
    "\n",
    "def step_function(x):\n",
    "    return np.array(x > 0, dtype=np.int64)\n",
    "\n",
    "x = np.arange(-5.0, 5.0, 0.1)\n",
    "y = step_function(x)\n",
    "plt.plot(x, y)\n",
    "plt.ylim(-0.1, 1.1)\n",
    "plt.show()"
   ]
  },
  {
   "cell_type": "markdown",
   "id": "10845f00",
   "metadata": {},
   "source": [
    "* 계단 함수가 계단 함수로 불리우는 이유"
   ]
  },
  {
   "cell_type": "code",
   "execution_count": null,
   "id": "46e37e24",
   "metadata": {},
   "outputs": [],
   "source": []
  }
 ],
 "metadata": {
  "kernelspec": {
   "display_name": "Python 3 (ipykernel)",
   "language": "python",
   "name": "python3"
  },
  "language_info": {
   "codemirror_mode": {
    "name": "ipython",
    "version": 3
   },
   "file_extension": ".py",
   "mimetype": "text/x-python",
   "name": "python",
   "nbconvert_exporter": "python",
   "pygments_lexer": "ipython3",
   "version": "3.11.5"
  }
 },
 "nbformat": 4,
 "nbformat_minor": 5
}
