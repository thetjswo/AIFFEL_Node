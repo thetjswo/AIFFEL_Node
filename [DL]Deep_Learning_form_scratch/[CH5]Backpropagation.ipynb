{
 "cells": [
  {
   "cell_type": "markdown",
   "id": "6ee8079a-164d-4c68-bde5-94c8f8941a34",
   "metadata": {},
   "source": [
    "# 오차역전파법\n",
    "\n",
    "* 전 단원 요약\n",
    "    * 가중치 매개변수에 대한 손실 함수의 기울기 -> 수치 미분을 사용\n",
    "        * 수치 미분의 장점: 단순하고 구현하기도 쉽다.\n",
    "        * 수치 미분의 단점: 계산 시간이 오래 걸린다.\n",
    " \n",
    "* 오차역전파법\n",
    "    * 수식을 통한 이해\n",
    "    * 계산 그래프를 통한 이해\n",
    "\n",
    "---\n",
    "## 계산 그래프\n",
    "\n",
    "### 계산 그래프란?\n",
    "* 계산 그래프는 노드와 엣지로 표현한다.\n",
    "* \b계산 그래프를 통한 문제풀이 흐름\n",
    "    1. 계산 그래프 구성\n",
    "    2. 그래프에서의 계산은 왼쪽에서 오른쪽으로 진행(순전파)\n",
    "\n",
    "### 국소적 계산\n",
    "* 계산 그래프는 **국소적 계산**을 전파함으로서 **최종 결과**를 얻는다.\n",
    "    * 국소적 계산이란 결국 각 노드의 연산을 뜻하는 것 같다.\n",
    "> 풀어서 해석하자면 각 노드 별 연산은 따로 수행하되, 그 처리 결과를 모아 최종 결과를 만든다?\n",
    "\n",
    "### 왜 \b계산 그래프로 푸는가?\n",
    "* 계산 그래프의 이점\n",
    "    1. 전체가 아무리 복잡해도 각 노드에서의 단순한 연산에 집중하여 문제를 단순화 시킬 수 있다.\n",
    "    2. 각 노드에서 수행된 중간 연산 결과를 저장할 수 있다.\n",
    "    3. 역전파를 통해 '미분'을 효율적으로 계산할 수 있다.\n",
    "* 사과 가격이 오르면 최종 금액에 어떤 영향을 끼치는가? $\\to$ 사과 가격에 대한 지불금액의 미분\n",
    "    * 사과 가격을 $\\partial$, 지불 금액을 $L$이라고 했을 때 $\\partial L \\over \\partial x$를 구하는 것이다.\n",
    "\n",
    "---\n",
    "## 연쇄법칙\n",
    "\n",
    "### 역전파란?\n",
    "* 국소적인 미분을 순방향과는 반대인 오른쪽에서 왼쪽으로 전달한다.\n",
    "* 이렇게 국소적인 미분을 전달하는 원리는 **연쇄법칙**에 따른 것이다.\n",
    "\n",
    "### 계산 그래프의 역전파\n",
    "* 신호 $E$에 국소적 미분인 $\\partial y \\over \\partial x$를 곱한 후, 다음 노드로 전달한다.\n",
    "* 목표로 하는 미분 값을 효율적으로 구할 수 있다는 것이 이 전파의 핵심이다.\n",
    "\n",
    "### 연쇄법칙이란?\n",
    "\n",
    "* 합성함수: 두 개 이상의 함수로 구성된 함수\n",
    "    * e.g. $z = {(x+y)}^2$이라는 식은 $\\begin{cases} z = t^2\\\\ t = x+y \\end{cases}$로 구성된 함수이다.\n",
    "* 연쇄법칙: 이러한 합성 함수의 미분에 대한 성질\n",
    "    * _합성 함수의 미분은 합성 함수를 구성하는 각 함수의 미분의 곱으로 나타낼 수 있다._\n",
    "$${\\partial z \\over \\partial x} = {{\\partial z \\over \\partial t}{\\partial t \\over \\partial x}} = 2t*1 = 2(x+y)$$\n",
    "<br>\n",
    "\n",
    "$${(x+y)}^2 = {x \\to x+y \\to {(x+y)}^2}$$\n",
    "$${\\partial z \\over \\partial x} = {\\partial {(x+y)}^2 \\over \\partial x} = {\\partial {(x+y)}^2 \\over \\partial (x+y)}{\\partial (x+y)\\over \\partial x}$$\n",
    "\n",
    "위와 같은 구조를 가진 연쇄법칙에 의해 역전파의 미분을 구할 수 있다.\n",
    "\n",
    "---\n",
    "## 역전파\n",
    "* 덧셈 노드의 역전파: 연쇄법칙에 의해 입력 신호들의 미분값인 1이 곱해져 상류의 값이 그대로 전달된다.\n",
    "$${z = x + y} \\begin{cases} {\\partial z \\over \\partial x}=1\\\\ {\\partial z \\over \\partial y}=1 \\end{cases}$$\n",
    "* 곱셈 노드의 역전파: 연쇄법칙에 의해 입력 신호들의 미분값인 서로 다른 노드의 값이 상류의 값에 곱해져서 전달된다.\n",
    "$${z = xy} \\begin{cases} {\\partial z \\over \\partial x}=y\\\\ {\\partial z \\over \\partial y}=x \\end{cases}$$\n",
    "\n",
    "이렇듯 역전파를 이용하면 각 노드가 최종결과에 어느 정도의 영향을 미치는지 알 수 있다.\n",
    "> 단, 정확한 판단을 위해서는 각 노드가 같은 단위를 사용해야 한다."
   ]
  },
  {
   "cell_type": "markdown",
   "id": "1fcd1e58-14b9-472c-b96d-e9a27a5f365d",
   "metadata": {},
   "source": [
    "---\n",
    "## 단순한 계층 구현하기"
   ]
  },
  {
   "cell_type": "code",
   "execution_count": 1,
   "id": "d1a24fcd-aa65-4502-a96a-5b024248ab57",
   "metadata": {},
   "outputs": [],
   "source": [
    "class MulLayer:\n",
    "    def __init__(self):\n",
    "        self.x = None\n",
    "        self.y = None\n",
    "\n",
    "    def forward(self, x, y):\n",
    "        self.x = x\n",
    "        self.y = y                \n",
    "        out = x * y\n",
    "\n",
    "        return out\n",
    "\n",
    "    def backward(self, dout):\n",
    "        dx = dout * self.y  # x와 y를 바꾼다.\n",
    "        dy = dout * self.x\n",
    "\n",
    "        return dx, dy\n",
    "\n",
    "\n",
    "class AddLayer:\n",
    "    def __init__(self):\n",
    "        pass\n",
    "\n",
    "    def forward(self, x, y):\n",
    "        out = x + y\n",
    "\n",
    "        return out\n",
    "\n",
    "    def backward(self, dout):\n",
    "        dx = dout * 1\n",
    "        dy = dout * 1\n",
    "\n",
    "        return dx, dy\n"
   ]
  },
  {
   "cell_type": "code",
   "execution_count": 3,
   "id": "115718af-12f3-4eb0-a96b-e510c2453d61",
   "metadata": {},
   "outputs": [
    {
     "name": "stdout",
     "output_type": "stream",
     "text": [
      "price: 220\n",
      "dApple: 2.2\n",
      "dApple_num: 110\n",
      "dTax: 200\n"
     ]
    }
   ],
   "source": [
    "apple = 100\n",
    "apple_num = 2\n",
    "tax = 1.1\n",
    "\n",
    "mul_apple_layer = MulLayer()\n",
    "mul_tax_layer = MulLayer()\n",
    "\n",
    "# forward\n",
    "apple_price = mul_apple_layer.forward(apple, apple_num)\n",
    "price = mul_tax_layer.forward(apple_price, tax)\n",
    "\n",
    "# backward\n",
    "dprice = 1 # 왜 1...?\n",
    "dapple_price, dtax = mul_tax_layer.backward(dprice)\n",
    "dapple, dapple_num = mul_apple_layer.backward(dapple_price)\n",
    "\n",
    "print(\"price:\", int(price))\n",
    "print(\"dApple:\", dapple)\n",
    "print(\"dApple_num:\", int(dapple_num))\n",
    "print(\"dTax:\", dtax)\n"
   ]
  },
  {
   "cell_type": "code",
   "execution_count": 4,
   "id": "95ef3300-b77d-4dcd-b74b-590458d5d55c",
   "metadata": {},
   "outputs": [
    {
     "name": "stdout",
     "output_type": "stream",
     "text": [
      "price: 715\n",
      "dApple: 2.2\n",
      "dApple_num: 110\n",
      "dOrange: 3.3000000000000003\n",
      "dOrange_num: 165\n",
      "dTax: 650\n"
     ]
    }
   ],
   "source": [
    "apple = 100\n",
    "apple_num = 2\n",
    "orange = 150\n",
    "orange_num = 3\n",
    "tax = 1.1\n",
    "\n",
    "# layer\n",
    "mul_apple_layer = MulLayer()\n",
    "mul_orange_layer = MulLayer()\n",
    "add_apple_orange_layer = AddLayer()\n",
    "mul_tax_layer = MulLayer()\n",
    "\n",
    "# forward\n",
    "apple_price = mul_apple_layer.forward(apple, apple_num)  # 사과 가격\n",
    "orange_price = mul_orange_layer.forward(orange, orange_num)  # 오렌지 가격\n",
    "all_price = add_apple_orange_layer.forward(apple_price, orange_price)  # 모든 과일의 가격\n",
    "price = mul_tax_layer.forward(all_price, tax)  # 세 후, 가격\n",
    "\n",
    "# backward\n",
    "dprice = 1\n",
    "dall_price, dtax = mul_tax_layer.backward(dprice)  \n",
    "dapple_price, dorange_price = add_apple_orange_layer.backward(dall_price)  \n",
    "dorange, dorange_num = mul_orange_layer.backward(dorange_price)  \n",
    "dapple, dapple_num = mul_apple_layer.backward(dapple_price)  \n",
    "\n",
    "print(\"price:\", int(price))\n",
    "print(\"dApple:\", dapple)\n",
    "print(\"dApple_num:\", int(dapple_num))\n",
    "print(\"dOrange:\", dorange)\n",
    "print(\"dOrange_num:\", int(dorange_num))\n",
    "print(\"dTax:\", dtax)\n"
   ]
  },
  {
   "cell_type": "markdown",
   "id": "de842b7e-990b-4aa2-9d11-f6541b0b9008",
   "metadata": {},
   "source": [
    "---\n",
    "## 활성화 함수 계층 구현하기\n",
    "\n",
    "### ReLU 계층\n",
    "* ReLU 함수 수식\n",
    "$$y=\\begin{cases} x (x \\gt 0)\\\\ 0 (x \\leq 0) \\end{cases}$$\n",
    "* ReLU 함수 미분 수식\n",
    "$${\\partial y \\over \\partial x}=\\begin{cases} 1 (x \\gt 0)\\\\ 0 (x \\leq 0) \\end{cases}$$"
   ]
  },
  {
   "cell_type": "code",
   "execution_count": 5,
   "id": "8f7a2891-6c56-43a1-9579-4aecea46be1c",
   "metadata": {},
   "outputs": [],
   "source": [
    "class Relu:\n",
    "    def __init__(self):\n",
    "        self.mask = None\n",
    "\n",
    "    def forward(self, x):\n",
    "        self.mask = (x <= 0)\n",
    "        out = x.copy()\n",
    "        out[self.mask] = 0\n",
    "\n",
    "        return out\n",
    "\n",
    "    def backward(self, dout):\n",
    "        dout[self.mask] = 0\n",
    "        dx = dout\n",
    "\n",
    "        return dx"
   ]
  },
  {
   "cell_type": "code",
   "execution_count": 6,
   "id": "21f0eeb2-1099-4572-bbba-acc955b642f6",
   "metadata": {},
   "outputs": [
    {
     "name": "stdout",
     "output_type": "stream",
     "text": [
      "[[ 1.  -0.5]\n",
      " [-2.   3. ]]\n",
      "[[False  True]\n",
      " [ True False]]\n"
     ]
    }
   ],
   "source": [
    "import numpy as np\n",
    "\n",
    "x = np.array([[1.0, -0.5],[-2.0, 3.0]])\n",
    "print(x)\n",
    "mask = (x <= 0)\n",
    "print(mask)\n"
   ]
  },
  {
   "cell_type": "markdown",
   "id": "781260d2-da18-410c-ae30-7188fde822e5",
   "metadata": {},
   "source": [
    "### Sigmoid 계층\n",
    "* Sigmoid 함수 수식\n",
    "$$y={1 \\over 1+exp(-x)}$$\n",
    "* Sigmoid 함수 미분 수식\n",
    "    1. /노드는 $y = 1 \\over x$ 연산 수행\n",
    "$${\\partial y \\over \\partial x} = -{1 \\over x^2} = -y^2$$\n",
    "    2. $+$ 연산은 상류 값 그대로 전달\n",
    "    3. exp노드는 $y = exp(x)$연산 수행\n",
    "$${\\partial y \\over \\partial x} = exp(x)$$\n",
    "    4. X 노드는 순전파 때의 값을 서로 바꿔 연산 수행\n",
    "\n",
    "* 전체 Flow\n",
    "$${\\partial L \\over \\partial y} \\to -{\\partial L \\over \\partial y}y^2 \\to -{\\partial L \\over \\partial y}y^2 \\to -{\\partial L \\over \\partial y}y^2exp(-x) \\to {\\partial L \\over \\partial y}y^2exp(-x)$$\n",
    "    * 시그모이드 함수는 입력값 x와 출력값 y만으로 순전파와 역전파의 값을 모두 구할 수 있다.\n",
    "    * 노드를 그룹화하여 Sigmoid 계층의 세세한 내용을 노출하지 않고 입력과 출력에만 집중할 수 있다.\n",
    "$$exp(-x) = {1\\over y -1}$$\n",
    "$${{\\partial L \\over \\partial y}y^2exp(-x)} = {{\\partial L \\over \\partial y}y^2{({1 \\over y}-1)}} = {{\\partial L \\over \\partial y}{y - y^2}} = {{\\partial L \\over \\partial y}y(1-y)}$$\n",
    "    * Sigmoid 계층의 역전파는 순전파의 출력만으로 계산할 수 있다."
   ]
  },
  {
   "cell_type": "code",
   "execution_count": 7,
   "id": "6605da6d-e09c-4013-8e0f-5b1f2be4e78e",
   "metadata": {},
   "outputs": [],
   "source": [
    "class Sigmoid:\n",
    "    def __init__(self):\n",
    "        self.out = None\n",
    "\n",
    "    def forward(self, x):\n",
    "        out = sigmoid(x)\n",
    "        self.out = out\n",
    "        return out\n",
    "\n",
    "    def backward(self, dout):\n",
    "        dx = dout * (1.0 - self.out) * self.out\n",
    "\n",
    "        return dx"
   ]
  },
  {
   "cell_type": "markdown",
   "id": "5346bf1a-5ca1-4a1a-9b63-8b62a1e911af",
   "metadata": {},
   "source": [
    "---\n",
    "## Affine/Softmax 계층 구현하기\n",
    "* Affine 변환: 신경망의 순전파 때 수행하는 행렬의 곱\n",
    "* 행렬곱에 대한 역전파 수식\n",
    "$$\\begin{cases} {\\partial L \\over \\partial X} = {\\partial L \\over \\partial Y}W^T\\\\ {\\partial L \\over \\partial W} = {X^T}{\\partial L \\over \\partial Y} \\end{cases}$$\n",
    "* $W^T$의 $T$는 전치행렬의 뜻하며, 전치행렬이란 $W$의 $(i, j)$위치의 원소를 $(j,i)$위치로 바꾼 것을 말한다.\n",
    "* Affine 계층에서는 각 변수의 형상에 주의를 해야한다.\n",
    "    * $X$와 $\\partial L \\over \\partial X$는 같은 형상이고, $W$와 $\\partial L \\over \\partial W$는 같은 형상이다.\n",
    "    * e.g. $\\begin{cases} X = (x_0, x_1, \\cdots, x_n)\\\\ {\\partial L \\over \\partial X}={(\\partial L \\over \\partial X_0, \\partial L \\over \\partial X_1, \\cdots , \\partial L \\over \\partial X_n) \\end{cases}}$\n",
    " \n",
    "### 배치용 Affine계층\n",
    "* 기존의 Affine 계층과 다른 부분은 $X$의 형상이 $(N, 2)$가 된 것 뿐이다.\n",
    "* N개의 데이터에 대한 편향 값을 주의해야 한다."
   ]
  },
  {
   "cell_type": "code",
   "execution_count": 8,
   "id": "3a2f3a50-e028-47af-b809-d437212f77ad",
   "metadata": {},
   "outputs": [
    {
     "name": "stdout",
     "output_type": "stream",
     "text": [
      "[[ 0  0  0]\n",
      " [10 10 10]]\n",
      "[[ 1  2  3]\n",
      " [11 12 13]]\n"
     ]
    }
   ],
   "source": [
    "X_dot_W = np.array([[0,0,0],[10,10,10]])\n",
    "B = np.array([1,2,3])\n",
    "\n",
    "print(X_dot_W)\n",
    "print(X_dot_W + B)"
   ]
  },
  {
   "cell_type": "code",
   "execution_count": 9,
   "id": "0121e117-2cb9-4da0-bc03-4b08db248f23",
   "metadata": {},
   "outputs": [
    {
     "name": "stdout",
     "output_type": "stream",
     "text": [
      "[[1 2 3]\n",
      " [4 5 6]]\n",
      "[5 7 9]\n"
     ]
    }
   ],
   "source": [
    "dY = np.array([[1,2,3],[4,5,6]])\n",
    "print(dY)\n",
    "\n",
    "dB = np.sum(dY, axis=0)\n",
    "print(dB)"
   ]
  },
  {
   "cell_type": "code",
   "execution_count": 10,
   "id": "4f677b3f-138f-403c-875f-fbe3665c34a8",
   "metadata": {},
   "outputs": [],
   "source": [
    "class Affine:\n",
    "    def __init__(self, W, b):\n",
    "        self.W = W\n",
    "        self.b = b\n",
    "        \n",
    "        self.x = None\n",
    "        self.original_x_shape = None\n",
    "        # 가중치와 편향 매개변수의 미분\n",
    "        self.dW = None\n",
    "        self.db = None\n",
    "\n",
    "    def forward(self, x):\n",
    "        # 텐서 대응\n",
    "        self.original_x_shape = x.shape\n",
    "        x = x.reshape(x.shape[0], -1)\n",
    "        self.x = x\n",
    "\n",
    "        out = np.dot(self.x, self.W) + self.b\n",
    "\n",
    "        return out\n",
    "\n",
    "    def backward(self, dout):\n",
    "        dx = np.dot(dout, self.W.T)\n",
    "        self.dW = np.dot(self.x.T, dout)\n",
    "        self.db = np.sum(dout, axis=0)\n",
    "        \n",
    "        dx = dx.reshape(*self.original_x_shape)  # 입력 데이터 모양 변경(텐서 대응)\n",
    "        return dx"
   ]
  },
  {
   "cell_type": "markdown",
   "id": "de3a9eff-0950-4f2d-a338-a078bed800eb",
   "metadata": {},
   "source": [
    "### Softmax_with_Loss 계층\n",
    "* 소프트맥스 계층은 손실 함수인 교차 엔트로피 오차도 포함하여 Softmax_with_Loss 계층이라는 이름으로 구현한다.\n",
    "* Softmax 계층\n",
    "    * 입력: $(a_1, a_2, a_3)$\n",
    "    * 출력: $(y_1, y_2, y_3)$\n",
    "* Cross_Entropy_Error 계층\n",
    "    * 입력: $(y_1, y_2, y_3), (t_1, t_2, t_3)$ 여기서 t는 정답 레이블이다.\n",
    "    * 출력: $L$\n",
    "* Softmax_with_Loss 계층 역전파\n",
    "    * 입력: 1\n",
    "    * 출력: $(y_1-t_1, y_2-t_2, y_3-t_3)$\n",
    "Softmax_with_Loss의 역전파의 출력은 $(y_1-t_1, y_2-t_2, y_3-t_3)$라는 깔끔한 출력을 보여주는데, 이는 신경망의 현재 출력과 정답 레이블의 오차를 그대로 보여주는 것이다.\n",
    "> e.g. 정답 레이블이 (0,1,0)일 때의 Softmax 계층이 (0.3, 0.2, 0.5)를 출력했다고 가정해보자. 정답 레이블을 보면 정답의 인덱스는 1인 반면에 출력에서는 이 때의 확률이 겨우 0.2밖에 안된다. 이 경우 Softmax 계층의 역전파는 (0.3, -0.8, 0.5)라는 커다란 오차를 전파하게된다. "
   ]
  },
  {
   "cell_type": "code",
   "execution_count": 11,
   "id": "e255b8bc-a6a3-4a58-bc39-969380310d33",
   "metadata": {},
   "outputs": [],
   "source": [
    "class SoftmaxWithLoss:\n",
    "    def __init__(self):\n",
    "        self.loss = None # 손실함수\n",
    "        self.y = None    # softmax의 출력\n",
    "        self.t = None    # 정답 레이블(원-핫 인코딩 형태)\n",
    "        \n",
    "    def forward(self, x, t):\n",
    "        self.t = t\n",
    "        self.y = softmax(x)\n",
    "        self.loss = cross_entropy_error(self.y, self.t)\n",
    "        \n",
    "        return self.loss\n",
    "\n",
    "    def backward(self, dout=1):\n",
    "        batch_size = self.t.shape[0]\n",
    "        if self.t.size == self.y.size: # 정답 레이블이 원-핫 인코딩 형태일 때\n",
    "            dx = (self.y - self.t) / batch_size\n",
    "        else:\n",
    "            dx = self.y.copy()\n",
    "            dx[np.arange(batch_size), self.t] -= 1\n",
    "            dx = dx / batch_size\n",
    "        \n",
    "        return dx"
   ]
  },
  {
   "cell_type": "code",
   "execution_count": null,
   "id": "56f7195d-de2c-4d88-b4f5-1c91696dedd3",
   "metadata": {},
   "outputs": [],
   "source": []
  }
 ],
 "metadata": {
  "kernelspec": {
   "display_name": "Python 3 (ipykernel)",
   "language": "python",
   "name": "python3"
  },
  "language_info": {
   "codemirror_mode": {
    "name": "ipython",
    "version": 3
   },
   "file_extension": ".py",
   "mimetype": "text/x-python",
   "name": "python",
   "nbconvert_exporter": "python",
   "pygments_lexer": "ipython3",
   "version": "3.8.18"
  }
 },
 "nbformat": 4,
 "nbformat_minor": 5
}
