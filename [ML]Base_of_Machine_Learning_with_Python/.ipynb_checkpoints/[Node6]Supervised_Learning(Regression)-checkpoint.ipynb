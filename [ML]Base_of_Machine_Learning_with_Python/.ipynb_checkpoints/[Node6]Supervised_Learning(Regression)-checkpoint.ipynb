{
 "cells": [
  {
   "cell_type": "markdown",
   "id": "c0b676e1",
   "metadata": {},
   "source": [
    "## 회귀(Regression): 입력 데이터에 대해 연속적인 값을 예측하는 작업\n",
    "\n",
    "회귀란 입력 데이터를 미리 정의된 클래스 또는 범주로 분류하는 작업으로 이는 이산적인 출력(레이블)을 예측하는 문제로 예를 들면 스팸 메일 여부를 판별하거나 손글씨 숫자를 인식하는 것이 있다.\n",
    "\n",
    "\n",
    "#### 회귀의 종류\n",
    "\n",
    "1. 선형 회귀 (Linear Regression): 입력 변수와 가중치의 선형 조합으로 출력을 예측하는 모델이다. 목표는 잔차(실제 값과 모델의 예측 값 간의 차이)를 최소화하는 가중치를 찾는 것이다. 선형 회귀는 특별히 가중치에 대한 규제가 없는 경우를 의미합니다.\n",
    "2. 릿지 회귀 (Ridge Regression): 선형 회귀에 L2 규제를 추가한 모델이다. L2 규제는 가중치의 크기에 대한 패널티를 부과하여 가중치가 커지지 않도록 제어한다. 이는 과적합을 방지하고 안정적인 모델을 만들어준다.\n",
    "3. 라쏘 회귀 (Lasso Regression): 선형 회귀에 L1 규제를 추가한 모델\u001d",
    "다. L1 규제는 가중치의 절대값에 대한 패널티를 부과하여 일부 가중치를 정확하게 0으로 만든다. 이는 feature selection의 역할을 하며, 모델에서 불필요한 특성을 제거할 수 있다.\n",
    "4. 엘라스틱 넷 회귀 (Elastic Net Regression): 선형 회귀에 L1과 L2 규제를 모두 적용한 모델이다. 이는 L1 규제와 L2 규제의 혼합 비율을 조절할 수 있으며, 릿지 회귀와 라쏘 회귀의 장점을 결합한 모델이다. 엘라스틱 넷은 L1 규제의 효과로 일부 가중치를 0으로 만들 수 있으면서도 L2 규제로 안정성을 유지할 수 있다."
   ]
  },
  {
   "cell_type": "markdown",
   "id": "90654fb7",
   "metadata": {},
   "source": [
    "---\n",
    "### 선형 회귀\n",
    "\n",
    "선형 회귀(Linear Regression)는 통계학에서 가장 기본적이고 널리 사용되는 예측 방법 중 하나이다. 이는 데이터의 패턴을 가장 잘 설명하는 선형(직선 또는 평면) 관계를 찾는 것을 목표로 합니다.\n",
    "\n",
    "> 예시) 주택의 가격을 예측한다고 생각해보자. 해당 주택의 가격이 결정되는데에 가장 중요한 요인을 주택의 면적이라고 가정할 때, 주택의 크기(x)와 주택의 가격(Y) 사이에는 선형 관계가 있다. 즉 주택의 크기가 클 수록 주택의 가격이 높아진다고 예측할 수 있다. 이 때, 주택의 크기와 가격 사이를 가장 잘 나타내는 직선을 찾는 것이 선형 회귀의 목표이다. 주택의 크기를 알고 있다면, 선형 회귀를 통해 얻은 모델로 주택의 가격을 예측하는 것이 가능해진다."
   ]
  },
  {
   "cell_type": "code",
   "execution_count": null,
   "id": "96ef63f5",
   "metadata": {},
   "outputs": [],
   "source": [
    "import pandas as pd\n",
    "from sklearn.model_selection import train_test_split\n",
    "from sklearn.metrics import mean_squared_error"
   ]
  },
  {
   "cell_type": "code",
   "execution_count": 2,
   "id": "8d8fbc4b",
   "metadata": {},
   "outputs": [
    {
     "data": {
      "text/plain": [
       "((353, 10), (89, 10), (353,), (89,))"
      ]
     },
     "execution_count": 2,
     "metadata": {},
     "output_type": "execute_result"
    }
   ],
   "source": [
    "from sklearn.datasets import load_diabetes\n",
    "\n",
    "# 데이터셋 생성 함수 정의\n",
    "def make_dataset():\n",
    "    # 백혈병 데이터셋 로드\n",
    "    dataset = load_diabetes()\n",
    "    # 백혈병 데이터셋의 데이터와 피처명으로 데이터프레임 생성\n",
    "    df = pd.DataFrame(data=dataset.data, columns=dataset.feature_names)\n",
    "    # 백혈병 테이터셋의 타겟 데이터를 데이터프레임에 추가\n",
    "    df['target'] = dataset.target\n",
    "    # X = 타겟을 제외한 데이터프레임, y = 타겟 으로 학습 데이터와 검증 데이터를 8:2의 비율로 하여 각 변수로 분리\n",
    "    X_train, X_test, y_train, y_test = train_test_split(df.drop('target',axis=1),df['target'],test_size=0.2,random_state=1004)\n",
    "\n",
    "    return X_train, X_test, y_train, y_test\n",
    "# 데이터셋 생성 함수 호출\n",
    "X_train, X_test, y_train, y_test = make_dataset()\n",
    "# 각 변수의 크기 확인\n",
    "X_train.shape, X_test.shape, y_train.shape, y_test.shape"
   ]
  },
  {
   "cell_type": "code",
   "execution_count": 3,
   "id": "8ff029f7",
   "metadata": {},
   "outputs": [
    {
     "data": {
      "text/html": [
       "<div>\n",
       "<style scoped>\n",
       "    .dataframe tbody tr th:only-of-type {\n",
       "        vertical-align: middle;\n",
       "    }\n",
       "\n",
       "    .dataframe tbody tr th {\n",
       "        vertical-align: top;\n",
       "    }\n",
       "\n",
       "    .dataframe thead th {\n",
       "        text-align: right;\n",
       "    }\n",
       "</style>\n",
       "<table border=\"1\" class=\"dataframe\">\n",
       "  <thead>\n",
       "    <tr style=\"text-align: right;\">\n",
       "      <th></th>\n",
       "      <th>age</th>\n",
       "      <th>sex</th>\n",
       "      <th>bmi</th>\n",
       "      <th>bp</th>\n",
       "      <th>s1</th>\n",
       "      <th>s2</th>\n",
       "      <th>s3</th>\n",
       "      <th>s4</th>\n",
       "      <th>s5</th>\n",
       "      <th>s6</th>\n",
       "    </tr>\n",
       "  </thead>\n",
       "  <tbody>\n",
       "    <tr>\n",
       "      <th>152</th>\n",
       "      <td>-0.034575</td>\n",
       "      <td>0.050680</td>\n",
       "      <td>-0.000817</td>\n",
       "      <td>0.070072</td>\n",
       "      <td>0.039710</td>\n",
       "      <td>0.066952</td>\n",
       "      <td>-0.065491</td>\n",
       "      <td>0.108111</td>\n",
       "      <td>0.026717</td>\n",
       "      <td>0.073480</td>\n",
       "    </tr>\n",
       "    <tr>\n",
       "      <th>417</th>\n",
       "      <td>-0.052738</td>\n",
       "      <td>-0.044642</td>\n",
       "      <td>0.071397</td>\n",
       "      <td>-0.074527</td>\n",
       "      <td>-0.015328</td>\n",
       "      <td>-0.001314</td>\n",
       "      <td>0.004460</td>\n",
       "      <td>-0.021412</td>\n",
       "      <td>-0.046883</td>\n",
       "      <td>0.003064</td>\n",
       "    </tr>\n",
       "    <tr>\n",
       "      <th>172</th>\n",
       "      <td>0.041708</td>\n",
       "      <td>0.050680</td>\n",
       "      <td>0.071397</td>\n",
       "      <td>0.008101</td>\n",
       "      <td>0.038334</td>\n",
       "      <td>0.015909</td>\n",
       "      <td>-0.017629</td>\n",
       "      <td>0.034309</td>\n",
       "      <td>0.073407</td>\n",
       "      <td>0.085907</td>\n",
       "    </tr>\n",
       "    <tr>\n",
       "      <th>438</th>\n",
       "      <td>-0.005515</td>\n",
       "      <td>0.050680</td>\n",
       "      <td>-0.015906</td>\n",
       "      <td>-0.067642</td>\n",
       "      <td>0.049341</td>\n",
       "      <td>0.079165</td>\n",
       "      <td>-0.028674</td>\n",
       "      <td>0.034309</td>\n",
       "      <td>-0.018114</td>\n",
       "      <td>0.044485</td>\n",
       "    </tr>\n",
       "    <tr>\n",
       "      <th>296</th>\n",
       "      <td>0.067136</td>\n",
       "      <td>-0.044642</td>\n",
       "      <td>-0.061174</td>\n",
       "      <td>-0.040099</td>\n",
       "      <td>-0.026336</td>\n",
       "      <td>-0.024487</td>\n",
       "      <td>0.033914</td>\n",
       "      <td>-0.039493</td>\n",
       "      <td>-0.056153</td>\n",
       "      <td>-0.059067</td>\n",
       "    </tr>\n",
       "  </tbody>\n",
       "</table>\n",
       "</div>"
      ],
      "text/plain": [
       "          age       sex       bmi        bp        s1        s2        s3  \\\n",
       "152 -0.034575  0.050680 -0.000817  0.070072  0.039710  0.066952 -0.065491   \n",
       "417 -0.052738 -0.044642  0.071397 -0.074527 -0.015328 -0.001314  0.004460   \n",
       "172  0.041708  0.050680  0.071397  0.008101  0.038334  0.015909 -0.017629   \n",
       "438 -0.005515  0.050680 -0.015906 -0.067642  0.049341  0.079165 -0.028674   \n",
       "296  0.067136 -0.044642 -0.061174 -0.040099 -0.026336 -0.024487  0.033914   \n",
       "\n",
       "           s4        s5        s6  \n",
       "152  0.108111  0.026717  0.073480  \n",
       "417 -0.021412 -0.046883  0.003064  \n",
       "172  0.034309  0.073407  0.085907  \n",
       "438  0.034309 -0.018114  0.044485  \n",
       "296 -0.039493 -0.056153 -0.059067  "
      ]
     },
     "execution_count": 3,
     "metadata": {},
     "output_type": "execute_result"
    }
   ],
   "source": [
    "# 학습 데이터 확인\n",
    "X_train.head()"
   ]
  },
  {
   "cell_type": "code",
   "execution_count": 4,
   "id": "82ab815c",
   "metadata": {},
   "outputs": [
    {
     "data": {
      "text/plain": [
       "152    292.0\n",
       "417     55.0\n",
       "172    295.0\n",
       "438    104.0\n",
       "296     89.0\n",
       "Name: target, dtype: float64"
      ]
     },
     "execution_count": 4,
     "metadata": {},
     "output_type": "execute_result"
    }
   ],
   "source": [
    "# 학습 목표치 확인\n",
    "y_train.head()"
   ]
  },
  {
   "cell_type": "code",
   "execution_count": 5,
   "id": "83596bde",
   "metadata": {},
   "outputs": [
    {
     "data": {
      "text/plain": [
       "<AxesSubplot:>"
      ]
     },
     "execution_count": 5,
     "metadata": {},
     "output_type": "execute_result"
    },
    {
     "data": {
      "image/png": "[encoded data removed]",
      "text/plain": [
       "<Figure size 640x480 with 1 Axes>"
      ]
     },
     "metadata": {},
     "output_type": "display_data"
    }
   ],
   "source": [
    "# 학습 목표치 그래프로 확인\n",
    "y_train.hist()"
   ]
  },
  {
   "cell_type": "code",
   "execution_count": 6,
   "id": "40cb0099",
   "metadata": {},
   "outputs": [
    {
     "data": {
      "text/plain": [
       "2707.6318521641583"
      ]
     },
     "execution_count": 6,
     "metadata": {},
     "output_type": "execute_result"
    }
   ],
   "source": [
    "# 선형 회귀\n",
    "from sklearn.linear_model import LinearRegression\n",
    "# LinearRegression 객체 생성\n",
    "model = LinearRegression()\n",
    "# 학습 데이터와 학습 목표치를 가지고 학습 진행\n",
    "model.fit(X_train, y_train)\n",
    "# 검증 데이터로 결과 예측\n",
    "pred = model.predict(X_test)\n",
    "# 예측 데이터와 실체 데이터를 가지고 평균 제곱 오차 확인\n",
    "mean_squared_error(y_test,pred)"
   ]
  },
  {
   "cell_type": "code",
   "execution_count": 7,
   "id": "f298d36d",
   "metadata": {},
   "outputs": [
    {
     "data": {
      "image/png": "[encoded data removed]",
      "text/plain": [
       "<Figure size 640x480 with 1 Axes>"
      ]
     },
     "metadata": {},
     "output_type": "display_data"
    }
   ],
   "source": [
    "import matplotlib.pyplot as plt\n",
    "\n",
    "\n",
    "# 실제값과 예측값 산점도 그리기\n",
    "plt.scatter(y_test, pred, alpha=0.5)\n",
    "plt.xlabel('real')\n",
    "plt.ylabel('pred')\n",
    "plt.title('real data : predicted data')\n",
    "\n",
    "# 회귀선 추가\n",
    "plt.plot([y_test.min(), y_test.max()], [y_test.min(), y_test.max()], 'k--', lw=2)\n",
    "plt.show()"
   ]
  },
  {
   "cell_type": "code",
   "execution_count": 8,
   "id": "aac4feb8",
   "metadata": {},
   "outputs": [
    {
     "data": {
      "text/plain": [
       "3522.1191842072662"
      ]
     },
     "execution_count": 8,
     "metadata": {},
     "output_type": "execute_result"
    }
   ],
   "source": [
    "# 릿지 모듈 import\n",
    "from sklearn.linear_model import Ridge\n",
    "# 릿지 객체 생성\n",
    "model = Ridge(alpha=1)\n",
    "# 학습 데이터와 학습 목표치를 가지고 학습 진행\n",
    "model.fit(X_train, y_train)\n",
    "# 검증 데이터로 결과 예측\n",
    "pred = model.predict(X_test)\n",
    "# 예측 데이터와 실체 데이터를 가지고 평균 제곱 오차 확인\n",
    "mean_squared_error(y_test,pred)"
   ]
  },
  {
   "cell_type": "code",
   "execution_count": 9,
   "id": "c0e9054f",
   "metadata": {},
   "outputs": [
    {
     "data": {
      "text/html": [
       "<div>\n",
       "<style scoped>\n",
       "    .dataframe tbody tr th:only-of-type {\n",
       "        vertical-align: middle;\n",
       "    }\n",
       "\n",
       "    .dataframe tbody tr th {\n",
       "        vertical-align: top;\n",
       "    }\n",
       "\n",
       "    .dataframe thead th {\n",
       "        text-align: right;\n",
       "    }\n",
       "</style>\n",
       "<table border=\"1\" class=\"dataframe\">\n",
       "  <thead>\n",
       "    <tr style=\"text-align: right;\">\n",
       "      <th></th>\n",
       "      <th>alpha1</th>\n",
       "    </tr>\n",
       "  </thead>\n",
       "  <tbody>\n",
       "    <tr>\n",
       "      <th>age</th>\n",
       "      <td>31.293421</td>\n",
       "    </tr>\n",
       "    <tr>\n",
       "      <th>sex</th>\n",
       "      <td>-71.448655</td>\n",
       "    </tr>\n",
       "    <tr>\n",
       "      <th>bmi</th>\n",
       "      <td>267.605962</td>\n",
       "    </tr>\n",
       "    <tr>\n",
       "      <th>bp</th>\n",
       "      <td>197.362492</td>\n",
       "    </tr>\n",
       "    <tr>\n",
       "      <th>s1</th>\n",
       "      <td>14.613257</td>\n",
       "    </tr>\n",
       "    <tr>\n",
       "      <th>s2</th>\n",
       "      <td>-13.884237</td>\n",
       "    </tr>\n",
       "    <tr>\n",
       "      <th>s3</th>\n",
       "      <td>-124.649836</td>\n",
       "    </tr>\n",
       "    <tr>\n",
       "      <th>s4</th>\n",
       "      <td>106.212967</td>\n",
       "    </tr>\n",
       "    <tr>\n",
       "      <th>s5</th>\n",
       "      <td>221.068493</td>\n",
       "    </tr>\n",
       "    <tr>\n",
       "      <th>s6</th>\n",
       "      <td>101.202546</td>\n",
       "    </tr>\n",
       "  </tbody>\n",
       "</table>\n",
       "</div>"
      ],
      "text/plain": [
       "         alpha1\n",
       "age   31.293421\n",
       "sex  -71.448655\n",
       "bmi  267.605962\n",
       "bp   197.362492\n",
       "s1    14.613257\n",
       "s2   -13.884237\n",
       "s3  -124.649836\n",
       "s4   106.212967\n",
       "s5   221.068493\n",
       "s6   101.202546"
      ]
     },
     "execution_count": 9,
     "metadata": {},
     "output_type": "execute_result"
    }
   ],
   "source": [
    "# alpha 강도에 따른 가중치 변화 확인을 위한 데이터프레임 생성\n",
    "coef = pd.DataFrame(data=model.coef_, index=X_train.columns, columns=['alpha1'])\n",
    "coef"
   ]
  },
  {
   "cell_type": "code",
   "execution_count": 10,
   "id": "1595916a",
   "metadata": {},
   "outputs": [
    {
     "data": {
      "text/plain": [
       "5521.884843903383"
      ]
     },
     "execution_count": 10,
     "metadata": {},
     "output_type": "execute_result"
    }
   ],
   "source": [
    "# alpha 하이퍼 파라미터의 크기에 따른  규제 강도 비교\n",
    "from sklearn.linear_model import Ridge\n",
    "model = Ridge(alpha=10)\n",
    "\n",
    "model.fit(X_train, y_train)\n",
    "\n",
    "pred = model.predict(X_test)\n",
    "mean_squared_error(y_test,pred)"
   ]
  },
  {
   "cell_type": "code",
   "execution_count": 11,
   "id": "b0cac996",
   "metadata": {},
   "outputs": [
    {
     "data": {
      "text/html": [
       "<div>\n",
       "<style scoped>\n",
       "    .dataframe tbody tr th:only-of-type {\n",
       "        vertical-align: middle;\n",
       "    }\n",
       "\n",
       "    .dataframe tbody tr th {\n",
       "        vertical-align: top;\n",
       "    }\n",
       "\n",
       "    .dataframe thead th {\n",
       "        text-align: right;\n",
       "    }\n",
       "</style>\n",
       "<table border=\"1\" class=\"dataframe\">\n",
       "  <thead>\n",
       "    <tr style=\"text-align: right;\">\n",
       "      <th></th>\n",
       "      <th>alpha1</th>\n",
       "      <th>alpha10</th>\n",
       "    </tr>\n",
       "  </thead>\n",
       "  <tbody>\n",
       "    <tr>\n",
       "      <th>age</th>\n",
       "      <td>31.293421</td>\n",
       "      <td>16.703166</td>\n",
       "    </tr>\n",
       "    <tr>\n",
       "      <th>sex</th>\n",
       "      <td>-71.448655</td>\n",
       "      <td>-1.796418</td>\n",
       "    </tr>\n",
       "    <tr>\n",
       "      <th>bmi</th>\n",
       "      <td>267.605962</td>\n",
       "      <td>61.026376</td>\n",
       "    </tr>\n",
       "    <tr>\n",
       "      <th>bp</th>\n",
       "      <td>197.362492</td>\n",
       "      <td>47.434846</td>\n",
       "    </tr>\n",
       "    <tr>\n",
       "      <th>s1</th>\n",
       "      <td>14.613257</td>\n",
       "      <td>18.491238</td>\n",
       "    </tr>\n",
       "    <tr>\n",
       "      <th>s2</th>\n",
       "      <td>-13.884237</td>\n",
       "      <td>13.440104</td>\n",
       "    </tr>\n",
       "    <tr>\n",
       "      <th>s3</th>\n",
       "      <td>-124.649836</td>\n",
       "      <td>-35.542087</td>\n",
       "    </tr>\n",
       "    <tr>\n",
       "      <th>s4</th>\n",
       "      <td>106.212967</td>\n",
       "      <td>38.896140</td>\n",
       "    </tr>\n",
       "    <tr>\n",
       "      <th>s5</th>\n",
       "      <td>221.068493</td>\n",
       "      <td>55.276290</td>\n",
       "    </tr>\n",
       "    <tr>\n",
       "      <th>s6</th>\n",
       "      <td>101.202546</td>\n",
       "      <td>35.868345</td>\n",
       "    </tr>\n",
       "  </tbody>\n",
       "</table>\n",
       "</div>"
      ],
      "text/plain": [
       "         alpha1    alpha10\n",
       "age   31.293421  16.703166\n",
       "sex  -71.448655  -1.796418\n",
       "bmi  267.605962  61.026376\n",
       "bp   197.362492  47.434846\n",
       "s1    14.613257  18.491238\n",
       "s2   -13.884237  13.440104\n",
       "s3  -124.649836 -35.542087\n",
       "s4   106.212967  38.896140\n",
       "s5   221.068493  55.276290\n",
       "s6   101.202546  35.868345"
      ]
     },
     "execution_count": 11,
     "metadata": {},
     "output_type": "execute_result"
    }
   ],
   "source": [
    "coef['alpha10'] = model.coef_\n",
    "coef"
   ]
  },
  {
   "cell_type": "code",
   "execution_count": 12,
   "id": "19349530",
   "metadata": {},
   "outputs": [
    {
     "data": {
      "text/plain": [
       "2744.9026742146693"
      ]
     },
     "execution_count": 12,
     "metadata": {},
     "output_type": "execute_result"
    }
   ],
   "source": [
    "from sklearn.linear_model import Ridge\n",
    "model = Ridge(alpha=0.1)\n",
    "\n",
    "model.fit(X_train, y_train)\n",
    "\n",
    "pred = model.predict(X_test)\n",
    "mean_squared_error(y_test,pred)"
   ]
  },
  {
   "cell_type": "code",
   "execution_count": 13,
   "id": "d2672e12",
   "metadata": {},
   "outputs": [
    {
     "data": {
      "text/html": [
       "<div>\n",
       "<style scoped>\n",
       "    .dataframe tbody tr th:only-of-type {\n",
       "        vertical-align: middle;\n",
       "    }\n",
       "\n",
       "    .dataframe tbody tr th {\n",
       "        vertical-align: top;\n",
       "    }\n",
       "\n",
       "    .dataframe thead th {\n",
       "        text-align: right;\n",
       "    }\n",
       "</style>\n",
       "<table border=\"1\" class=\"dataframe\">\n",
       "  <thead>\n",
       "    <tr style=\"text-align: right;\">\n",
       "      <th></th>\n",
       "      <th>alpha1</th>\n",
       "      <th>alpha10</th>\n",
       "      <th>alpha0.1</th>\n",
       "    </tr>\n",
       "  </thead>\n",
       "  <tbody>\n",
       "    <tr>\n",
       "      <th>age</th>\n",
       "      <td>31.293421</td>\n",
       "      <td>16.703166</td>\n",
       "      <td>4.275162</td>\n",
       "    </tr>\n",
       "    <tr>\n",
       "      <th>sex</th>\n",
       "      <td>-71.448655</td>\n",
       "      <td>-1.796418</td>\n",
       "      <td>-205.210484</td>\n",
       "    </tr>\n",
       "    <tr>\n",
       "      <th>bmi</th>\n",
       "      <td>267.605962</td>\n",
       "      <td>61.026376</td>\n",
       "      <td>450.909749</td>\n",
       "    </tr>\n",
       "    <tr>\n",
       "      <th>bp</th>\n",
       "      <td>197.362492</td>\n",
       "      <td>47.434846</td>\n",
       "      <td>331.923682</td>\n",
       "    </tr>\n",
       "    <tr>\n",
       "      <th>s1</th>\n",
       "      <td>14.613257</td>\n",
       "      <td>18.491238</td>\n",
       "      <td>-84.311149</td>\n",
       "    </tr>\n",
       "    <tr>\n",
       "      <th>s2</th>\n",
       "      <td>-13.884237</td>\n",
       "      <td>13.440104</td>\n",
       "      <td>-54.662514</td>\n",
       "    </tr>\n",
       "    <tr>\n",
       "      <th>s3</th>\n",
       "      <td>-124.649836</td>\n",
       "      <td>-35.542087</td>\n",
       "      <td>-158.706512</td>\n",
       "    </tr>\n",
       "    <tr>\n",
       "      <th>s4</th>\n",
       "      <td>106.212967</td>\n",
       "      <td>38.896140</td>\n",
       "      <td>114.066890</td>\n",
       "    </tr>\n",
       "    <tr>\n",
       "      <th>s5</th>\n",
       "      <td>221.068493</td>\n",
       "      <td>55.276290</td>\n",
       "      <td>391.231834</td>\n",
       "    </tr>\n",
       "    <tr>\n",
       "      <th>s6</th>\n",
       "      <td>101.202546</td>\n",
       "      <td>35.868345</td>\n",
       "      <td>78.555458</td>\n",
       "    </tr>\n",
       "  </tbody>\n",
       "</table>\n",
       "</div>"
      ],
      "text/plain": [
       "         alpha1    alpha10    alpha0.1\n",
       "age   31.293421  16.703166    4.275162\n",
       "sex  -71.448655  -1.796418 -205.210484\n",
       "bmi  267.605962  61.026376  450.909749\n",
       "bp   197.362492  47.434846  331.923682\n",
       "s1    14.613257  18.491238  -84.311149\n",
       "s2   -13.884237  13.440104  -54.662514\n",
       "s3  -124.649836 -35.542087 -158.706512\n",
       "s4   106.212967  38.896140  114.066890\n",
       "s5   221.068493  55.276290  391.231834\n",
       "s6   101.202546  35.868345   78.555458"
      ]
     },
     "execution_count": 13,
     "metadata": {},
     "output_type": "execute_result"
    }
   ],
   "source": [
    "coef['alpha0.1'] = model.coef_\n",
    "coef"
   ]
  },
  {
   "cell_type": "code",
   "execution_count": 14,
   "id": "569316dd",
   "metadata": {},
   "outputs": [
    {
     "data": {
      "text/plain": [
       "2699.6595785438312"
      ]
     },
     "execution_count": 14,
     "metadata": {},
     "output_type": "execute_result"
    }
   ],
   "source": [
    "from sklearn.linear_model import Ridge\n",
    "model = Ridge(alpha=0.05)\n",
    "\n",
    "model.fit(X_train, y_train)\n",
    "\n",
    "pred = model.predict(X_test)\n",
    "mean_squared_error(y_test,pred)"
   ]
  },
  {
   "cell_type": "code",
   "execution_count": 15,
   "id": "19bdf365",
   "metadata": {},
   "outputs": [
    {
     "data": {
      "text/html": [
       "<div>\n",
       "<style scoped>\n",
       "    .dataframe tbody tr th:only-of-type {\n",
       "        vertical-align: middle;\n",
       "    }\n",
       "\n",
       "    .dataframe tbody tr th {\n",
       "        vertical-align: top;\n",
       "    }\n",
       "\n",
       "    .dataframe thead th {\n",
       "        text-align: right;\n",
       "    }\n",
       "</style>\n",
       "<table border=\"1\" class=\"dataframe\">\n",
       "  <thead>\n",
       "    <tr style=\"text-align: right;\">\n",
       "      <th></th>\n",
       "      <th>alpha1</th>\n",
       "      <th>alpha10</th>\n",
       "      <th>alpha0.1</th>\n",
       "      <th>alpha0.05</th>\n",
       "    </tr>\n",
       "  </thead>\n",
       "  <tbody>\n",
       "    <tr>\n",
       "      <th>age</th>\n",
       "      <td>31.293421</td>\n",
       "      <td>16.703166</td>\n",
       "      <td>4.275162</td>\n",
       "      <td>-0.508850</td>\n",
       "    </tr>\n",
       "    <tr>\n",
       "      <th>sex</th>\n",
       "      <td>-71.448655</td>\n",
       "      <td>-1.796418</td>\n",
       "      <td>-205.210484</td>\n",
       "      <td>-223.345659</td>\n",
       "    </tr>\n",
       "    <tr>\n",
       "      <th>bmi</th>\n",
       "      <td>267.605962</td>\n",
       "      <td>61.026376</td>\n",
       "      <td>450.909749</td>\n",
       "      <td>469.447848</td>\n",
       "    </tr>\n",
       "    <tr>\n",
       "      <th>bp</th>\n",
       "      <td>197.362492</td>\n",
       "      <td>47.434846</td>\n",
       "      <td>331.923682</td>\n",
       "      <td>348.368885</td>\n",
       "    </tr>\n",
       "    <tr>\n",
       "      <th>s1</th>\n",
       "      <td>14.613257</td>\n",
       "      <td>18.491238</td>\n",
       "      <td>-84.311149</td>\n",
       "      <td>-146.952481</td>\n",
       "    </tr>\n",
       "    <tr>\n",
       "      <th>s2</th>\n",
       "      <td>-13.884237</td>\n",
       "      <td>13.440104</td>\n",
       "      <td>-54.662514</td>\n",
       "      <td>-18.297550</td>\n",
       "    </tr>\n",
       "    <tr>\n",
       "      <th>s3</th>\n",
       "      <td>-124.649836</td>\n",
       "      <td>-35.542087</td>\n",
       "      <td>-158.706512</td>\n",
       "      <td>-141.658486</td>\n",
       "    </tr>\n",
       "    <tr>\n",
       "      <th>s4</th>\n",
       "      <td>106.212967</td>\n",
       "      <td>38.896140</td>\n",
       "      <td>114.066890</td>\n",
       "      <td>115.860926</td>\n",
       "    </tr>\n",
       "    <tr>\n",
       "      <th>s5</th>\n",
       "      <td>221.068493</td>\n",
       "      <td>55.276290</td>\n",
       "      <td>391.231834</td>\n",
       "      <td>432.508101</td>\n",
       "    </tr>\n",
       "    <tr>\n",
       "      <th>s6</th>\n",
       "      <td>101.202546</td>\n",
       "      <td>35.868345</td>\n",
       "      <td>78.555458</td>\n",
       "      <td>69.578796</td>\n",
       "    </tr>\n",
       "  </tbody>\n",
       "</table>\n",
       "</div>"
      ],
      "text/plain": [
       "         alpha1    alpha10    alpha0.1   alpha0.05\n",
       "age   31.293421  16.703166    4.275162   -0.508850\n",
       "sex  -71.448655  -1.796418 -205.210484 -223.345659\n",
       "bmi  267.605962  61.026376  450.909749  469.447848\n",
       "bp   197.362492  47.434846  331.923682  348.368885\n",
       "s1    14.613257  18.491238  -84.311149 -146.952481\n",
       "s2   -13.884237  13.440104  -54.662514  -18.297550\n",
       "s3  -124.649836 -35.542087 -158.706512 -141.658486\n",
       "s4   106.212967  38.896140  114.066890  115.860926\n",
       "s5   221.068493  55.276290  391.231834  432.508101\n",
       "s6   101.202546  35.868345   78.555458   69.578796"
      ]
     },
     "execution_count": 15,
     "metadata": {},
     "output_type": "execute_result"
    }
   ],
   "source": [
    "coef['alpha0.05'] = model.coef_\n",
    "coef"
   ]
  },
  {
   "cell_type": "code",
   "execution_count": 16,
   "id": "ace77811",
   "metadata": {},
   "outputs": [
    {
     "data": {
      "image/png": "[encoded data removed]",
      "text/plain": [
       "<Figure size 640x480 with 1 Axes>"
      ]
     },
     "metadata": {},
     "output_type": "display_data"
    }
   ],
   "source": [
    "import matplotlib.pyplot as plt\n",
    "\n",
    "\n",
    "# 실제값과 예측값 산점도 그리기\n",
    "plt.scatter(y_test, pred, alpha=0.5)\n",
    "plt.xlabel('real')\n",
    "plt.ylabel('pred')\n",
    "plt.title('real data : predicted data')\n",
    "\n",
    "# 회귀선 추가\n",
    "plt.plot([y_test.min(), y_test.max()], [y_test.min(), y_test.max()], 'k--', lw=2)\n",
    "plt.show()"
   ]
  },
  {
   "cell_type": "code",
   "execution_count": 17,
   "id": "2be85567",
   "metadata": {},
   "outputs": [
    {
     "data": {
      "text/plain": [
       "4179.152642946343"
      ]
     },
     "execution_count": 17,
     "metadata": {},
     "output_type": "execute_result"
    }
   ],
   "source": [
    "# 라쏘 모듈 import\n",
    "from sklearn.linear_model import Lasso\n",
    "# 라쏘 객체 생성\n",
    "model = Lasso(alpha=1)\n",
    "# 학습 데이터와 학습 목표치를 가지고 학습 진행\n",
    "model.fit(X_train, y_train)\n",
    "# 검증 데이터로 결과 예측\n",
    "pred = model.predict(X_test)\n",
    "# 예측 데이터와 실체 데이터를 가지고 평균 제곱 오차 확인\n",
    "mean_squared_error(y_test,pred)"
   ]
  },
  {
   "cell_type": "code",
   "execution_count": 18,
   "id": "6e5e62b2",
   "metadata": {},
   "outputs": [
    {
     "data": {
      "text/html": [
       "<div>\n",
       "<style scoped>\n",
       "    .dataframe tbody tr th:only-of-type {\n",
       "        vertical-align: middle;\n",
       "    }\n",
       "\n",
       "    .dataframe tbody tr th {\n",
       "        vertical-align: top;\n",
       "    }\n",
       "\n",
       "    .dataframe thead th {\n",
       "        text-align: right;\n",
       "    }\n",
       "</style>\n",
       "<table border=\"1\" class=\"dataframe\">\n",
       "  <thead>\n",
       "    <tr style=\"text-align: right;\">\n",
       "      <th></th>\n",
       "      <th>alpha1</th>\n",
       "    </tr>\n",
       "  </thead>\n",
       "  <tbody>\n",
       "    <tr>\n",
       "      <th>age</th>\n",
       "      <td>0.000000</td>\n",
       "    </tr>\n",
       "    <tr>\n",
       "      <th>sex</th>\n",
       "      <td>-0.000000</td>\n",
       "    </tr>\n",
       "    <tr>\n",
       "      <th>bmi</th>\n",
       "      <td>343.589790</td>\n",
       "    </tr>\n",
       "    <tr>\n",
       "      <th>bp</th>\n",
       "      <td>46.369923</td>\n",
       "    </tr>\n",
       "    <tr>\n",
       "      <th>s1</th>\n",
       "      <td>0.000000</td>\n",
       "    </tr>\n",
       "    <tr>\n",
       "      <th>s2</th>\n",
       "      <td>0.000000</td>\n",
       "    </tr>\n",
       "    <tr>\n",
       "      <th>s3</th>\n",
       "      <td>-0.000000</td>\n",
       "    </tr>\n",
       "    <tr>\n",
       "      <th>s4</th>\n",
       "      <td>0.000000</td>\n",
       "    </tr>\n",
       "    <tr>\n",
       "      <th>s5</th>\n",
       "      <td>245.170617</td>\n",
       "    </tr>\n",
       "    <tr>\n",
       "      <th>s6</th>\n",
       "      <td>0.000000</td>\n",
       "    </tr>\n",
       "  </tbody>\n",
       "</table>\n",
       "</div>"
      ],
      "text/plain": [
       "         alpha1\n",
       "age    0.000000\n",
       "sex   -0.000000\n",
       "bmi  343.589790\n",
       "bp    46.369923\n",
       "s1     0.000000\n",
       "s2     0.000000\n",
       "s3    -0.000000\n",
       "s4     0.000000\n",
       "s5   245.170617\n",
       "s6     0.000000"
      ]
     },
     "execution_count": 18,
     "metadata": {},
     "output_type": "execute_result"
    }
   ],
   "source": [
    "# alpha 강도에 따른 가중치 변화 확인을 위한 데이터프레임 생성\n",
    "coef = pd.DataFrame(data=model.coef_, index=X_train.columns, columns=['alpha1'])\n",
    "coef"
   ]
  },
  {
   "cell_type": "code",
   "execution_count": 19,
   "id": "8f382e0f",
   "metadata": {},
   "outputs": [
    {
     "data": {
      "text/plain": [
       "6398.637179449031"
      ]
     },
     "execution_count": 19,
     "metadata": {},
     "output_type": "execute_result"
    }
   ],
   "source": [
    "# alpha 하이퍼 파라미터의 크기에 따른  규제 강도 비교\n",
    "from sklearn.linear_model import Lasso\n",
    "model = Lasso(alpha=2)\n",
    "\n",
    "model.fit(X_train, y_train)\n",
    "\n",
    "pred = model.predict(X_test)\n",
    "mean_squared_error(y_test,pred)"
   ]
  },
  {
   "cell_type": "code",
   "execution_count": 20,
   "id": "39287a6f",
   "metadata": {},
   "outputs": [
    {
     "data": {
      "text/html": [
       "<div>\n",
       "<style scoped>\n",
       "    .dataframe tbody tr th:only-of-type {\n",
       "        vertical-align: middle;\n",
       "    }\n",
       "\n",
       "    .dataframe tbody tr th {\n",
       "        vertical-align: top;\n",
       "    }\n",
       "\n",
       "    .dataframe thead th {\n",
       "        text-align: right;\n",
       "    }\n",
       "</style>\n",
       "<table border=\"1\" class=\"dataframe\">\n",
       "  <thead>\n",
       "    <tr style=\"text-align: right;\">\n",
       "      <th></th>\n",
       "      <th>alpha1</th>\n",
       "      <th>alpha2</th>\n",
       "    </tr>\n",
       "  </thead>\n",
       "  <tbody>\n",
       "    <tr>\n",
       "      <th>age</th>\n",
       "      <td>0.000000</td>\n",
       "      <td>0.000000</td>\n",
       "    </tr>\n",
       "    <tr>\n",
       "      <th>sex</th>\n",
       "      <td>-0.000000</td>\n",
       "      <td>0.000000</td>\n",
       "    </tr>\n",
       "    <tr>\n",
       "      <th>bmi</th>\n",
       "      <td>343.589790</td>\n",
       "      <td>42.963888</td>\n",
       "    </tr>\n",
       "    <tr>\n",
       "      <th>bp</th>\n",
       "      <td>46.369923</td>\n",
       "      <td>0.000000</td>\n",
       "    </tr>\n",
       "    <tr>\n",
       "      <th>s1</th>\n",
       "      <td>0.000000</td>\n",
       "      <td>0.000000</td>\n",
       "    </tr>\n",
       "    <tr>\n",
       "      <th>s2</th>\n",
       "      <td>0.000000</td>\n",
       "      <td>0.000000</td>\n",
       "    </tr>\n",
       "    <tr>\n",
       "      <th>s3</th>\n",
       "      <td>-0.000000</td>\n",
       "      <td>-0.000000</td>\n",
       "    </tr>\n",
       "    <tr>\n",
       "      <th>s4</th>\n",
       "      <td>0.000000</td>\n",
       "      <td>0.000000</td>\n",
       "    </tr>\n",
       "    <tr>\n",
       "      <th>s5</th>\n",
       "      <td>245.170617</td>\n",
       "      <td>0.000000</td>\n",
       "    </tr>\n",
       "    <tr>\n",
       "      <th>s6</th>\n",
       "      <td>0.000000</td>\n",
       "      <td>0.000000</td>\n",
       "    </tr>\n",
       "  </tbody>\n",
       "</table>\n",
       "</div>"
      ],
      "text/plain": [
       "         alpha1     alpha2\n",
       "age    0.000000   0.000000\n",
       "sex   -0.000000   0.000000\n",
       "bmi  343.589790  42.963888\n",
       "bp    46.369923   0.000000\n",
       "s1     0.000000   0.000000\n",
       "s2     0.000000   0.000000\n",
       "s3    -0.000000  -0.000000\n",
       "s4     0.000000   0.000000\n",
       "s5   245.170617   0.000000\n",
       "s6     0.000000   0.000000"
      ]
     },
     "execution_count": 20,
     "metadata": {},
     "output_type": "execute_result"
    }
   ],
   "source": [
    "coef['alpha2'] = model.coef_\n",
    "coef"
   ]
  },
  {
   "cell_type": "code",
   "execution_count": 21,
   "id": "21daaac2",
   "metadata": {},
   "outputs": [
    {
     "data": {
      "text/plain": [
       "2703.4583679188177"
      ]
     },
     "execution_count": 21,
     "metadata": {},
     "output_type": "execute_result"
    }
   ],
   "source": [
    "from sklearn.linear_model import Lasso\n",
    "model = Lasso(alpha=0.05)\n",
    "\n",
    "model.fit(X_train, y_train)\n",
    "\n",
    "pred = model.predict(X_test)\n",
    "mean_squared_error(y_test,pred)"
   ]
  },
  {
   "cell_type": "code",
   "execution_count": 22,
   "id": "ffa11e23",
   "metadata": {},
   "outputs": [
    {
     "data": {
      "text/html": [
       "<div>\n",
       "<style scoped>\n",
       "    .dataframe tbody tr th:only-of-type {\n",
       "        vertical-align: middle;\n",
       "    }\n",
       "\n",
       "    .dataframe tbody tr th {\n",
       "        vertical-align: top;\n",
       "    }\n",
       "\n",
       "    .dataframe thead th {\n",
       "        text-align: right;\n",
       "    }\n",
       "</style>\n",
       "<table border=\"1\" class=\"dataframe\">\n",
       "  <thead>\n",
       "    <tr style=\"text-align: right;\">\n",
       "      <th></th>\n",
       "      <th>alpha1</th>\n",
       "      <th>alpha2</th>\n",
       "      <th>alpha0.05</th>\n",
       "    </tr>\n",
       "  </thead>\n",
       "  <tbody>\n",
       "    <tr>\n",
       "      <th>age</th>\n",
       "      <td>0.000000</td>\n",
       "      <td>0.000000</td>\n",
       "      <td>-0.000000</td>\n",
       "    </tr>\n",
       "    <tr>\n",
       "      <th>sex</th>\n",
       "      <td>-0.000000</td>\n",
       "      <td>0.000000</td>\n",
       "      <td>-198.948213</td>\n",
       "    </tr>\n",
       "    <tr>\n",
       "      <th>bmi</th>\n",
       "      <td>343.589790</td>\n",
       "      <td>42.963888</td>\n",
       "      <td>487.198584</td>\n",
       "    </tr>\n",
       "    <tr>\n",
       "      <th>bp</th>\n",
       "      <td>46.369923</td>\n",
       "      <td>0.000000</td>\n",
       "      <td>340.490360</td>\n",
       "    </tr>\n",
       "    <tr>\n",
       "      <th>s1</th>\n",
       "      <td>0.000000</td>\n",
       "      <td>0.000000</td>\n",
       "      <td>-95.576361</td>\n",
       "    </tr>\n",
       "    <tr>\n",
       "      <th>s2</th>\n",
       "      <td>0.000000</td>\n",
       "      <td>0.000000</td>\n",
       "      <td>-0.000000</td>\n",
       "    </tr>\n",
       "    <tr>\n",
       "      <th>s3</th>\n",
       "      <td>-0.000000</td>\n",
       "      <td>-0.000000</td>\n",
       "      <td>-189.867452</td>\n",
       "    </tr>\n",
       "    <tr>\n",
       "      <th>s4</th>\n",
       "      <td>0.000000</td>\n",
       "      <td>0.000000</td>\n",
       "      <td>10.487703</td>\n",
       "    </tr>\n",
       "    <tr>\n",
       "      <th>s5</th>\n",
       "      <td>245.170617</td>\n",
       "      <td>0.000000</td>\n",
       "      <td>457.332197</td>\n",
       "    </tr>\n",
       "    <tr>\n",
       "      <th>s6</th>\n",
       "      <td>0.000000</td>\n",
       "      <td>0.000000</td>\n",
       "      <td>39.292925</td>\n",
       "    </tr>\n",
       "  </tbody>\n",
       "</table>\n",
       "</div>"
      ],
      "text/plain": [
       "         alpha1     alpha2   alpha0.05\n",
       "age    0.000000   0.000000   -0.000000\n",
       "sex   -0.000000   0.000000 -198.948213\n",
       "bmi  343.589790  42.963888  487.198584\n",
       "bp    46.369923   0.000000  340.490360\n",
       "s1     0.000000   0.000000  -95.576361\n",
       "s2     0.000000   0.000000   -0.000000\n",
       "s3    -0.000000  -0.000000 -189.867452\n",
       "s4     0.000000   0.000000   10.487703\n",
       "s5   245.170617   0.000000  457.332197\n",
       "s6     0.000000   0.000000   39.292925"
      ]
     },
     "execution_count": 22,
     "metadata": {},
     "output_type": "execute_result"
    }
   ],
   "source": [
    "coef['alpha0.05'] = model.coef_\n",
    "coef"
   ]
  },
  {
   "cell_type": "code",
   "execution_count": 23,
   "id": "a34e5216",
   "metadata": {},
   "outputs": [
    {
     "data": {
      "image/png": "[encoded data removed]",
      "text/plain": [
       "<Figure size 640x480 with 1 Axes>"
      ]
     },
     "metadata": {},
     "output_type": "display_data"
    }
   ],
   "source": [
    "import matplotlib.pyplot as plt\n",
    "\n",
    "\n",
    "# 실제값과 예측값 산점도 그리기\n",
    "plt.scatter(y_test, pred, alpha=0.5)\n",
    "plt.xlabel('real')\n",
    "plt.ylabel('pred')\n",
    "plt.title('real data : predicted data')\n",
    "\n",
    "# 회귀선 추가\n",
    "plt.plot([y_test.min(), y_test.max()], [y_test.min(), y_test.max()], 'k--', lw=2)\n",
    "plt.show()"
   ]
  },
  {
   "cell_type": "code",
   "execution_count": 50,
   "id": "08e7fb80",
   "metadata": {},
   "outputs": [
    {
     "data": {
      "text/plain": [
       "2676.643355572538"
      ]
     },
     "execution_count": 50,
     "metadata": {},
     "output_type": "execute_result"
    }
   ],
   "source": [
    "# 엘라스틱넷 모듈 import\n",
    "from sklearn.linear_model import ElasticNet\n",
    "# 엘라스틱넷 객체 생성\n",
    "model = ElasticNet(alpha=0.0001)\n",
    "# 학습 데이터와 학습 목표치를 가지고 학습 진행\n",
    "model.fit(X_train, y_train)\n",
    "# 검증 데이터로 결과 예측\n",
    "pred = model.predict(X_test)\n",
    "# 예측 데이터와 실체 데이터를 가지고 평균 제곱 오차 확인\n",
    "mean_squared_error(y_test,pred)"
   ]
  },
  {
   "cell_type": "code",
   "execution_count": 51,
   "id": "c9cbab2c",
   "metadata": {},
   "outputs": [
    {
     "data": {
      "text/html": [
       "<div>\n",
       "<style scoped>\n",
       "    .dataframe tbody tr th:only-of-type {\n",
       "        vertical-align: middle;\n",
       "    }\n",
       "\n",
       "    .dataframe tbody tr th {\n",
       "        vertical-align: top;\n",
       "    }\n",
       "\n",
       "    .dataframe thead th {\n",
       "        text-align: right;\n",
       "    }\n",
       "</style>\n",
       "<table border=\"1\" class=\"dataframe\">\n",
       "  <thead>\n",
       "    <tr style=\"text-align: right;\">\n",
       "      <th></th>\n",
       "      <th>alpha1</th>\n",
       "    </tr>\n",
       "  </thead>\n",
       "  <tbody>\n",
       "    <tr>\n",
       "      <th>age</th>\n",
       "      <td>-5.188428</td>\n",
       "    </tr>\n",
       "    <tr>\n",
       "      <th>sex</th>\n",
       "      <td>-237.658051</td>\n",
       "    </tr>\n",
       "    <tr>\n",
       "      <th>bmi</th>\n",
       "      <td>480.577902</td>\n",
       "    </tr>\n",
       "    <tr>\n",
       "      <th>bp</th>\n",
       "      <td>361.288721</td>\n",
       "    </tr>\n",
       "    <tr>\n",
       "      <th>s1</th>\n",
       "      <td>-311.783503</td>\n",
       "    </tr>\n",
       "    <tr>\n",
       "      <th>s2</th>\n",
       "      <td>104.620363</td>\n",
       "    </tr>\n",
       "    <tr>\n",
       "      <th>s3</th>\n",
       "      <td>-78.500283</td>\n",
       "    </tr>\n",
       "    <tr>\n",
       "      <th>s4</th>\n",
       "      <td>128.622707</td>\n",
       "    </tr>\n",
       "    <tr>\n",
       "      <th>s5</th>\n",
       "      <td>508.598675</td>\n",
       "    </tr>\n",
       "    <tr>\n",
       "      <th>s6</th>\n",
       "      <td>61.368114</td>\n",
       "    </tr>\n",
       "  </tbody>\n",
       "</table>\n",
       "</div>"
      ],
      "text/plain": [
       "         alpha1\n",
       "age   -5.188428\n",
       "sex -237.658051\n",
       "bmi  480.577902\n",
       "bp   361.288721\n",
       "s1  -311.783503\n",
       "s2   104.620363\n",
       "s3   -78.500283\n",
       "s4   128.622707\n",
       "s5   508.598675\n",
       "s6    61.368114"
      ]
     },
     "execution_count": 51,
     "metadata": {},
     "output_type": "execute_result"
    }
   ],
   "source": [
    "# ratio 비율에 따른 가중치 변화 확인을 위한 데이터프레임 생성\n",
    "coef = pd.DataFrame(data=model.coef_, index=X_train.columns, columns=['alpha1'])\n",
    "coef"
   ]
  },
  {
   "cell_type": "code",
   "execution_count": 52,
   "id": "7ffe77f8",
   "metadata": {},
   "outputs": [
    {
     "data": {
      "text/plain": [
       "2675.603165722531"
      ]
     },
     "execution_count": 52,
     "metadata": {},
     "output_type": "execute_result"
    }
   ],
   "source": [
    "# ratio 하이퍼 파라미터의 비율에 따른  규제 강도 비교\n",
    "from sklearn.linear_model import ElasticNet\n",
    "model = ElasticNet(alpha=0.0001,l1_ratio=0.6)\n",
    "\n",
    "model.fit(X_train, y_train)\n",
    "\n",
    "pred = model.predict(X_test)\n",
    "mean_squared_error(y_test,pred)"
   ]
  },
  {
   "cell_type": "code",
   "execution_count": 53,
   "id": "ae1ddc9e",
   "metadata": {},
   "outputs": [
    {
     "data": {
      "text/html": [
       "<div>\n",
       "<style scoped>\n",
       "    .dataframe tbody tr th:only-of-type {\n",
       "        vertical-align: middle;\n",
       "    }\n",
       "\n",
       "    .dataframe tbody tr th {\n",
       "        vertical-align: top;\n",
       "    }\n",
       "\n",
       "    .dataframe thead th {\n",
       "        text-align: right;\n",
       "    }\n",
       "</style>\n",
       "<table border=\"1\" class=\"dataframe\">\n",
       "  <thead>\n",
       "    <tr style=\"text-align: right;\">\n",
       "      <th></th>\n",
       "      <th>alpha1</th>\n",
       "      <th>alpha0.0001_l10.6</th>\n",
       "    </tr>\n",
       "  </thead>\n",
       "  <tbody>\n",
       "    <tr>\n",
       "      <th>age</th>\n",
       "      <td>-5.188428</td>\n",
       "      <td>-6.015735</td>\n",
       "    </tr>\n",
       "    <tr>\n",
       "      <th>sex</th>\n",
       "      <td>-237.658051</td>\n",
       "      <td>-239.597359</td>\n",
       "    </tr>\n",
       "    <tr>\n",
       "      <th>bmi</th>\n",
       "      <td>480.577902</td>\n",
       "      <td>481.417355</td>\n",
       "    </tr>\n",
       "    <tr>\n",
       "      <th>bp</th>\n",
       "      <td>361.288721</td>\n",
       "      <td>363.029107</td>\n",
       "    </tr>\n",
       "    <tr>\n",
       "      <th>s1</th>\n",
       "      <td>-311.783503</td>\n",
       "      <td>-359.548299</td>\n",
       "    </tr>\n",
       "    <tr>\n",
       "      <th>s2</th>\n",
       "      <td>104.620363</td>\n",
       "      <td>141.807274</td>\n",
       "    </tr>\n",
       "    <tr>\n",
       "      <th>s3</th>\n",
       "      <td>-78.500283</td>\n",
       "      <td>-58.759760</td>\n",
       "    </tr>\n",
       "    <tr>\n",
       "      <th>s4</th>\n",
       "      <td>128.622707</td>\n",
       "      <td>133.301380</td>\n",
       "    </tr>\n",
       "    <tr>\n",
       "      <th>s5</th>\n",
       "      <td>508.598675</td>\n",
       "      <td>528.331451</td>\n",
       "    </tr>\n",
       "    <tr>\n",
       "      <th>s6</th>\n",
       "      <td>61.368114</td>\n",
       "      <td>60.168969</td>\n",
       "    </tr>\n",
       "  </tbody>\n",
       "</table>\n",
       "</div>"
      ],
      "text/plain": [
       "         alpha1  alpha0.0001_l10.6\n",
       "age   -5.188428          -6.015735\n",
       "sex -237.658051        -239.597359\n",
       "bmi  480.577902         481.417355\n",
       "bp   361.288721         363.029107\n",
       "s1  -311.783503        -359.548299\n",
       "s2   104.620363         141.807274\n",
       "s3   -78.500283         -58.759760\n",
       "s4   128.622707         133.301380\n",
       "s5   508.598675         528.331451\n",
       "s6    61.368114          60.168969"
      ]
     },
     "execution_count": 53,
     "metadata": {},
     "output_type": "execute_result"
    }
   ],
   "source": [
    "coef['alpha0.0001_l10.6'] = model.coef_\n",
    "coef"
   ]
  },
  {
   "cell_type": "code",
   "execution_count": 54,
   "id": "8bd71c6e",
   "metadata": {},
   "outputs": [
    {
     "data": {
      "image/png": "[encoded data removed]",
      "text/plain": [
       "<Figure size 640x480 with 1 Axes>"
      ]
     },
     "metadata": {},
     "output_type": "display_data"
    }
   ],
   "source": [
    "import matplotlib.pyplot as plt\n",
    "\n",
    "\n",
    "# 실제값과 예측값 산점도 그리기\n",
    "plt.scatter(y_test, pred, alpha=0.5)\n",
    "plt.xlabel('real')\n",
    "plt.ylabel('pred')\n",
    "plt.title('real data : predicted data')\n",
    "\n",
    "# 회귀선 추가\n",
    "plt.plot([y_test.min(), y_test.max()], [y_test.min(), y_test.max()], 'k--', lw=2)\n",
    "plt.show()"
   ]
  },
  {
   "cell_type": "code",
   "execution_count": 31,
   "id": "7734e7a9",
   "metadata": {},
   "outputs": [
    {
     "data": {
      "text/plain": [
       "3074.706584269663"
      ]
     },
     "execution_count": 31,
     "metadata": {},
     "output_type": "execute_result"
    }
   ],
   "source": [
    "# 랜덤 포레스트 모듈 import\n",
    "from sklearn.ensemble import RandomForestRegressor\n",
    "# 랜덤 포레스트 리그레서 객체 생성\n",
    "model = RandomForestRegressor()\n",
    "# 학습 데이터와 학습 목표치를 가지고 학습 진행\n",
    "model.fit(X_train,y_train)\n",
    "# 검증 데이터로 결과 예측\n",
    "pred = model.predict(X_test)\n",
    "# 예측 데이터와 실체 데이터를 가지고 평균 제곱 오차 확인\n",
    "mean_squared_error(y_test, pred)"
   ]
  },
  {
   "cell_type": "code",
   "execution_count": 32,
   "id": "ca73237a",
   "metadata": {},
   "outputs": [
    {
     "data": {
      "text/plain": [
       "4265.475533439266"
      ]
     },
     "execution_count": 32,
     "metadata": {},
     "output_type": "execute_result"
    }
   ],
   "source": [
    "# xgboost 모듈 import\n",
    "from xgboost import XGBRegressor\n",
    "# xgboost 리그레서 객체 생성\n",
    "model = XGBRegressor()\n",
    "# 학습 데이터와 학습 목표치를 가지고 학습 진행\n",
    "model.fit(X_train,y_train)\n",
    "# 검증 데이터로 결과 예측\n",
    "pred = model.predict(X_test)\n",
    "# 예측 데이터와 실체 데이터를 가지고 평균 제곱 오차 확인\n",
    "mean_squared_error(y_test, pred)"
   ]
  },
  {
   "cell_type": "code",
   "execution_count": 55,
   "id": "da53e633",
   "metadata": {},
   "outputs": [],
   "source": [
    "# GridSearchCV 모듈과 RandomizedSearchCV 모듈 import\n",
    "from sklearn.model_selection import GridSearchCV, RandomizedSearchCV"
   ]
  },
  {
   "cell_type": "code",
   "execution_count": 56,
   "id": "1f58380f",
   "metadata": {},
   "outputs": [],
   "source": [
    "# 탐색할 범위 지정\n",
    "params = {\n",
    "    'learning_rate':[0.07, 0.05],\n",
    "    'max_depth':[3,5,7],\n",
    "    'n_estimators':[100,200],\n",
    "    'subsample':[0.9,0.8,0.7]\n",
    "}"
   ]
  },
  {
   "cell_type": "code",
   "execution_count": 57,
   "id": "3251dfcd",
   "metadata": {},
   "outputs": [],
   "source": [
    "# 데이터셋 생성 함수 정의\n",
    "def make_dataset2():\n",
    "    # 백혈병 데이터셋 객체 생성\n",
    "    dataset = load_diabetes()\n",
    "    # 백혈병 데이터셋의 데이터와 피처 이름으로 데이터프레임 생성\n",
    "    df = pd.DataFrame(data=dataset.data, columns=dataset.feature_names)\n",
    "    #목표치 데이터 컬럼 추가\n",
    "    df['target'] = dataset.target\n",
    "\n",
    "    return df.drop('target',axis=1), df['target']\n",
    "\n",
    "# 데이터셋 생성 함수 호출\n",
    "X, y = make_dataset2()"
   ]
  },
  {
   "cell_type": "code",
   "execution_count": 58,
   "id": "ece14097",
   "metadata": {},
   "outputs": [
    {
     "data": {
      "text/html": [
       "<style>#sk-container-id-3 {color: black;background-color: white;}#sk-container-id-3 pre{padding: 0;}#sk-container-id-3 div.sk-toggleable {background-color: white;}#sk-container-id-3 label.sk-toggleable__label {cursor: pointer;display: block;width: 100%;margin-bottom: 0;padding: 0.3em;box-sizing: border-box;text-align: center;}#sk-container-id-3 label.sk-toggleable__label-arrow:before {content: \"▸\";float: left;margin-right: 0.25em;color: #696969;}#sk-container-id-3 label.sk-toggleable__label-arrow:hover:before {color: black;}#sk-container-id-3 div.sk-estimator:hover label.sk-toggleable__label-arrow:before {color: black;}#sk-container-id-3 div.sk-toggleable__content {max-height: 0;max-width: 0;overflow: hidden;text-align: left;background-color: #f0f8ff;}#sk-container-id-3 div.sk-toggleable__content pre {margin: 0.2em;color: black;border-radius: 0.25em;background-color: #f0f8ff;}#sk-container-id-3 input.sk-toggleable__control:checked~div.sk-toggleable__content {max-height: 200px;max-width: 100%;overflow: auto;}#sk-container-id-3 input.sk-toggleable__control:checked~label.sk-toggleable__label-arrow:before {content: \"▾\";}#sk-container-id-3 div.sk-estimator input.sk-toggleable__control:checked~label.sk-toggleable__label {background-color: #d4ebff;}#sk-container-id-3 div.sk-label input.sk-toggleable__control:checked~label.sk-toggleable__label {background-color: #d4ebff;}#sk-container-id-3 input.sk-hidden--visually {border: 0;clip: rect(1px 1px 1px 1px);clip: rect(1px, 1px, 1px, 1px);height: 1px;margin: -1px;overflow: hidden;padding: 0;position: absolute;width: 1px;}#sk-container-id-3 div.sk-estimator {font-family: monospace;background-color: #f0f8ff;border: 1px dotted black;border-radius: 0.25em;box-sizing: border-box;margin-bottom: 0.5em;}#sk-container-id-3 div.sk-estimator:hover {background-color: #d4ebff;}#sk-container-id-3 div.sk-parallel-item::after {content: \"\";width: 100%;border-bottom: 1px solid gray;flex-grow: 1;}#sk-container-id-3 div.sk-label:hover label.sk-toggleable__label {background-color: #d4ebff;}#sk-container-id-3 div.sk-serial::before {content: \"\";position: absolute;border-left: 1px solid gray;box-sizing: border-box;top: 0;bottom: 0;left: 50%;z-index: 0;}#sk-container-id-3 div.sk-serial {display: flex;flex-direction: column;align-items: center;background-color: white;padding-right: 0.2em;padding-left: 0.2em;position: relative;}#sk-container-id-3 div.sk-item {position: relative;z-index: 1;}#sk-container-id-3 div.sk-parallel {display: flex;align-items: stretch;justify-content: center;background-color: white;position: relative;}#sk-container-id-3 div.sk-item::before, #sk-container-id-3 div.sk-parallel-item::before {content: \"\";position: absolute;border-left: 1px solid gray;box-sizing: border-box;top: 0;bottom: 0;left: 50%;z-index: -1;}#sk-container-id-3 div.sk-parallel-item {display: flex;flex-direction: column;z-index: 1;position: relative;background-color: white;}#sk-container-id-3 div.sk-parallel-item:first-child::after {align-self: flex-end;width: 50%;}#sk-container-id-3 div.sk-parallel-item:last-child::after {align-self: flex-start;width: 50%;}#sk-container-id-3 div.sk-parallel-item:only-child::after {width: 0;}#sk-container-id-3 div.sk-dashed-wrapped {border: 1px dashed gray;margin: 0 0.4em 0.5em 0.4em;box-sizing: border-box;padding-bottom: 0.4em;background-color: white;}#sk-container-id-3 div.sk-label label {font-family: monospace;font-weight: bold;display: inline-block;line-height: 1.2em;}#sk-container-id-3 div.sk-label-container {text-align: center;}#sk-container-id-3 div.sk-container {/* jupyter's `normalize.less` sets `[hidden] { display: none; }` but bootstrap.min.css set `[hidden] { display: none !important; }` so we also need the `!important` here to be able to override the default hidden behavior on the sphinx rendered scikit-learn.org. See: https://github.com/scikit-learn/scikit-learn/issues/21755 */display: inline-block !important;position: relative;}#sk-container-id-3 div.sk-text-repr-fallback {display: none;}</style><div id=\"sk-container-id-3\" class=\"sk-top-container\"><div class=\"sk-text-repr-fallback\"><pre>GridSearchCV(cv=3,\n",
       "             estimator=XGBRegressor(base_score=None, booster=None,\n",
       "                                    callbacks=None, colsample_bylevel=None,\n",
       "                                    colsample_bynode=None,\n",
       "                                    colsample_bytree=None, device=None,\n",
       "                                    early_stopping_rounds=None,\n",
       "                                    enable_categorical=False, eval_metric=None,\n",
       "                                    feature_types=None, gamma=None,\n",
       "                                    grow_policy=None, importance_type=None,\n",
       "                                    interaction_constraints=None,\n",
       "                                    learning_rate=None, m...\n",
       "                                    max_cat_to_onehot=None, max_delta_step=None,\n",
       "                                    max_depth=None, max_leaves=None,\n",
       "                                    min_child_weight=None, missing=nan,\n",
       "                                    monotone_constraints=None,\n",
       "                                    multi_strategy=None, n_estimators=None,\n",
       "                                    n_jobs=None, num_parallel_tree=None,\n",
       "                                    random_state=None, ...),\n",
       "             n_jobs=-1,\n",
       "             param_grid={&#x27;learning_rate&#x27;: [0.07, 0.05], &#x27;max_depth&#x27;: [3, 5, 7],\n",
       "                         &#x27;n_estimators&#x27;: [100, 200],\n",
       "                         &#x27;subsample&#x27;: [0.9, 0.8, 0.7]})</pre><b>In a Jupyter environment, please rerun this cell to show the HTML representation or trust the notebook. <br />On GitHub, the HTML representation is unable to render, please try loading this page with nbviewer.org.</b></div><div class=\"sk-container\" hidden><div class=\"sk-item sk-dashed-wrapped\"><div class=\"sk-label-container\"><div class=\"sk-label sk-toggleable\"><input class=\"sk-toggleable__control sk-hidden--visually\" id=\"sk-estimator-id-7\" type=\"checkbox\" ><label for=\"sk-estimator-id-7\" class=\"sk-toggleable__label sk-toggleable__label-arrow\">GridSearchCV</label><div class=\"sk-toggleable__content\"><pre>GridSearchCV(cv=3,\n",
       "             estimator=XGBRegressor(base_score=None, booster=None,\n",
       "                                    callbacks=None, colsample_bylevel=None,\n",
       "                                    colsample_bynode=None,\n",
       "                                    colsample_bytree=None, device=None,\n",
       "                                    early_stopping_rounds=None,\n",
       "                                    enable_categorical=False, eval_metric=None,\n",
       "                                    feature_types=None, gamma=None,\n",
       "                                    grow_policy=None, importance_type=None,\n",
       "                                    interaction_constraints=None,\n",
       "                                    learning_rate=None, m...\n",
       "                                    max_cat_to_onehot=None, max_delta_step=None,\n",
       "                                    max_depth=None, max_leaves=None,\n",
       "                                    min_child_weight=None, missing=nan,\n",
       "                                    monotone_constraints=None,\n",
       "                                    multi_strategy=None, n_estimators=None,\n",
       "                                    n_jobs=None, num_parallel_tree=None,\n",
       "                                    random_state=None, ...),\n",
       "             n_jobs=-1,\n",
       "             param_grid={&#x27;learning_rate&#x27;: [0.07, 0.05], &#x27;max_depth&#x27;: [3, 5, 7],\n",
       "                         &#x27;n_estimators&#x27;: [100, 200],\n",
       "                         &#x27;subsample&#x27;: [0.9, 0.8, 0.7]})</pre></div></div></div><div class=\"sk-parallel\"><div class=\"sk-parallel-item\"><div class=\"sk-item\"><div class=\"sk-label-container\"><div class=\"sk-label sk-toggleable\"><input class=\"sk-toggleable__control sk-hidden--visually\" id=\"sk-estimator-id-8\" type=\"checkbox\" ><label for=\"sk-estimator-id-8\" class=\"sk-toggleable__label sk-toggleable__label-arrow\">estimator: XGBRegressor</label><div class=\"sk-toggleable__content\"><pre>XGBRegressor(base_score=None, booster=None, callbacks=None,\n",
       "             colsample_bylevel=None, colsample_bynode=None,\n",
       "             colsample_bytree=None, device=None, early_stopping_rounds=None,\n",
       "             enable_categorical=False, eval_metric=None, feature_types=None,\n",
       "             gamma=None, grow_policy=None, importance_type=None,\n",
       "             interaction_constraints=None, learning_rate=None, max_bin=None,\n",
       "             max_cat_threshold=None, max_cat_to_onehot=None,\n",
       "             max_delta_step=None, max_depth=None, max_leaves=None,\n",
       "             min_child_weight=None, missing=nan, monotone_constraints=None,\n",
       "             multi_strategy=None, n_estimators=None, n_jobs=None,\n",
       "             num_parallel_tree=None, random_state=None, ...)</pre></div></div></div><div class=\"sk-serial\"><div class=\"sk-item\"><div class=\"sk-estimator sk-toggleable\"><input class=\"sk-toggleable__control sk-hidden--visually\" id=\"sk-estimator-id-9\" type=\"checkbox\" ><label for=\"sk-estimator-id-9\" class=\"sk-toggleable__label sk-toggleable__label-arrow\">XGBRegressor</label><div class=\"sk-toggleable__content\"><pre>XGBRegressor(base_score=None, booster=None, callbacks=None,\n",
       "             colsample_bylevel=None, colsample_bynode=None,\n",
       "             colsample_bytree=None, device=None, early_stopping_rounds=None,\n",
       "             enable_categorical=False, eval_metric=None, feature_types=None,\n",
       "             gamma=None, grow_policy=None, importance_type=None,\n",
       "             interaction_constraints=None, learning_rate=None, max_bin=None,\n",
       "             max_cat_threshold=None, max_cat_to_onehot=None,\n",
       "             max_delta_step=None, max_depth=None, max_leaves=None,\n",
       "             min_child_weight=None, missing=nan, monotone_constraints=None,\n",
       "             multi_strategy=None, n_estimators=None, n_jobs=None,\n",
       "             num_parallel_tree=None, random_state=None, ...)</pre></div></div></div></div></div></div></div></div></div></div>"
      ],
      "text/plain": [
       "GridSearchCV(cv=3,\n",
       "             estimator=XGBRegressor(base_score=None, booster=None,\n",
       "                                    callbacks=None, colsample_bylevel=None,\n",
       "                                    colsample_bynode=None,\n",
       "                                    colsample_bytree=None, device=None,\n",
       "                                    early_stopping_rounds=None,\n",
       "                                    enable_categorical=False, eval_metric=None,\n",
       "                                    feature_types=None, gamma=None,\n",
       "                                    grow_policy=None, importance_type=None,\n",
       "                                    interaction_constraints=None,\n",
       "                                    learning_rate=None, m...\n",
       "                                    max_cat_to_onehot=None, max_delta_step=None,\n",
       "                                    max_depth=None, max_leaves=None,\n",
       "                                    min_child_weight=None, missing=nan,\n",
       "                                    monotone_constraints=None,\n",
       "                                    multi_strategy=None, n_estimators=None,\n",
       "                                    n_jobs=None, num_parallel_tree=None,\n",
       "                                    random_state=None, ...),\n",
       "             n_jobs=-1,\n",
       "             param_grid={'learning_rate': [0.07, 0.05], 'max_depth': [3, 5, 7],\n",
       "                         'n_estimators': [100, 200],\n",
       "                         'subsample': [0.9, 0.8, 0.7]})"
      ]
     },
     "execution_count": 58,
     "metadata": {},
     "output_type": "execute_result"
    }
   ],
   "source": [
    "# xgb 리그레서 객체 생성\n",
    "xgb = XGBRegressor()\n",
    "# GridSearchCV 객체 생성 - 하이퍼 파라미터 : 리그레서 객체, 그리드(탐색 범위), 데이터 분할 개수, 사용할 코어 개수\n",
    "grid = GridSearchCV(xgb, params, cv=3, n_jobs=-1)\n",
    "# 학습 데이터와 학습 목표치를 가지고 학습 진행 - 설정된 범위 내의 인자 중 가장 적합한 하이퍼 파라미터 값 탐색\n",
    "grid.fit(X, y)"
   ]
  },
  {
   "cell_type": "code",
   "execution_count": 59,
   "id": "b6db5047",
   "metadata": {},
   "outputs": [
    {
     "data": {
      "text/plain": [
       "{'learning_rate': 0.05, 'max_depth': 3, 'n_estimators': 100, 'subsample': 0.7}"
      ]
     },
     "execution_count": 59,
     "metadata": {},
     "output_type": "execute_result"
    }
   ],
   "source": [
    "# 가장 적합한 하이퍼 파라미터 값 출력\n",
    "grid.best_params_"
   ]
  },
  {
   "cell_type": "code",
   "execution_count": 60,
   "id": "af85afcb",
   "metadata": {},
   "outputs": [
    {
     "data": {
      "text/plain": [
       "3020.722217577996"
      ]
     },
     "execution_count": 60,
     "metadata": {},
     "output_type": "execute_result"
    }
   ],
   "source": [
    "# 확인된 인자를 하이퍼 파라미터 값으로 입력\n",
    "xgb = XGBRegressor(\n",
    "    learning_rate=0.05,\n",
    "    max_depth=3,\n",
    "    n_estimators=100,\n",
    "    subsample=0.7\n",
    ")\n",
    "# 학습 데이터와 학습 목표치를 가지고 학습 진행\n",
    "xgb.fit(X_train, y_train)\n",
    "# 검증 데이터로 결과 예측\n",
    "pred = xgb.predict(X_test)\n",
    "# 예측 데이터와 실체 데이터를 가지고 평균 제곱 오차 확인\n",
    "mean_squared_error(y_test,pred)"
   ]
  },
  {
   "cell_type": "code",
   "execution_count": 62,
   "id": "1d9c1ee7",
   "metadata": {},
   "outputs": [
    {
     "data": {
      "text/html": [
       "<style>#sk-container-id-4 {color: black;background-color: white;}#sk-container-id-4 pre{padding: 0;}#sk-container-id-4 div.sk-toggleable {background-color: white;}#sk-container-id-4 label.sk-toggleable__label {cursor: pointer;display: block;width: 100%;margin-bottom: 0;padding: 0.3em;box-sizing: border-box;text-align: center;}#sk-container-id-4 label.sk-toggleable__label-arrow:before {content: \"▸\";float: left;margin-right: 0.25em;color: #696969;}#sk-container-id-4 label.sk-toggleable__label-arrow:hover:before {color: black;}#sk-container-id-4 div.sk-estimator:hover label.sk-toggleable__label-arrow:before {color: black;}#sk-container-id-4 div.sk-toggleable__content {max-height: 0;max-width: 0;overflow: hidden;text-align: left;background-color: #f0f8ff;}#sk-container-id-4 div.sk-toggleable__content pre {margin: 0.2em;color: black;border-radius: 0.25em;background-color: #f0f8ff;}#sk-container-id-4 input.sk-toggleable__control:checked~div.sk-toggleable__content {max-height: 200px;max-width: 100%;overflow: auto;}#sk-container-id-4 input.sk-toggleable__control:checked~label.sk-toggleable__label-arrow:before {content: \"▾\";}#sk-container-id-4 div.sk-estimator input.sk-toggleable__control:checked~label.sk-toggleable__label {background-color: #d4ebff;}#sk-container-id-4 div.sk-label input.sk-toggleable__control:checked~label.sk-toggleable__label {background-color: #d4ebff;}#sk-container-id-4 input.sk-hidden--visually {border: 0;clip: rect(1px 1px 1px 1px);clip: rect(1px, 1px, 1px, 1px);height: 1px;margin: -1px;overflow: hidden;padding: 0;position: absolute;width: 1px;}#sk-container-id-4 div.sk-estimator {font-family: monospace;background-color: #f0f8ff;border: 1px dotted black;border-radius: 0.25em;box-sizing: border-box;margin-bottom: 0.5em;}#sk-container-id-4 div.sk-estimator:hover {background-color: #d4ebff;}#sk-container-id-4 div.sk-parallel-item::after {content: \"\";width: 100%;border-bottom: 1px solid gray;flex-grow: 1;}#sk-container-id-4 div.sk-label:hover label.sk-toggleable__label {background-color: #d4ebff;}#sk-container-id-4 div.sk-serial::before {content: \"\";position: absolute;border-left: 1px solid gray;box-sizing: border-box;top: 0;bottom: 0;left: 50%;z-index: 0;}#sk-container-id-4 div.sk-serial {display: flex;flex-direction: column;align-items: center;background-color: white;padding-right: 0.2em;padding-left: 0.2em;position: relative;}#sk-container-id-4 div.sk-item {position: relative;z-index: 1;}#sk-container-id-4 div.sk-parallel {display: flex;align-items: stretch;justify-content: center;background-color: white;position: relative;}#sk-container-id-4 div.sk-item::before, #sk-container-id-4 div.sk-parallel-item::before {content: \"\";position: absolute;border-left: 1px solid gray;box-sizing: border-box;top: 0;bottom: 0;left: 50%;z-index: -1;}#sk-container-id-4 div.sk-parallel-item {display: flex;flex-direction: column;z-index: 1;position: relative;background-color: white;}#sk-container-id-4 div.sk-parallel-item:first-child::after {align-self: flex-end;width: 50%;}#sk-container-id-4 div.sk-parallel-item:last-child::after {align-self: flex-start;width: 50%;}#sk-container-id-4 div.sk-parallel-item:only-child::after {width: 0;}#sk-container-id-4 div.sk-dashed-wrapped {border: 1px dashed gray;margin: 0 0.4em 0.5em 0.4em;box-sizing: border-box;padding-bottom: 0.4em;background-color: white;}#sk-container-id-4 div.sk-label label {font-family: monospace;font-weight: bold;display: inline-block;line-height: 1.2em;}#sk-container-id-4 div.sk-label-container {text-align: center;}#sk-container-id-4 div.sk-container {/* jupyter's `normalize.less` sets `[hidden] { display: none; }` but bootstrap.min.css set `[hidden] { display: none !important; }` so we also need the `!important` here to be able to override the default hidden behavior on the sphinx rendered scikit-learn.org. See: https://github.com/scikit-learn/scikit-learn/issues/21755 */display: inline-block !important;position: relative;}#sk-container-id-4 div.sk-text-repr-fallback {display: none;}</style><div id=\"sk-container-id-4\" class=\"sk-top-container\"><div class=\"sk-text-repr-fallback\"><pre>RandomizedSearchCV(cv=3,\n",
       "                   estimator=XGBRegressor(base_score=None, booster=None,\n",
       "                                          callbacks=None,\n",
       "                                          colsample_bylevel=None,\n",
       "                                          colsample_bynode=None,\n",
       "                                          colsample_bytree=None, device=None,\n",
       "                                          early_stopping_rounds=None,\n",
       "                                          enable_categorical=False,\n",
       "                                          eval_metric=None, feature_types=None,\n",
       "                                          gamma=None, grow_policy=None,\n",
       "                                          importance_type=None,\n",
       "                                          interaction_constraints=None,\n",
       "                                          learning_rate=...\n",
       "                                          max_cat_to_onehot=None,\n",
       "                                          max_delta_step=None, max_depth=None,\n",
       "                                          max_leaves=None,\n",
       "                                          min_child_weight=None, missing=nan,\n",
       "                                          monotone_constraints=None,\n",
       "                                          multi_strategy=None,\n",
       "                                          n_estimators=None, n_jobs=None,\n",
       "                                          num_parallel_tree=None,\n",
       "                                          random_state=None, ...),\n",
       "                   n_jobs=-1,\n",
       "                   param_distributions={&#x27;learning_rate&#x27;: [0.07, 0.05],\n",
       "                                        &#x27;max_depth&#x27;: [3, 5, 7],\n",
       "                                        &#x27;n_estimators&#x27;: [100, 200],\n",
       "                                        &#x27;subsample&#x27;: [0.9, 0.8, 0.7]})</pre><b>In a Jupyter environment, please rerun this cell to show the HTML representation or trust the notebook. <br />On GitHub, the HTML representation is unable to render, please try loading this page with nbviewer.org.</b></div><div class=\"sk-container\" hidden><div class=\"sk-item sk-dashed-wrapped\"><div class=\"sk-label-container\"><div class=\"sk-label sk-toggleable\"><input class=\"sk-toggleable__control sk-hidden--visually\" id=\"sk-estimator-id-10\" type=\"checkbox\" ><label for=\"sk-estimator-id-10\" class=\"sk-toggleable__label sk-toggleable__label-arrow\">RandomizedSearchCV</label><div class=\"sk-toggleable__content\"><pre>RandomizedSearchCV(cv=3,\n",
       "                   estimator=XGBRegressor(base_score=None, booster=None,\n",
       "                                          callbacks=None,\n",
       "                                          colsample_bylevel=None,\n",
       "                                          colsample_bynode=None,\n",
       "                                          colsample_bytree=None, device=None,\n",
       "                                          early_stopping_rounds=None,\n",
       "                                          enable_categorical=False,\n",
       "                                          eval_metric=None, feature_types=None,\n",
       "                                          gamma=None, grow_policy=None,\n",
       "                                          importance_type=None,\n",
       "                                          interaction_constraints=None,\n",
       "                                          learning_rate=...\n",
       "                                          max_cat_to_onehot=None,\n",
       "                                          max_delta_step=None, max_depth=None,\n",
       "                                          max_leaves=None,\n",
       "                                          min_child_weight=None, missing=nan,\n",
       "                                          monotone_constraints=None,\n",
       "                                          multi_strategy=None,\n",
       "                                          n_estimators=None, n_jobs=None,\n",
       "                                          num_parallel_tree=None,\n",
       "                                          random_state=None, ...),\n",
       "                   n_jobs=-1,\n",
       "                   param_distributions={&#x27;learning_rate&#x27;: [0.07, 0.05],\n",
       "                                        &#x27;max_depth&#x27;: [3, 5, 7],\n",
       "                                        &#x27;n_estimators&#x27;: [100, 200],\n",
       "                                        &#x27;subsample&#x27;: [0.9, 0.8, 0.7]})</pre></div></div></div><div class=\"sk-parallel\"><div class=\"sk-parallel-item\"><div class=\"sk-item\"><div class=\"sk-label-container\"><div class=\"sk-label sk-toggleable\"><input class=\"sk-toggleable__control sk-hidden--visually\" id=\"sk-estimator-id-11\" type=\"checkbox\" ><label for=\"sk-estimator-id-11\" class=\"sk-toggleable__label sk-toggleable__label-arrow\">estimator: XGBRegressor</label><div class=\"sk-toggleable__content\"><pre>XGBRegressor(base_score=None, booster=None, callbacks=None,\n",
       "             colsample_bylevel=None, colsample_bynode=None,\n",
       "             colsample_bytree=None, device=None, early_stopping_rounds=None,\n",
       "             enable_categorical=False, eval_metric=None, feature_types=None,\n",
       "             gamma=None, grow_policy=None, importance_type=None,\n",
       "             interaction_constraints=None, learning_rate=None, max_bin=None,\n",
       "             max_cat_threshold=None, max_cat_to_onehot=None,\n",
       "             max_delta_step=None, max_depth=None, max_leaves=None,\n",
       "             min_child_weight=None, missing=nan, monotone_constraints=None,\n",
       "             multi_strategy=None, n_estimators=None, n_jobs=None,\n",
       "             num_parallel_tree=None, random_state=None, ...)</pre></div></div></div><div class=\"sk-serial\"><div class=\"sk-item\"><div class=\"sk-estimator sk-toggleable\"><input class=\"sk-toggleable__control sk-hidden--visually\" id=\"sk-estimator-id-12\" type=\"checkbox\" ><label for=\"sk-estimator-id-12\" class=\"sk-toggleable__label sk-toggleable__label-arrow\">XGBRegressor</label><div class=\"sk-toggleable__content\"><pre>XGBRegressor(base_score=None, booster=None, callbacks=None,\n",
       "             colsample_bylevel=None, colsample_bynode=None,\n",
       "             colsample_bytree=None, device=None, early_stopping_rounds=None,\n",
       "             enable_categorical=False, eval_metric=None, feature_types=None,\n",
       "             gamma=None, grow_policy=None, importance_type=None,\n",
       "             interaction_constraints=None, learning_rate=None, max_bin=None,\n",
       "             max_cat_threshold=None, max_cat_to_onehot=None,\n",
       "             max_delta_step=None, max_depth=None, max_leaves=None,\n",
       "             min_child_weight=None, missing=nan, monotone_constraints=None,\n",
       "             multi_strategy=None, n_estimators=None, n_jobs=None,\n",
       "             num_parallel_tree=None, random_state=None, ...)</pre></div></div></div></div></div></div></div></div></div></div>"
      ],
      "text/plain": [
       "RandomizedSearchCV(cv=3,\n",
       "                   estimator=XGBRegressor(base_score=None, booster=None,\n",
       "                                          callbacks=None,\n",
       "                                          colsample_bylevel=None,\n",
       "                                          colsample_bynode=None,\n",
       "                                          colsample_bytree=None, device=None,\n",
       "                                          early_stopping_rounds=None,\n",
       "                                          enable_categorical=False,\n",
       "                                          eval_metric=None, feature_types=None,\n",
       "                                          gamma=None, grow_policy=None,\n",
       "                                          importance_type=None,\n",
       "                                          interaction_constraints=None,\n",
       "                                          learning_rate=...\n",
       "                                          max_cat_to_onehot=None,\n",
       "                                          max_delta_step=None, max_depth=None,\n",
       "                                          max_leaves=None,\n",
       "                                          min_child_weight=None, missing=nan,\n",
       "                                          monotone_constraints=None,\n",
       "                                          multi_strategy=None,\n",
       "                                          n_estimators=None, n_jobs=None,\n",
       "                                          num_parallel_tree=None,\n",
       "                                          random_state=None, ...),\n",
       "                   n_jobs=-1,\n",
       "                   param_distributions={'learning_rate': [0.07, 0.05],\n",
       "                                        'max_depth': [3, 5, 7],\n",
       "                                        'n_estimators': [100, 200],\n",
       "                                        'subsample': [0.9, 0.8, 0.7]})"
      ]
     },
     "execution_count": 62,
     "metadata": {},
     "output_type": "execute_result"
    }
   ],
   "source": [
    "# xgb 리그레서 객체 생성\n",
    "xgb = XGBRegressor()\n",
    "# RandomizedSearchCV 객체 생성 - 하이퍼 파라미터 : 리그레서 객체, 그리드(탐색 범위), 데이터 분할 개수, 랜덤 하이퍼파라미터 조합의 수, 사용할 코어 개수\n",
    "rd = RandomizedSearchCV(xgb, params, cv=3, n_iter=10, n_jobs=-1)\n",
    "# 학습 데이터와 학습 목표치를 가지고 학습 진행 - 랜덤한 조합의 인자 중 가장 적합한 하이퍼 파라미터 값 탐색\n",
    "rd.fit(X,y)"
   ]
  },
  {
   "cell_type": "code",
   "execution_count": 63,
   "id": "6b4e4f30",
   "metadata": {},
   "outputs": [
    {
     "data": {
      "text/plain": [
       "{'subsample': 0.9, 'n_estimators': 100, 'max_depth': 3, 'learning_rate': 0.05}"
      ]
     },
     "execution_count": 63,
     "metadata": {},
     "output_type": "execute_result"
    }
   ],
   "source": [
    "# 가장 적합한 하이퍼 파라미터 값 출력\n",
    "rd.best_params_"
   ]
  },
  {
   "cell_type": "code",
   "execution_count": 65,
   "id": "e9931482",
   "metadata": {},
   "outputs": [
    {
     "data": {
      "text/plain": [
       "3179.8831661279423"
      ]
     },
     "execution_count": 65,
     "metadata": {},
     "output_type": "execute_result"
    }
   ],
   "source": [
    "# 확인된 인자를 하이퍼 파라미터 값으로 입력\n",
    "xgb = XGBRegressor(\n",
    "    learning_rate=0.05,\n",
    "    max_depth=3,\n",
    "    n_estimators=100,\n",
    "    subsample=0.9\n",
    ")\n",
    "# 학습 데이터와 학습 목표치를 가지고 학습 진행\n",
    "xgb.fit(X_train, y_train)\n",
    "# 검증 데이터로 결과 예측\n",
    "pred = xgb.predict(X_test)\n",
    "# 예측 데이터와 실체 데이터를 가지고 평균 제곱 오차 확인\n",
    "mean_squared_error(y_test,pred)"
   ]
  },
  {
   "cell_type": "code",
   "execution_count": 45,
   "id": "6a05b6ed",
   "metadata": {},
   "outputs": [
    {
     "data": {
      "text/plain": [
       "47.63303135218245"
      ]
     },
     "execution_count": 45,
     "metadata": {},
     "output_type": "execute_result"
    }
   ],
   "source": [
    "# 평균 절대값 오차 계산 모듈 import\n",
    "from sklearn.metrics import mean_absolute_error\n",
    "# 예측 데이터와 실체 데이터를 가지고 평균 절대값 오차 확인\n",
    "mean_absolute_error(y_test, pred)"
   ]
  },
  {
   "cell_type": "code",
   "execution_count": 46,
   "id": "b61193d6",
   "metadata": {},
   "outputs": [
    {
     "data": {
      "text/plain": [
       "3154.3336034377185"
      ]
     },
     "execution_count": 46,
     "metadata": {},
     "output_type": "execute_result"
    }
   ],
   "source": [
    "# 평균 제곱 오차 계산 모듈 import\n",
    "from sklearn.metrics import mean_squared_error\n",
    "# 예측 데이터와 실체 데이터를 가지고 평균 제곱 오차 확인\n",
    "mean_squared_error(y_test, pred)"
   ]
  },
  {
   "cell_type": "code",
   "execution_count": 47,
   "id": "29f29958",
   "metadata": {},
   "outputs": [
    {
     "data": {
      "text/plain": [
       "56.163454340324535"
      ]
     },
     "execution_count": 47,
     "metadata": {},
     "output_type": "execute_result"
    }
   ],
   "source": [
    "# 수식 계산 모듈 import\n",
    "import numpy as np\n",
    "# 평균 제곱 오차의 제곱근 계산\n",
    "np.sqrt(mean_squared_error(y_test, pred))"
   ]
  },
  {
   "cell_type": "code",
   "execution_count": 48,
   "id": "9c85b768",
   "metadata": {},
   "outputs": [
    {
     "data": {
      "text/plain": [
       "0.4313809272435647"
      ]
     },
     "execution_count": 48,
     "metadata": {},
     "output_type": "execute_result"
    }
   ],
   "source": [
    "# 평균 제곱 로그 오차 계산 모듈 import\n",
    "from sklearn.metrics import mean_squared_log_error\n",
    "# RMSE 평가에 로그 추가\n",
    "np.sqrt(mean_squared_log_error(y_test,pred))"
   ]
  },
  {
   "cell_type": "code",
   "execution_count": 49,
   "id": "ab5411c4",
   "metadata": {},
   "outputs": [
    {
     "data": {
      "text/plain": [
       "0.5182398701894719"
      ]
     },
     "execution_count": 49,
     "metadata": {},
     "output_type": "execute_result"
    }
   ],
   "source": [
    "# 결정 계수 계산 모듈 import\n",
    "from sklearn.metrics import r2_score\n",
    "# 예측 데이터와 실체 데이터를 가지고 결정계수 확인\n",
    "r2_score(y_test, pred)"
   ]
  },
  {
   "cell_type": "code",
   "execution_count": 66,
   "id": "42951b63",
   "metadata": {},
   "outputs": [
    {
     "data": {
      "image/png": "[encoded data removed]",
      "text/plain": [
       "<Figure size 1200x800 with 4 Axes>"
      ]
     },
     "metadata": {},
     "output_type": "display_data"
    }
   ],
   "source": [
    "import numpy as np\n",
    "import matplotlib.pyplot as plt\n",
    "from sklearn.linear_model import LinearRegression, Ridge, Lasso, ElasticNet\n",
    "from sklearn.preprocessing import PolynomialFeatures\n",
    "from sklearn.pipeline import make_pipeline\n",
    "\n",
    "# 데이터 생성\n",
    "np.random.seed(42)\n",
    "X = 2 * np.random.rand(100, 1)\n",
    "y = 4 + 3 * X + np.random.randn(100, 1)\n",
    "\n",
    "# 각 회귀 모델 학습\n",
    "linear_reg = LinearRegression()\n",
    "ridge_reg = Ridge(alpha=1, solver=\"cholesky\")  # 릿지 회귀\n",
    "lasso_reg = Lasso(alpha=0.1)  # 라쏘 회귀\n",
    "elastic_net_reg = ElasticNet(alpha=0.1, l1_ratio=0.5)  # 엘라스틱 넷 회귀\n",
    "\n",
    "# 다항 회귀용 파이프라인\n",
    "def poly_reg(degree, model):\n",
    "    return make_pipeline(PolynomialFeatures(degree), model)\n",
    "\n",
    "# 그래프 생성\n",
    "X_new = np.linspace(0, 2, 100).reshape(100, 1)\n",
    "plt.figure(figsize=(12, 8))\n",
    "\n",
    "# 선형 회귀\n",
    "plt.subplot(221)\n",
    "plt.scatter(X, y, color='blue', label='data')\n",
    "linear_reg.fit(X, y)\n",
    "plt.plot(X_new, linear_reg.predict(X_new), 'r-', label='line')\n",
    "plt.title('line')\n",
    "plt.legend()\n",
    "\n",
    "# 릿지 회귀\n",
    "plt.subplot(222)\n",
    "plt.scatter(X, y, color='blue', label='data')\n",
    "ridge_reg.fit(X, y)\n",
    "plt.plot(X_new, ridge_reg.predict(X_new), 'r-', label='ridge')\n",
    "plt.title('ridge')\n",
    "plt.legend()\n",
    "\n",
    "# 라쏘 회귀\n",
    "plt.subplot(223)\n",
    "plt.scatter(X, y, color='blue', label='data')\n",
    "lasso_reg.fit(X, y)\n",
    "plt.plot(X_new, lasso_reg.predict(X_new), 'r-', label='rasso')\n",
    "plt.title('rasso')\n",
    "plt.legend()\n",
    "\n",
    "# 엘라스틱 넷 회귀\n",
    "plt.subplot(224)\n",
    "plt.scatter(X, y, color='blue', label='data')\n",
    "elastic_net_reg.fit(X, y)\n",
    "plt.plot(X_new, elastic_net_reg.predict(X_new), 'r-', label='elastic net')\n",
    "plt.title('elastic net')\n",
    "plt.legend()\n",
    "\n",
    "plt.tight_layout()\n",
    "plt.show()"
   ]
  }
 ],
 "metadata": {
  "kernelspec": {
   "display_name": "Python 3 (ipykernel)",
   "language": "python",
   "name": "python3"
  },
  "language_info": {
   "codemirror_mode": {
    "name": "ipython",
    "version": 3
   },
   "file_extension": ".py",
   "mimetype": "text/x-python",
   "name": "python",
   "nbconvert_exporter": "python",
   "pygments_lexer": "ipython3",
   "version": "3.11.5"
  }
 },
 "nbformat": 4,
 "nbformat_minor": 5
}
