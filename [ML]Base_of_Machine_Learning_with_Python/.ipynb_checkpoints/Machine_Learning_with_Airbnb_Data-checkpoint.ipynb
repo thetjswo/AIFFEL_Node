{
 "cells": [
  {
   "cell_type": "markdown",
   "id": "a760d9ac",
   "metadata": {},
   "source": [
    "# 머신러닝 프로젝트\n",
    "\n",
    "\n",
    "---\n",
    "## 에어비앤비(뉴욕) 가격 예측 모델 만들기\n",
    "\n",
    "* 미국 NYC Airbnb 목록 데이터(2019년도)\n",
    "* 프로젝트 목적: 가격 예측(price)\n",
    "* 제공 데이터(3 개): train.csv, test.csv, y_test.csv(최종 채점용)\n",
    "* 평가 방식: MSE(평균제곱오차/실제 값과 예측 값 차이 -> 제곱해 평균)\n",
    "* [데이터 출처 바로가기](https://www.kaggle.com/datasets/dgomonov/new-york-city-airbnb-open-data)\n",
    "\n",
    "\n",
    "---\n",
    "## 목차\n",
    "**1. Baseline**  \n",
    "**2. EDA(탐색적 데이터 분석)**  \n",
    "**3. 데이터 전처리**  \n",
    "**4. 검증 데이터 분리**  \n",
    "**5. 머신러닝**  \n",
    "**6. 채점**\n",
    "\n",
    "\n",
    "---\n",
    "### 1. Baseline\n",
    "* 제공된 csv 파일을 특정 경로로 옮긴 뒤, pandas 라이브러리를 사용하여 불러온 후, 그 크기를 확인한다.\n",
    "* csv 파일이 있는 경로가 틀리지 않도록 유의한다.\n",
    "\n",
    "#### 사용 기술\n",
    "* **read_csv()** : pandas 라이브러리에 내장된 함수로, 불러오고자 하는 csv 파일의 경로를 지정하여 해당 경로로 접근한다.\n",
    "* **shape** : 데이터프레임의 행과 열의 개수를 반환한다."
   ]
  },
  {
   "cell_type": "code",
   "execution_count": 1,
   "id": "7b11a9b4",
   "metadata": {},
   "outputs": [
    {
     "data": {
      "text/plain": [
       "((39116, 16), (9779, 15))"
      ]
     },
     "execution_count": 1,
     "metadata": {},
     "output_type": "execute_result"
    }
   ],
   "source": [
    "# pandas 라이브러리 import\n",
    "import pandas as pd\n",
    "\n",
    "# train.csv 파일 불러오기\n",
    "train = pd.read_csv('/Users/leeseonjae/git/Aiffel_Node/Machine_Learning/csv_dir/train.csv')\n",
    "# test.csv 파일 불러오기\n",
    "test = pd.read_csv('/Users/leeseonjae/git/Aiffel_Node/Machine_Learning/csv_dir/test.csv')\n",
    "\n",
    "# train과 test의 크기 확인\n",
    "train.shape, test.shape"
   ]
  },
  {
   "cell_type": "markdown",
   "id": "6a3cceb7",
   "metadata": {},
   "source": [
    "---\n",
    "\n",
    "### EDA(탐색적 데이터 분석)\n",
    "* 앞으로 사용할 데이터프레임이 어떻게 생겼는지, 어떤 데이터를 가지고 있는지 분석한다.\n",
    "* 데이터 전처리 작업을 수행하기 위해서는 데이터의 생김새를 파악하는 것이 중요하다.\n",
    "* train 데이터와 test 데이터의 차이를 파악하고 그 차이 또한 분석한다.\n",
    "\n",
    "#### 사용 기술\n",
    "* **display()**: 지금까지는 어떠한 값을 확인할 때 print()함수로 출력을 했지만, display()함수로도 데이터프레임을 확인할 수 있다.\n",
    "* **head()**: 각 피처에 어떤 데이터가 들어있는지 확인할 때에는 전데 데이터를 확인할 필요 없이 특정 개수의 데이터만 확인하는 것이 효율적이다.\n",
    "* **info()**: 데이터프레임의 각 컬럼 별 데이터 타입 등의 정보를 확인할 수 있다.\n",
    "* **isnull()**: 각 컬럼의 데이터별 결측 여부를 Boolean 형태로 조회할 수 있다.\n",
    "    * sum()함수와 같이 쓰게 되면 각 컬럼 별 결측값의 개수를 파악할 수 있다.\n",
    "* **hist()**: 지정한 컬럼의 데이터로 히스토그램을 그려주는 함수이다.\n",
    "    * 히스토그램에서 사용할 막대의 개수는 bins 매개변수로 정할 수 있다.\n",
    "* **describe()**: 데이터프레임의 기술통계정보를 요약하여 조회할 수 있는 함수이다.\n",
    "    * count (개수): 결측치를 제외한 데이터의 개수\n",
    "    * mean (평균): 평균값\n",
    "    * std (표준편차): 데이터의 표준편차\n",
    "    * min (최솟값): 최솟값\n",
    "    * 25% (제 1사분위수): 데이터의 25%에 해당하는 값\n",
    "    * 50% (제 2사분위수 또는 중앙값): 데이터의 중앙에 위치한 값\n",
    "    * 75% (제 3사분위수): 데이터의 75%에 해당하는 값\n",
    "    * max (최댓값): 최댓값\n",
    "* **value_counts()**: 각 컬럼이 가지고 있는 데이터와 그 빈도를 알 수 있는 함수이다."
   ]
  },
  {
   "cell_type": "code",
   "execution_count": 2,
   "id": "e9a2eac6",
   "metadata": {},
   "outputs": [
    {
     "data": {
      "text/html": [
       "<div>\n",
       "<style scoped>\n",
       "    .dataframe tbody tr th:only-of-type {\n",
       "        vertical-align: middle;\n",
       "    }\n",
       "\n",
       "    .dataframe tbody tr th {\n",
       "        vertical-align: top;\n",
       "    }\n",
       "\n",
       "    .dataframe thead th {\n",
       "        text-align: right;\n",
       "    }\n",
       "</style>\n",
       "<table border=\"1\" class=\"dataframe\">\n",
       "  <thead>\n",
       "    <tr style=\"text-align: right;\">\n",
       "      <th></th>\n",
       "      <th>id</th>\n",
       "      <th>name</th>\n",
       "      <th>host_id</th>\n",
       "      <th>host_name</th>\n",
       "      <th>neighbourhood_group</th>\n",
       "      <th>neighbourhood</th>\n",
       "      <th>latitude</th>\n",
       "      <th>longitude</th>\n",
       "      <th>room_type</th>\n",
       "      <th>price</th>\n",
       "      <th>minimum_nights</th>\n",
       "      <th>number_of_reviews</th>\n",
       "      <th>last_review</th>\n",
       "      <th>reviews_per_month</th>\n",
       "      <th>calculated_host_listings_count</th>\n",
       "      <th>availability_365</th>\n",
       "    </tr>\n",
       "  </thead>\n",
       "  <tbody>\n",
       "    <tr>\n",
       "      <th>0</th>\n",
       "      <td>14963583</td>\n",
       "      <td>Room in South Harlem near Central Park</td>\n",
       "      <td>94219511</td>\n",
       "      <td>Gilles</td>\n",
       "      <td>Manhattan</td>\n",
       "      <td>Harlem</td>\n",
       "      <td>40.80167</td>\n",
       "      <td>-73.95781</td>\n",
       "      <td>Private room</td>\n",
       "      <td>70</td>\n",
       "      <td>3</td>\n",
       "      <td>3</td>\n",
       "      <td>2019-01-01</td>\n",
       "      <td>0.09</td>\n",
       "      <td>2</td>\n",
       "      <td>0</td>\n",
       "    </tr>\n",
       "    <tr>\n",
       "      <th>1</th>\n",
       "      <td>9458704</td>\n",
       "      <td>Large 1BR Apartment, near Times Sq (2nd Floor)</td>\n",
       "      <td>49015331</td>\n",
       "      <td>Iradj</td>\n",
       "      <td>Manhattan</td>\n",
       "      <td>Hell's Kitchen</td>\n",
       "      <td>40.76037</td>\n",
       "      <td>-73.99016</td>\n",
       "      <td>Entire home/apt</td>\n",
       "      <td>240</td>\n",
       "      <td>2</td>\n",
       "      <td>64</td>\n",
       "      <td>2019-06-30</td>\n",
       "      <td>1.68</td>\n",
       "      <td>2</td>\n",
       "      <td>262</td>\n",
       "    </tr>\n",
       "  </tbody>\n",
       "</table>\n",
       "</div>"
      ],
      "text/plain": [
       "         id                                            name   host_id  \\\n",
       "0  14963583          Room in South Harlem near Central Park  94219511   \n",
       "1   9458704  Large 1BR Apartment, near Times Sq (2nd Floor)  49015331   \n",
       "\n",
       "  host_name neighbourhood_group   neighbourhood  latitude  longitude  \\\n",
       "0    Gilles           Manhattan          Harlem  40.80167  -73.95781   \n",
       "1     Iradj           Manhattan  Hell's Kitchen  40.76037  -73.99016   \n",
       "\n",
       "         room_type  price  minimum_nights  number_of_reviews last_review  \\\n",
       "0     Private room     70               3                  3  2019-01-01   \n",
       "1  Entire home/apt    240               2                 64  2019-06-30   \n",
       "\n",
       "   reviews_per_month  calculated_host_listings_count  availability_365  \n",
       "0               0.09                               2                 0  \n",
       "1               1.68                               2               262  "
      ]
     },
     "metadata": {},
     "output_type": "display_data"
    },
    {
     "data": {
      "text/html": [
       "<div>\n",
       "<style scoped>\n",
       "    .dataframe tbody tr th:only-of-type {\n",
       "        vertical-align: middle;\n",
       "    }\n",
       "\n",
       "    .dataframe tbody tr th {\n",
       "        vertical-align: top;\n",
       "    }\n",
       "\n",
       "    .dataframe thead th {\n",
       "        text-align: right;\n",
       "    }\n",
       "</style>\n",
       "<table border=\"1\" class=\"dataframe\">\n",
       "  <thead>\n",
       "    <tr style=\"text-align: right;\">\n",
       "      <th></th>\n",
       "      <th>id</th>\n",
       "      <th>name</th>\n",
       "      <th>host_id</th>\n",
       "      <th>host_name</th>\n",
       "      <th>neighbourhood_group</th>\n",
       "      <th>neighbourhood</th>\n",
       "      <th>latitude</th>\n",
       "      <th>longitude</th>\n",
       "      <th>room_type</th>\n",
       "      <th>minimum_nights</th>\n",
       "      <th>number_of_reviews</th>\n",
       "      <th>last_review</th>\n",
       "      <th>reviews_per_month</th>\n",
       "      <th>calculated_host_listings_count</th>\n",
       "      <th>availability_365</th>\n",
       "    </tr>\n",
       "  </thead>\n",
       "  <tbody>\n",
       "    <tr>\n",
       "      <th>0</th>\n",
       "      <td>30913224</td>\n",
       "      <td>Cozy and Sunny Room Williamsburg, Luxury Building</td>\n",
       "      <td>33771081</td>\n",
       "      <td>Rémy</td>\n",
       "      <td>Brooklyn</td>\n",
       "      <td>Williamsburg</td>\n",
       "      <td>40.70959</td>\n",
       "      <td>-73.94652</td>\n",
       "      <td>Private room</td>\n",
       "      <td>3</td>\n",
       "      <td>2</td>\n",
       "      <td>2019-05-08</td>\n",
       "      <td>0.31</td>\n",
       "      <td>1</td>\n",
       "      <td>0</td>\n",
       "    </tr>\n",
       "    <tr>\n",
       "      <th>1</th>\n",
       "      <td>971247</td>\n",
       "      <td>Sunny Artist Live/Work Apartment</td>\n",
       "      <td>5308961</td>\n",
       "      <td>Larry</td>\n",
       "      <td>Manhattan</td>\n",
       "      <td>Upper West Side</td>\n",
       "      <td>40.79368</td>\n",
       "      <td>-73.96487</td>\n",
       "      <td>Entire home/apt</td>\n",
       "      <td>3</td>\n",
       "      <td>159</td>\n",
       "      <td>2019-07-03</td>\n",
       "      <td>2.09</td>\n",
       "      <td>1</td>\n",
       "      <td>244</td>\n",
       "    </tr>\n",
       "  </tbody>\n",
       "</table>\n",
       "</div>"
      ],
      "text/plain": [
       "         id                                               name   host_id  \\\n",
       "0  30913224  Cozy and Sunny Room Williamsburg, Luxury Building  33771081   \n",
       "1    971247                   Sunny Artist Live/Work Apartment   5308961   \n",
       "\n",
       "  host_name neighbourhood_group    neighbourhood  latitude  longitude  \\\n",
       "0      Rémy            Brooklyn     Williamsburg  40.70959  -73.94652   \n",
       "1     Larry           Manhattan  Upper West Side  40.79368  -73.96487   \n",
       "\n",
       "         room_type  minimum_nights  number_of_reviews last_review  \\\n",
       "0     Private room               3                  2  2019-05-08   \n",
       "1  Entire home/apt               3                159  2019-07-03   \n",
       "\n",
       "   reviews_per_month  calculated_host_listings_count  availability_365  \n",
       "0               0.31                               1                 0  \n",
       "1               2.09                               1               244  "
      ]
     },
     "metadata": {},
     "output_type": "display_data"
    }
   ],
   "source": [
    "# train 데이터의 맨 위 2개 열의 데이터 조회\n",
    "display(train.head(2))\n",
    "# test 데이터의 맨 위 2개 열의 데이터 조회\n",
    "display(test.head(2))"
   ]
  },
  {
   "cell_type": "code",
   "execution_count": 3,
   "id": "72e7cfac",
   "metadata": {},
   "outputs": [
    {
     "name": "stdout",
     "output_type": "stream",
     "text": [
      "<class 'pandas.core.frame.DataFrame'>\n",
      "RangeIndex: 39116 entries, 0 to 39115\n",
      "Data columns (total 16 columns):\n",
      " #   Column                          Non-Null Count  Dtype  \n",
      "---  ------                          --------------  -----  \n",
      " 0   id                              39116 non-null  int64  \n",
      " 1   name                            39104 non-null  object \n",
      " 2   host_id                         39116 non-null  int64  \n",
      " 3   host_name                       39099 non-null  object \n",
      " 4   neighbourhood_group             39116 non-null  object \n",
      " 5   neighbourhood                   39116 non-null  object \n",
      " 6   latitude                        39116 non-null  float64\n",
      " 7   longitude                       39116 non-null  float64\n",
      " 8   room_type                       39116 non-null  object \n",
      " 9   price                           39116 non-null  int64  \n",
      " 10  minimum_nights                  39116 non-null  int64  \n",
      " 11  number_of_reviews               39116 non-null  int64  \n",
      " 12  last_review                     31122 non-null  object \n",
      " 13  reviews_per_month               31122 non-null  float64\n",
      " 14  calculated_host_listings_count  39116 non-null  int64  \n",
      " 15  availability_365                39116 non-null  int64  \n",
      "dtypes: float64(3), int64(7), object(6)\n",
      "memory usage: 4.8+ MB\n"
     ]
    }
   ],
   "source": [
    "# train 데이터의 정보 조회 - 이 과정에서 데이터 타입을 확인하면 추 후, 전처리 과정에서 사용할 스케일링 기법을 파악할 수 있다.\n",
    "train.info()"
   ]
  },
  {
   "cell_type": "code",
   "execution_count": 4,
   "id": "87e2d102",
   "metadata": {},
   "outputs": [
    {
     "data": {
      "text/plain": [
       "id                                   0\n",
       "name                                12\n",
       "host_id                              0\n",
       "host_name                           17\n",
       "neighbourhood_group                  0\n",
       "neighbourhood                        0\n",
       "latitude                             0\n",
       "longitude                            0\n",
       "room_type                            0\n",
       "price                                0\n",
       "minimum_nights                       0\n",
       "number_of_reviews                    0\n",
       "last_review                       7994\n",
       "reviews_per_month                 7994\n",
       "calculated_host_listings_count       0\n",
       "availability_365                     0\n",
       "dtype: int64"
      ]
     },
     "execution_count": 4,
     "metadata": {},
     "output_type": "execute_result"
    }
   ],
   "source": [
    "# train 데이터의 컬럼 별 결측치 확인\n",
    "train.isnull().sum()"
   ]
  },
  {
   "cell_type": "code",
   "execution_count": 5,
   "id": "33973161",
   "metadata": {},
   "outputs": [
    {
     "data": {
      "text/plain": [
       "id                                   0\n",
       "name                                 4\n",
       "host_id                              0\n",
       "host_name                            4\n",
       "neighbourhood_group                  0\n",
       "neighbourhood                        0\n",
       "latitude                             0\n",
       "longitude                            0\n",
       "room_type                            0\n",
       "minimum_nights                       0\n",
       "number_of_reviews                    0\n",
       "last_review                       2058\n",
       "reviews_per_month                 2058\n",
       "calculated_host_listings_count       0\n",
       "availability_365                     0\n",
       "dtype: int64"
      ]
     },
     "execution_count": 5,
     "metadata": {},
     "output_type": "execute_result"
    }
   ],
   "source": [
    "# test 데이터의 컬럼 별 결측치 확인\n",
    "test.isnull().sum()"
   ]
  },
  {
   "cell_type": "code",
   "execution_count": 6,
   "id": "b11628b0",
   "metadata": {},
   "outputs": [
    {
     "data": {
      "text/plain": [
       "<Axes: >"
      ]
     },
     "execution_count": 6,
     "metadata": {},
     "output_type": "execute_result"
    },
    {
     "data": {
      "image/png": "[encoded data removed]",
      "text/plain": [
       "<Figure size 640x480 with 1 Axes>"
      ]
     },
     "metadata": {},
     "output_type": "display_data"
    }
   ],
   "source": [
    "# 가격 데이터의 분포 확인 - bins = 100이므로 막대 수는 100개이다.\n",
    "train['price'].hist(bins=100)"
   ]
  },
  {
   "cell_type": "code",
   "execution_count": 7,
   "id": "948b1d6e",
   "metadata": {},
   "outputs": [
    {
     "data": {
      "text/plain": [
       "count    39116.000000\n",
       "mean       152.751150\n",
       "std        241.752501\n",
       "min          0.000000\n",
       "25%         69.000000\n",
       "50%        105.000000\n",
       "75%        175.000000\n",
       "max      10000.000000\n",
       "Name: price, dtype: float64"
      ]
     },
     "execution_count": 7,
     "metadata": {},
     "output_type": "execute_result"
    }
   ],
   "source": [
    "# 가격 데이터의 기술통계정보 조회\n",
    "train['price'].describe()"
   ]
  },
  {
   "cell_type": "code",
   "execution_count": 8,
   "id": "1ca79ccc",
   "metadata": {},
   "outputs": [
    {
     "data": {
      "text/plain": [
       "host_id\n",
       "219517861    256\n",
       "107434423    181\n",
       "30283594      99\n",
       "137358866     82\n",
       "12243051      80\n",
       "            ... \n",
       "73369106       1\n",
       "26620387       1\n",
       "176660539      1\n",
       "26004891       1\n",
       "2609535        1\n",
       "Name: count, Length: 30845, dtype: int64"
      ]
     },
     "execution_count": 8,
     "metadata": {},
     "output_type": "execute_result"
    }
   ],
   "source": [
    "# 호스트 ID 데이터의 종류와 빈도 수 조회\n",
    "train['host_id'].value_counts()"
   ]
  },
  {
   "cell_type": "markdown",
   "id": "be458888",
   "metadata": {},
   "source": [
    "---\n",
    "### 데이터 전처리\n",
    "* 컴퓨터가 데이터를 학습하기 편하도록 데이터를 가공하는 과정으로 전처리가 얼마나 잘 됐는지도, 모델의 성능에 영향을 미친다.\n",
    "* 모델이 학습을 하는 데에 도움이 되지 않을 데이터는 삭제한다.\n",
    "* EDA에서 파악한 정보를 토대로 각 컬럼의 결측치를 어떻게 처리할지 정한 후, 반영한다.\n",
    "* 지도 학습인 경우, target값이 될 컬럼을 분리시킨다.\n",
    "* 자료형 별로 데이터를 분할하여 각 자료형에 적합한 기법을 사용하여 데이터 정규화를 진행한다.\n",
    "> 가공을 한 후, 학습에 도움이 되지 않을 것 같은 컬럼은 삭제한다.\n",
    "* 가공한 데이터들을 다시 한 개의 데이터 프레임으로 병합한 후, 정규화된 데이터를 확인한다.\n",
    "\n",
    "\n",
    "#### 사용 기술\n",
    "* **drop()**: 데이터프레임에서 특정 컬럼을 삭제할 때, 사용하는 함수로, 매개변수로는 컬럼명, axis, inplace가 있다.\n",
    "    * 컬럼 명: 삭제를 하고자 하는 컬럼 명을 ''안에 입력한다.\n",
    "        * 복수 개의 컬럼을 삭제하고 싶을 때에는 []안에 리스트의 형태로 입력한다.\n",
    "    * axis: 자우고자 하는 데이터가 행일 경우에는 0, 열일 경우에는 1을 입력한다.\n",
    "    * inplace: 삭제 결과 조회가 아닌 삭제 결과 반영일 경우 해당 매개변수의 값을 True로 입력한다.\n",
    "        * 기본 값이 False로 이러한 경우에는 새로운 변수에 바인딩이 필요하다.\n",
    "* **fillna()**: 지정한 컬럼의 결측 데이터의 값을 매개변수에 입력한 값으로 할당한다.\n",
    "* **select_dtypes()**: 매개변수에 지정한 데이터 타입의 컬럼들을 조회한다.\n",
    "    * exclude: 지정한 데이터 타입이 없는 컬럼들만 조회\n",
    "    > 예시) df.select_dtypes(exclude='int') -> int 자료형을 포함하지 않는 컬럼들만 조회\n",
    "    * include: 지정한 데이터 타입의 컬럼들만 조회\n",
    "    > 예시) df.select_dtypes(include='int') -> int 자료형을 포함하는 컬럼들만 조회\n",
    "* **MinMaxScaler()**: 데이터의 범위를 조정하여 모든 특성이 동일한 스케일을 가지게 하는 정규화에 사용되는 변환기 클래스이다.\n",
    "* **LabelEncoder()**: 범주형 데이터를 컴퓨터가 학습하기 쉽도록 정수형으로 인코딩하는 데 사용되는 변환기 클래스이다.\n",
    "* **fit_transform()**: 주어진 데이터로 모델을 학습하고 동시에 변환을 수행하는 메서드이다.\n",
    "> 학습 데이터에 대해서만 수행이 된다.\n",
    "* **transform()**: 주어진 데이터로 변환을 수행하는 메서드이다.\n",
    "* **concat()**: 데이터프레임과 데이터프레임을 병합하는 함수이며, axis 매개변수로 열병합인지, 행병합인지를 지정할 수 있다."
   ]
  },
  {
   "cell_type": "code",
   "execution_count": 9,
   "id": "9489e2b3",
   "metadata": {},
   "outputs": [],
   "source": [
    "# train데이터에서 사용하지 않을 최근 리뷰 데이터 삭제\n",
    "train.drop('last_review',axis=1,inplace=True)\n",
    "# test데이터에서 사용하지 않을 최근 리뷰 데이터 삭제\n",
    "test.drop('last_review',axis=1,inplace=True)\n",
    "\n",
    "# train데이터에서 이름과 호스트 이름의 결측치를 'unknown'으로 변경 - 사용하지 않을 데이터면 삭제를 해도 상관은 없다.\n",
    "train[['name','host_name']] = train[['name','host_name']].fillna('unknown')\n",
    "# train데이터에서 한달 간 리뷰 수 컬럼의 결측치를 0으로 변경\n",
    "train['reviews_per_month'] = train['reviews_per_month'].fillna(0)\n",
    "# test데이터에서 이름과 호스트 이름의 결측치를 'unknown'으로 변경 - 사용하지 않을 데이터면 삭제를 해도 상관은 없다.\n",
    "test[['name','host_name']] = test[['name','host_name']].fillna('unknown')\n",
    "# test데이터에서 한달 간 리뷰 수 컬럼의 결측치를 0으로 변경\n",
    "test['reviews_per_month'] = test['reviews_per_month'].fillna(0)"
   ]
  },
  {
   "cell_type": "code",
   "execution_count": 10,
   "id": "8abfc511",
   "metadata": {},
   "outputs": [
    {
     "data": {
      "text/plain": [
       "id                                0\n",
       "name                              0\n",
       "host_id                           0\n",
       "host_name                         0\n",
       "neighbourhood_group               0\n",
       "neighbourhood                     0\n",
       "latitude                          0\n",
       "longitude                         0\n",
       "room_type                         0\n",
       "price                             0\n",
       "minimum_nights                    0\n",
       "number_of_reviews                 0\n",
       "reviews_per_month                 0\n",
       "calculated_host_listings_count    0\n",
       "availability_365                  0\n",
       "dtype: int64"
      ]
     },
     "execution_count": 10,
     "metadata": {},
     "output_type": "execute_result"
    }
   ],
   "source": [
    "# 결측치 처리 후, 결과 조회\n",
    "train.isnull().sum()"
   ]
  },
  {
   "cell_type": "code",
   "execution_count": 11,
   "id": "8e396774",
   "metadata": {},
   "outputs": [],
   "source": [
    "# 가격 데이터를 타겟 변수에 바인딩\n",
    "target = train['price']\n",
    "# train 데이터에서 가격 컬럼 삭제\n",
    "train = train.drop('price', axis=1)"
   ]
  },
  {
   "cell_type": "code",
   "execution_count": 12,
   "id": "1ac8f413",
   "metadata": {},
   "outputs": [],
   "source": [
    "# train 데이터에서 자료형이 object가 아닌 데이터들을 복사한 후, 변수에 바인딩\n",
    "n_train = train.select_dtypes(exclude='object').copy()\n",
    "# test 데이터에서 자료형이 object가 아닌 데이터들을 복사한 후, 변수에 바인딩\n",
    "c_train = train.select_dtypes(include='object').copy()\n",
    "# train 데이터에서 자료형이 object인 데이터들을 복사한 후, 변수에 바인딩\n",
    "n_test = test.select_dtypes(exclude='object').copy()\n",
    "# test 데이터에서 자료형이 object인 데이터들을 복사한 후, 변수에 바인딩\n",
    "c_test = test.select_dtypes(include='object').copy()"
   ]
  },
  {
   "cell_type": "code",
   "execution_count": 13,
   "id": "fbeb5c33",
   "metadata": {},
   "outputs": [
    {
     "data": {
      "text/html": [
       "<div>\n",
       "<style scoped>\n",
       "    .dataframe tbody tr th:only-of-type {\n",
       "        vertical-align: middle;\n",
       "    }\n",
       "\n",
       "    .dataframe tbody tr th {\n",
       "        vertical-align: top;\n",
       "    }\n",
       "\n",
       "    .dataframe thead th {\n",
       "        text-align: right;\n",
       "    }\n",
       "</style>\n",
       "<table border=\"1\" class=\"dataframe\">\n",
       "  <thead>\n",
       "    <tr style=\"text-align: right;\">\n",
       "      <th></th>\n",
       "      <th>id</th>\n",
       "      <th>host_id</th>\n",
       "      <th>latitude</th>\n",
       "      <th>longitude</th>\n",
       "      <th>minimum_nights</th>\n",
       "      <th>number_of_reviews</th>\n",
       "      <th>reviews_per_month</th>\n",
       "      <th>calculated_host_listings_count</th>\n",
       "      <th>availability_365</th>\n",
       "    </tr>\n",
       "  </thead>\n",
       "  <tbody>\n",
       "    <tr>\n",
       "      <th>count</th>\n",
       "      <td>3.911600e+04</td>\n",
       "      <td>3.911600e+04</td>\n",
       "      <td>39116.000000</td>\n",
       "      <td>39116.000000</td>\n",
       "      <td>39116.000000</td>\n",
       "      <td>39116.000000</td>\n",
       "      <td>39116.000000</td>\n",
       "      <td>39116.000000</td>\n",
       "      <td>39116.000000</td>\n",
       "    </tr>\n",
       "    <tr>\n",
       "      <th>mean</th>\n",
       "      <td>1.898464e+07</td>\n",
       "      <td>6.774143e+07</td>\n",
       "      <td>40.728848</td>\n",
       "      <td>-73.952125</td>\n",
       "      <td>6.990720</td>\n",
       "      <td>23.272855</td>\n",
       "      <td>1.091963</td>\n",
       "      <td>7.090756</td>\n",
       "      <td>112.980826</td>\n",
       "    </tr>\n",
       "    <tr>\n",
       "      <th>std</th>\n",
       "      <td>1.099302e+07</td>\n",
       "      <td>7.881383e+07</td>\n",
       "      <td>0.054499</td>\n",
       "      <td>0.046354</td>\n",
       "      <td>20.310323</td>\n",
       "      <td>44.589170</td>\n",
       "      <td>1.600772</td>\n",
       "      <td>32.661136</td>\n",
       "      <td>131.674306</td>\n",
       "    </tr>\n",
       "    <tr>\n",
       "      <th>min</th>\n",
       "      <td>2.539000e+03</td>\n",
       "      <td>2.438000e+03</td>\n",
       "      <td>40.499790</td>\n",
       "      <td>-74.244420</td>\n",
       "      <td>1.000000</td>\n",
       "      <td>0.000000</td>\n",
       "      <td>0.000000</td>\n",
       "      <td>1.000000</td>\n",
       "      <td>0.000000</td>\n",
       "    </tr>\n",
       "    <tr>\n",
       "      <th>25%</th>\n",
       "      <td>9.412608e+06</td>\n",
       "      <td>7.834978e+06</td>\n",
       "      <td>40.690038</td>\n",
       "      <td>-73.983190</td>\n",
       "      <td>1.000000</td>\n",
       "      <td>1.000000</td>\n",
       "      <td>0.040000</td>\n",
       "      <td>1.000000</td>\n",
       "      <td>0.000000</td>\n",
       "    </tr>\n",
       "    <tr>\n",
       "      <th>50%</th>\n",
       "      <td>1.963650e+07</td>\n",
       "      <td>3.070949e+07</td>\n",
       "      <td>40.723000</td>\n",
       "      <td>-73.955740</td>\n",
       "      <td>2.000000</td>\n",
       "      <td>5.000000</td>\n",
       "      <td>0.370000</td>\n",
       "      <td>1.000000</td>\n",
       "      <td>45.000000</td>\n",
       "    </tr>\n",
       "    <tr>\n",
       "      <th>75%</th>\n",
       "      <td>2.913445e+07</td>\n",
       "      <td>1.074344e+08</td>\n",
       "      <td>40.762943</td>\n",
       "      <td>-73.936338</td>\n",
       "      <td>5.000000</td>\n",
       "      <td>23.000000</td>\n",
       "      <td>1.590000</td>\n",
       "      <td>2.000000</td>\n",
       "      <td>228.000000</td>\n",
       "    </tr>\n",
       "    <tr>\n",
       "      <th>max</th>\n",
       "      <td>3.648561e+07</td>\n",
       "      <td>2.743213e+08</td>\n",
       "      <td>40.912340</td>\n",
       "      <td>-73.712990</td>\n",
       "      <td>1250.000000</td>\n",
       "      <td>629.000000</td>\n",
       "      <td>58.500000</td>\n",
       "      <td>327.000000</td>\n",
       "      <td>365.000000</td>\n",
       "    </tr>\n",
       "  </tbody>\n",
       "</table>\n",
       "</div>"
      ],
      "text/plain": [
       "                 id       host_id      latitude     longitude  minimum_nights  \\\n",
       "count  3.911600e+04  3.911600e+04  39116.000000  39116.000000    39116.000000   \n",
       "mean   1.898464e+07  6.774143e+07     40.728848    -73.952125        6.990720   \n",
       "std    1.099302e+07  7.881383e+07      0.054499      0.046354       20.310323   \n",
       "min    2.539000e+03  2.438000e+03     40.499790    -74.244420        1.000000   \n",
       "25%    9.412608e+06  7.834978e+06     40.690038    -73.983190        1.000000   \n",
       "50%    1.963650e+07  3.070949e+07     40.723000    -73.955740        2.000000   \n",
       "75%    2.913445e+07  1.074344e+08     40.762943    -73.936338        5.000000   \n",
       "max    3.648561e+07  2.743213e+08     40.912340    -73.712990     1250.000000   \n",
       "\n",
       "       number_of_reviews  reviews_per_month  calculated_host_listings_count  \\\n",
       "count       39116.000000       39116.000000                    39116.000000   \n",
       "mean           23.272855           1.091963                        7.090756   \n",
       "std            44.589170           1.600772                       32.661136   \n",
       "min             0.000000           0.000000                        1.000000   \n",
       "25%             1.000000           0.040000                        1.000000   \n",
       "50%             5.000000           0.370000                        1.000000   \n",
       "75%            23.000000           1.590000                        2.000000   \n",
       "max           629.000000          58.500000                      327.000000   \n",
       "\n",
       "       availability_365  \n",
       "count      39116.000000  \n",
       "mean         112.980826  \n",
       "std          131.674306  \n",
       "min            0.000000  \n",
       "25%            0.000000  \n",
       "50%           45.000000  \n",
       "75%          228.000000  \n",
       "max          365.000000  "
      ]
     },
     "execution_count": 13,
     "metadata": {},
     "output_type": "execute_result"
    }
   ],
   "source": [
    "n_train.describe()"
   ]
  },
  {
   "cell_type": "code",
   "execution_count": 14,
   "id": "8dbb2d6b",
   "metadata": {},
   "outputs": [
    {
     "data": {
      "text/html": [
       "<div>\n",
       "<style scoped>\n",
       "    .dataframe tbody tr th:only-of-type {\n",
       "        vertical-align: middle;\n",
       "    }\n",
       "\n",
       "    .dataframe tbody tr th {\n",
       "        vertical-align: top;\n",
       "    }\n",
       "\n",
       "    .dataframe thead th {\n",
       "        text-align: right;\n",
       "    }\n",
       "</style>\n",
       "<table border=\"1\" class=\"dataframe\">\n",
       "  <thead>\n",
       "    <tr style=\"text-align: right;\">\n",
       "      <th></th>\n",
       "      <th>id</th>\n",
       "      <th>host_id</th>\n",
       "      <th>latitude</th>\n",
       "      <th>longitude</th>\n",
       "      <th>minimum_nights</th>\n",
       "      <th>number_of_reviews</th>\n",
       "      <th>reviews_per_month</th>\n",
       "      <th>calculated_host_listings_count</th>\n",
       "      <th>availability_365</th>\n",
       "    </tr>\n",
       "  </thead>\n",
       "  <tbody>\n",
       "    <tr>\n",
       "      <th>0</th>\n",
       "      <td>14963583</td>\n",
       "      <td>94219511</td>\n",
       "      <td>40.80167</td>\n",
       "      <td>-73.95781</td>\n",
       "      <td>3</td>\n",
       "      <td>3</td>\n",
       "      <td>0.09</td>\n",
       "      <td>2</td>\n",
       "      <td>0</td>\n",
       "    </tr>\n",
       "  </tbody>\n",
       "</table>\n",
       "</div>"
      ],
      "text/plain": [
       "         id   host_id  latitude  longitude  minimum_nights  number_of_reviews  \\\n",
       "0  14963583  94219511  40.80167  -73.95781               3                  3   \n",
       "\n",
       "   reviews_per_month  calculated_host_listings_count  availability_365  \n",
       "0               0.09                               2                 0  "
      ]
     },
     "metadata": {},
     "output_type": "display_data"
    },
    {
     "data": {
      "text/html": [
       "<div>\n",
       "<style scoped>\n",
       "    .dataframe tbody tr th:only-of-type {\n",
       "        vertical-align: middle;\n",
       "    }\n",
       "\n",
       "    .dataframe tbody tr th {\n",
       "        vertical-align: top;\n",
       "    }\n",
       "\n",
       "    .dataframe thead th {\n",
       "        text-align: right;\n",
       "    }\n",
       "</style>\n",
       "<table border=\"1\" class=\"dataframe\">\n",
       "  <thead>\n",
       "    <tr style=\"text-align: right;\">\n",
       "      <th></th>\n",
       "      <th>id</th>\n",
       "      <th>host_id</th>\n",
       "      <th>latitude</th>\n",
       "      <th>longitude</th>\n",
       "      <th>minimum_nights</th>\n",
       "      <th>number_of_reviews</th>\n",
       "      <th>reviews_per_month</th>\n",
       "      <th>calculated_host_listings_count</th>\n",
       "      <th>availability_365</th>\n",
       "    </tr>\n",
       "  </thead>\n",
       "  <tbody>\n",
       "    <tr>\n",
       "      <th>0</th>\n",
       "      <td>14963583</td>\n",
       "      <td>0.343458</td>\n",
       "      <td>0.731742</td>\n",
       "      <td>-73.95781</td>\n",
       "      <td>0.001601</td>\n",
       "      <td>0.004769</td>\n",
       "      <td>0.001538</td>\n",
       "      <td>0.003067</td>\n",
       "      <td>0.0</td>\n",
       "    </tr>\n",
       "  </tbody>\n",
       "</table>\n",
       "</div>"
      ],
      "text/plain": [
       "         id   host_id  latitude  longitude  minimum_nights  number_of_reviews  \\\n",
       "0  14963583  0.343458  0.731742  -73.95781        0.001601           0.004769   \n",
       "\n",
       "   reviews_per_month  calculated_host_listings_count  availability_365  \n",
       "0           0.001538                        0.003067               0.0  "
      ]
     },
     "metadata": {},
     "output_type": "display_data"
    }
   ],
   "source": [
    "# MinMaxScaler 모듈 import\n",
    "from sklearn.preprocessing import MinMaxScaler\n",
    "# MinMaxScaler 객체 생성\n",
    "sc = MinMaxScaler()\n",
    "# 정규화를 진행할 컬럼들로 리스트 생성\n",
    "cols = [\n",
    "    'host_id',\n",
    "    'latitude',\n",
    "    'minimum_nights',\n",
    "    'number_of_reviews',\n",
    "    'reviews_per_month',\n",
    "    'calculated_host_listings_count',\n",
    "    'availability_365'\n",
    "]\n",
    "# 정규화 진행 전 데이터 출력\n",
    "display(n_train.head(1))\n",
    "# train 정수형 데이터의 지정한 컬럼들을 정규화\n",
    "n_train[cols] = sc.fit_transform(n_train[cols])\n",
    "# test 정수형 데이터의 지정한 컬럼들을 정규화\n",
    "n_test[cols] = sc.transform(n_test[cols])\n",
    "#정규화 진행 후 데이터 출력\n",
    "display(n_train.head(1))"
   ]
  },
  {
   "cell_type": "code",
   "execution_count": 15,
   "id": "64e547d3",
   "metadata": {},
   "outputs": [],
   "source": [
    "# train 정수형 데이터에서 학습에 도움 되지 않는 컬럼 삭제\n",
    "n_train = n_train.drop('id',axis=1)\n",
    "# test 정수형 데이터에서 학습에 도움 되지 않는 컬럼 삭제\n",
    "n_test = n_test.drop('id',axis=1)"
   ]
  },
  {
   "cell_type": "code",
   "execution_count": 16,
   "id": "ea973eaa",
   "metadata": {},
   "outputs": [
    {
     "data": {
      "text/html": [
       "<div>\n",
       "<style scoped>\n",
       "    .dataframe tbody tr th:only-of-type {\n",
       "        vertical-align: middle;\n",
       "    }\n",
       "\n",
       "    .dataframe tbody tr th {\n",
       "        vertical-align: top;\n",
       "    }\n",
       "\n",
       "    .dataframe thead th {\n",
       "        text-align: right;\n",
       "    }\n",
       "</style>\n",
       "<table border=\"1\" class=\"dataframe\">\n",
       "  <thead>\n",
       "    <tr style=\"text-align: right;\">\n",
       "      <th></th>\n",
       "      <th>name</th>\n",
       "      <th>host_name</th>\n",
       "      <th>neighbourhood_group</th>\n",
       "      <th>neighbourhood</th>\n",
       "      <th>room_type</th>\n",
       "    </tr>\n",
       "  </thead>\n",
       "  <tbody>\n",
       "    <tr>\n",
       "      <th>0</th>\n",
       "      <td>Room in South Harlem near Central Park</td>\n",
       "      <td>Gilles</td>\n",
       "      <td>Manhattan</td>\n",
       "      <td>Harlem</td>\n",
       "      <td>Private room</td>\n",
       "    </tr>\n",
       "  </tbody>\n",
       "</table>\n",
       "</div>"
      ],
      "text/plain": [
       "                                     name host_name neighbourhood_group  \\\n",
       "0  Room in South Harlem near Central Park    Gilles           Manhattan   \n",
       "\n",
       "  neighbourhood     room_type  \n",
       "0        Harlem  Private room  "
      ]
     },
     "execution_count": 16,
     "metadata": {},
     "output_type": "execute_result"
    }
   ],
   "source": [
    "# train 문자형 데이터 확인\n",
    "c_train.head(1)"
   ]
  },
  {
   "cell_type": "code",
   "execution_count": 17,
   "id": "c0a32e72",
   "metadata": {},
   "outputs": [
    {
     "data": {
      "text/html": [
       "<div>\n",
       "<style scoped>\n",
       "    .dataframe tbody tr th:only-of-type {\n",
       "        vertical-align: middle;\n",
       "    }\n",
       "\n",
       "    .dataframe tbody tr th {\n",
       "        vertical-align: top;\n",
       "    }\n",
       "\n",
       "    .dataframe thead th {\n",
       "        text-align: right;\n",
       "    }\n",
       "</style>\n",
       "<table border=\"1\" class=\"dataframe\">\n",
       "  <thead>\n",
       "    <tr style=\"text-align: right;\">\n",
       "      <th></th>\n",
       "      <th>name</th>\n",
       "      <th>host_name</th>\n",
       "      <th>neighbourhood_group</th>\n",
       "      <th>neighbourhood</th>\n",
       "      <th>room_type</th>\n",
       "    </tr>\n",
       "  </thead>\n",
       "  <tbody>\n",
       "    <tr>\n",
       "      <th>count</th>\n",
       "      <td>39116</td>\n",
       "      <td>39116</td>\n",
       "      <td>39116</td>\n",
       "      <td>39116</td>\n",
       "      <td>39116</td>\n",
       "    </tr>\n",
       "    <tr>\n",
       "      <th>unique</th>\n",
       "      <td>38421</td>\n",
       "      <td>9978</td>\n",
       "      <td>5</td>\n",
       "      <td>221</td>\n",
       "      <td>3</td>\n",
       "    </tr>\n",
       "    <tr>\n",
       "      <th>top</th>\n",
       "      <td>Home away from home</td>\n",
       "      <td>Michael</td>\n",
       "      <td>Manhattan</td>\n",
       "      <td>Williamsburg</td>\n",
       "      <td>Entire home/apt</td>\n",
       "    </tr>\n",
       "    <tr>\n",
       "      <th>freq</th>\n",
       "      <td>15</td>\n",
       "      <td>338</td>\n",
       "      <td>17331</td>\n",
       "      <td>3099</td>\n",
       "      <td>20299</td>\n",
       "    </tr>\n",
       "  </tbody>\n",
       "</table>\n",
       "</div>"
      ],
      "text/plain": [
       "                       name host_name neighbourhood_group neighbourhood  \\\n",
       "count                 39116     39116               39116         39116   \n",
       "unique                38421      9978                   5           221   \n",
       "top     Home away from home   Michael           Manhattan  Williamsburg   \n",
       "freq                     15       338               17331          3099   \n",
       "\n",
       "              room_type  \n",
       "count             39116  \n",
       "unique                3  \n",
       "top     Entire home/apt  \n",
       "freq              20299  "
      ]
     },
     "execution_count": 17,
     "metadata": {},
     "output_type": "execute_result"
    }
   ],
   "source": [
    "# train 문자형 데이터 정보 확인\n",
    "c_train.describe()"
   ]
  },
  {
   "cell_type": "code",
   "execution_count": 18,
   "id": "0a06599d",
   "metadata": {},
   "outputs": [
    {
     "data": {
      "text/html": [
       "<div>\n",
       "<style scoped>\n",
       "    .dataframe tbody tr th:only-of-type {\n",
       "        vertical-align: middle;\n",
       "    }\n",
       "\n",
       "    .dataframe tbody tr th {\n",
       "        vertical-align: top;\n",
       "    }\n",
       "\n",
       "    .dataframe thead th {\n",
       "        text-align: right;\n",
       "    }\n",
       "</style>\n",
       "<table border=\"1\" class=\"dataframe\">\n",
       "  <thead>\n",
       "    <tr style=\"text-align: right;\">\n",
       "      <th></th>\n",
       "      <th>name</th>\n",
       "      <th>host_name</th>\n",
       "      <th>neighbourhood_group</th>\n",
       "      <th>neighbourhood</th>\n",
       "      <th>room_type</th>\n",
       "    </tr>\n",
       "  </thead>\n",
       "  <tbody>\n",
       "    <tr>\n",
       "      <th>0</th>\n",
       "      <td>Room in South Harlem near Central Park</td>\n",
       "      <td>Gilles</td>\n",
       "      <td>Manhattan</td>\n",
       "      <td>Harlem</td>\n",
       "      <td>Private room</td>\n",
       "    </tr>\n",
       "  </tbody>\n",
       "</table>\n",
       "</div>"
      ],
      "text/plain": [
       "                                     name host_name neighbourhood_group  \\\n",
       "0  Room in South Harlem near Central Park    Gilles           Manhattan   \n",
       "\n",
       "  neighbourhood     room_type  \n",
       "0        Harlem  Private room  "
      ]
     },
     "metadata": {},
     "output_type": "display_data"
    },
    {
     "data": {
      "text/html": [
       "<div>\n",
       "<style scoped>\n",
       "    .dataframe tbody tr th:only-of-type {\n",
       "        vertical-align: middle;\n",
       "    }\n",
       "\n",
       "    .dataframe tbody tr th {\n",
       "        vertical-align: top;\n",
       "    }\n",
       "\n",
       "    .dataframe thead th {\n",
       "        text-align: right;\n",
       "    }\n",
       "</style>\n",
       "<table border=\"1\" class=\"dataframe\">\n",
       "  <thead>\n",
       "    <tr style=\"text-align: right;\">\n",
       "      <th></th>\n",
       "      <th>name</th>\n",
       "      <th>host_name</th>\n",
       "      <th>neighbourhood_group</th>\n",
       "      <th>neighbourhood</th>\n",
       "      <th>room_type</th>\n",
       "    </tr>\n",
       "  </thead>\n",
       "  <tbody>\n",
       "    <tr>\n",
       "      <th>0</th>\n",
       "      <td>Room in South Harlem near Central Park</td>\n",
       "      <td>Gilles</td>\n",
       "      <td>2</td>\n",
       "      <td>94</td>\n",
       "      <td>1</td>\n",
       "    </tr>\n",
       "  </tbody>\n",
       "</table>\n",
       "</div>"
      ],
      "text/plain": [
       "                                     name host_name  neighbourhood_group  \\\n",
       "0  Room in South Harlem near Central Park    Gilles                    2   \n",
       "\n",
       "   neighbourhood  room_type  \n",
       "0             94          1  "
      ]
     },
     "metadata": {},
     "output_type": "display_data"
    }
   ],
   "source": [
    "# LabelEncoder 모듈 import\n",
    "from sklearn.preprocessing import LabelEncoder\n",
    "# LabelEncoder 객체 생성\n",
    "le = LabelEncoder()\n",
    "# train 문자형 데이터에서 정규화할 컬럼들로 리스트 생성\n",
    "cols = [\n",
    "    'neighbourhood_group',\n",
    "    'neighbourhood',\n",
    "    'room_type'\n",
    "]\n",
    "# 정규화 진행 전 데이터 출력\n",
    "display(c_train.head(1))\n",
    "for col in cols:\n",
    "    # train 문자형 데이터 정규화 진행\n",
    "    c_train[col] = le.fit_transform(c_train[col])\n",
    "    # test 문자형 데이터 정규화 진행\n",
    "    c_test[col] = le.transform(c_test[col])\n",
    "    \n",
    "# 정규화 진행 후 데이터 출력\n",
    "display(c_train.head(1))"
   ]
  },
  {
   "cell_type": "code",
   "execution_count": 19,
   "id": "9bfa6ef6",
   "metadata": {},
   "outputs": [],
   "source": [
    "# 학습에 도움이 되지 않을 컬럼명으로 리스트 생성\n",
    "del_cols = ['name', 'host_name']\n",
    "# train 데이터에서 리스트에 있는 컬럼 삭제\n",
    "c_train = c_train.drop(del_cols,axis=1)\n",
    "# test 데이터에서 리스트에 있는 컬럼 삭제\n",
    "c_test = c_test.drop(del_cols,axis=1)"
   ]
  },
  {
   "cell_type": "code",
   "execution_count": 20,
   "id": "1c368b8b",
   "metadata": {},
   "outputs": [
    {
     "name": "stdout",
     "output_type": "stream",
     "text": [
      "(39116, 11) (9779, 11)\n"
     ]
    },
    {
     "data": {
      "text/html": [
       "<div>\n",
       "<style scoped>\n",
       "    .dataframe tbody tr th:only-of-type {\n",
       "        vertical-align: middle;\n",
       "    }\n",
       "\n",
       "    .dataframe tbody tr th {\n",
       "        vertical-align: top;\n",
       "    }\n",
       "\n",
       "    .dataframe thead th {\n",
       "        text-align: right;\n",
       "    }\n",
       "</style>\n",
       "<table border=\"1\" class=\"dataframe\">\n",
       "  <thead>\n",
       "    <tr style=\"text-align: right;\">\n",
       "      <th></th>\n",
       "      <th>host_id</th>\n",
       "      <th>latitude</th>\n",
       "      <th>longitude</th>\n",
       "      <th>minimum_nights</th>\n",
       "      <th>number_of_reviews</th>\n",
       "      <th>reviews_per_month</th>\n",
       "      <th>calculated_host_listings_count</th>\n",
       "      <th>availability_365</th>\n",
       "      <th>neighbourhood_group</th>\n",
       "      <th>neighbourhood</th>\n",
       "      <th>room_type</th>\n",
       "    </tr>\n",
       "  </thead>\n",
       "  <tbody>\n",
       "    <tr>\n",
       "      <th>0</th>\n",
       "      <td>0.343458</td>\n",
       "      <td>0.731742</td>\n",
       "      <td>-73.95781</td>\n",
       "      <td>0.001601</td>\n",
       "      <td>0.004769</td>\n",
       "      <td>0.001538</td>\n",
       "      <td>0.003067</td>\n",
       "      <td>0.000000</td>\n",
       "      <td>2</td>\n",
       "      <td>94</td>\n",
       "      <td>1</td>\n",
       "    </tr>\n",
       "    <tr>\n",
       "      <th>1</th>\n",
       "      <td>0.178671</td>\n",
       "      <td>0.631633</td>\n",
       "      <td>-73.99016</td>\n",
       "      <td>0.000801</td>\n",
       "      <td>0.101749</td>\n",
       "      <td>0.028718</td>\n",
       "      <td>0.003067</td>\n",
       "      <td>0.717808</td>\n",
       "      <td>2</td>\n",
       "      <td>95</td>\n",
       "      <td>0</td>\n",
       "    </tr>\n",
       "    <tr>\n",
       "      <th>2</th>\n",
       "      <td>0.001595</td>\n",
       "      <td>0.558041</td>\n",
       "      <td>-74.00562</td>\n",
       "      <td>0.047238</td>\n",
       "      <td>0.001590</td>\n",
       "      <td>0.003419</td>\n",
       "      <td>0.000000</td>\n",
       "      <td>0.000000</td>\n",
       "      <td>2</td>\n",
       "      <td>209</td>\n",
       "      <td>0</td>\n",
       "    </tr>\n",
       "    <tr>\n",
       "      <th>3</th>\n",
       "      <td>0.013033</td>\n",
       "      <td>0.464162</td>\n",
       "      <td>-73.93653</td>\n",
       "      <td>0.002402</td>\n",
       "      <td>0.379968</td>\n",
       "      <td>0.049402</td>\n",
       "      <td>0.003067</td>\n",
       "      <td>0.002740</td>\n",
       "      <td>1</td>\n",
       "      <td>13</td>\n",
       "      <td>0</td>\n",
       "    </tr>\n",
       "    <tr>\n",
       "      <th>4</th>\n",
       "      <td>0.045468</td>\n",
       "      <td>0.458611</td>\n",
       "      <td>-73.95555</td>\n",
       "      <td>0.021617</td>\n",
       "      <td>0.000000</td>\n",
       "      <td>0.000000</td>\n",
       "      <td>0.000000</td>\n",
       "      <td>0.000000</td>\n",
       "      <td>1</td>\n",
       "      <td>13</td>\n",
       "      <td>1</td>\n",
       "    </tr>\n",
       "  </tbody>\n",
       "</table>\n",
       "</div>"
      ],
      "text/plain": [
       "    host_id  latitude  longitude  minimum_nights  number_of_reviews  \\\n",
       "0  0.343458  0.731742  -73.95781        0.001601           0.004769   \n",
       "1  0.178671  0.631633  -73.99016        0.000801           0.101749   \n",
       "2  0.001595  0.558041  -74.00562        0.047238           0.001590   \n",
       "3  0.013033  0.464162  -73.93653        0.002402           0.379968   \n",
       "4  0.045468  0.458611  -73.95555        0.021617           0.000000   \n",
       "\n",
       "   reviews_per_month  calculated_host_listings_count  availability_365  \\\n",
       "0           0.001538                        0.003067          0.000000   \n",
       "1           0.028718                        0.003067          0.717808   \n",
       "2           0.003419                        0.000000          0.000000   \n",
       "3           0.049402                        0.003067          0.002740   \n",
       "4           0.000000                        0.000000          0.000000   \n",
       "\n",
       "   neighbourhood_group  neighbourhood  room_type  \n",
       "0                    2             94          1  \n",
       "1                    2             95          0  \n",
       "2                    2            209          0  \n",
       "3                    1             13          0  \n",
       "4                    1             13          1  "
      ]
     },
     "execution_count": 20,
     "metadata": {},
     "output_type": "execute_result"
    }
   ],
   "source": [
    "# 정규화가 진행된 train 데이터들을 다시 열 병합\n",
    "train = pd.concat([n_train, c_train], axis=1)\n",
    "# 정규화가 진행된 test 데이터들을 다시 열 병합\n",
    "test = pd.concat([n_test, c_test], axis=1)\n",
    "# 정규화가 진행된 뒤의 데이터 크기 출력\n",
    "print(train.shape, test.shape)\n",
    "# 가공된 데이터 확인\n",
    "train.head()"
   ]
  },
  {
   "cell_type": "markdown",
   "id": "ce5c1747",
   "metadata": {},
   "source": [
    "---\n",
    "### 검증 데이터 분리\n",
    "* 정규화를 마친 데이터를 학습 데이터와 검증 데이터로 분리한다.\n",
    "* 검증 데이터가 없이 학습을 진행할 경우, 모델이 너무 학습데이터에 최적화가 되어버리는 오버피팅 이슈가 발생할 가능성이 높다.\n",
    "* 위에서 작업한 데이터프레임을 학습 데이터와 검증 데이터로 나누고, target이 가지고 있는 가격 데이터를 학습 목표치와 검증 목표치로 나눈다.\n",
    "\n",
    "\n",
    "#### 사용 기술\n",
    "* **train_test_split()**: 가공된 데이터를 입력된 매개변수 값으로 학습 데이터, 검증 데이터, 학습 목표치, 검증 목표치로 분할한다.\n",
    "    * X: 학습 데이터와 검증 데이터로 나누게 할 전체 데이터를 입력한다.\n",
    "    * y: 학습 목표치와 검증 목표치로 나누게 할 target 데이터를 입력한다.\n",
    "    * test_size: 입력된 데이터를 나눌 비율을 설정한다.\n",
    "    * random_state: 결과 값이 바뀌지 않도록 seed값을 설정한다."
   ]
  },
  {
   "cell_type": "code",
   "execution_count": 21,
   "id": "deded177",
   "metadata": {},
   "outputs": [
    {
     "data": {
      "text/plain": [
       "((31292, 11), (7824, 11), (31292,), (7824,))"
      ]
     },
     "execution_count": 21,
     "metadata": {},
     "output_type": "execute_result"
    }
   ],
   "source": [
    "# train_test_split 모듈 import\n",
    "from sklearn.model_selection import train_test_split\n",
    "# train 데이터와 target 데이터를 사용하여 2:8 비율로 학습 데이터, 검증 데이터, 학습 목표치, 검증 목표치를 생성한다.\n",
    "X_train, X_verify, y_train, y_verify = train_test_split(train, target, test_size=0.2,random_state=2022)\n",
    "# 각 데이터의 크기 출력\n",
    "X_train.shape, X_verify.shape, y_train.shape, y_verify.shape"
   ]
  },
  {
   "cell_type": "markdown",
   "id": "d1e59ee2",
   "metadata": {},
   "source": [
    "---\n",
    "### 머신러닝\n",
    "* 회귀 모델을 종류별로 학습을 시켜 최소오차제곱의 합을 비교하여 각 모델의 성능을 비교한다.\n",
    "* 회귀 모델의 종류에는 선형 회귀 모델, 릿지 회귀 모델, 라쏘 회귀 모델, 엘라스틱 넷 회귀 모델, 랜덤포레스트 회귀 모델, xgBoost 회귀 모델이 있다.\n",
    "    * 선형 회귀 모델: 가장 기본적인 회귀 모델이다.\n",
    "    * 릿지 회귀 모델: L1 규제가 적용된 회귀 모델이다.\n",
    "    * 라쏘 회귀 모델: L2 규제가 적용된 회귀 모델이다.\n",
    "    * 엘라스틱 넷 회귀 모델: L1 규제와 L2 규제를 조합하여 적용하는 회귀 모델이다.\n",
    "    * 랜덤 포레스트 회귀 모델: 랜덤 포레스트 방식을 적용한 회귀 모델이다. (병렬 학습)\n",
    "    * XGBoost 회귀 모델: XGBoost 방식을 적용한 회귀 모델이다. (직렬 학습)\n",
    "    \n",
    "\n",
    "#### 사용기술\n",
    "* **fit()**: 매개변수로 학습 데이터와 학습 목표치를 입력하여 머신러닝을 진행하고 모델을 만드는 함수이다.\n",
    "* **predict()**: 매개변수로 검증 데이터를 입력하여 만들어진 모델을 통해 데이터의 예측을 진행하는 함수이다.\n",
    "* **mean_squared_error()**: 예측 결과 데이터와 실제 데이터를 매개변수로 입력하여 실제 데이터와 예측 결과 사이의 평균 오차 제곱 값을 출력하는 함수이다."
   ]
  },
  {
   "cell_type": "code",
   "execution_count": 22,
   "id": "d3c98f33",
   "metadata": {},
   "outputs": [
    {
     "data": {
      "text/plain": [
       "29168.86023771586"
      ]
     },
     "execution_count": 22,
     "metadata": {},
     "output_type": "execute_result"
    }
   ],
   "source": [
    "# LinearRegression 모듈 import\n",
    "from sklearn.linear_model import LinearRegression\n",
    "# mean_squared_error 모듈 import\n",
    "from sklearn.metrics import mean_squared_error\n",
    "\n",
    "# LinearRegression 객체 생성\n",
    "model = LinearRegression()\n",
    "# 머신러닝을 진행하여 모델 생성\n",
    "model.fit(X_train, y_train)\n",
    "# 만들어진 모델로 검증(예측) 진행\n",
    "pred = model.predict(X_verify)\n",
    "# 평균 오차 제곱 값 출력\n",
    "mean_squared_error(y_verify, pred)"
   ]
  },
  {
   "cell_type": "code",
   "execution_count": 23,
   "id": "f011402c",
   "metadata": {},
   "outputs": [
    {
     "data": {
      "text/plain": [
       "29170.715383285144"
      ]
     },
     "execution_count": 23,
     "metadata": {},
     "output_type": "execute_result"
    }
   ],
   "source": [
    "# Ridge 모듈 import\n",
    "from sklearn.linear_model import Ridge\n",
    "\n",
    "# Ridge 객체 생성 - 규제 강도 1\n",
    "model = Ridge(alpha=1)\n",
    "# 머신러닝을 진행하여 모델 생성\n",
    "model.fit(X_train, y_train)\n",
    "# 만들어진 모델로 검증(예측) 진행\n",
    "pred = model.predict(X_verify)\n",
    "# 평균 오차 제곱 값 출력\n",
    "mean_squared_error(y_verify, pred)"
   ]
  },
  {
   "cell_type": "code",
   "execution_count": 24,
   "id": "f91a4994",
   "metadata": {},
   "outputs": [
    {
     "data": {
      "text/plain": [
       "29926.1032667455"
      ]
     },
     "execution_count": 24,
     "metadata": {},
     "output_type": "execute_result"
    }
   ],
   "source": [
    "# Lasso 모듈 import\n",
    "from sklearn.linear_model import Lasso\n",
    "\n",
    "# Lasso 객체 생성 - 규제 강도 1\n",
    "model = Lasso(alpha=1)\n",
    "# 머신러닝을 진행하여 모델 생성\n",
    "model.fit(X_train, y_train)\n",
    "# 만들어진 모델로 검증(예측) 진행\n",
    "pred = model.predict(X_verify)\n",
    "# 평균 오차 제곱 값 출력\n",
    "mean_squared_error(y_verify, pred)"
   ]
  },
  {
   "cell_type": "code",
   "execution_count": 25,
   "id": "6d6ef7fa",
   "metadata": {},
   "outputs": [
    {
     "data": {
      "text/plain": [
       "29171.97810547844"
      ]
     },
     "execution_count": 25,
     "metadata": {},
     "output_type": "execute_result"
    }
   ],
   "source": [
    "# Elastic net 모듈 import\n",
    "from sklearn.linear_model import ElasticNet\n",
    "\n",
    "# Elastic net 객체 생성 - 규제 강도 0.0001, L1:L2 = 5:5\n",
    "model = ElasticNet(alpha=0.0001)\n",
    "# 머신러닝을 진행하여 모델 생성\n",
    "model.fit(X_train, y_train)\n",
    "# 만들어진 모델로 검증(예측) 진행\n",
    "pred = model.predict(X_verify)\n",
    "# 평균 오차 제곱 값 출력\n",
    "mean_squared_error(y_verify, pred)"
   ]
  },
  {
   "cell_type": "code",
   "execution_count": 26,
   "id": "54e906bb",
   "metadata": {},
   "outputs": [
    {
     "data": {
      "text/plain": [
       "28361.427763266875"
      ]
     },
     "execution_count": 26,
     "metadata": {},
     "output_type": "execute_result"
    }
   ],
   "source": [
    "# RandomForestRegressor 모듈 import\n",
    "from sklearn.ensemble import RandomForestRegressor\n",
    "\n",
    "# RandomForestRegressor 객체 생성 - seed값은 2022, 생성할 트리 개수는 200개\n",
    "model = RandomForestRegressor(random_state=2022,n_estimators=200)\n",
    "# 머신러닝을 진행하여 모델 생성\n",
    "model.fit(X_train,y_train)\n",
    "# 만들어진 모델로 검증(예측) 진행\n",
    "pred = model.predict(X_verify)\n",
    "# 평균 오차 제곱 값 출력\n",
    "mean_squared_error(y_verify, pred)"
   ]
  },
  {
   "cell_type": "code",
   "execution_count": 27,
   "id": "6a6f4e54",
   "metadata": {},
   "outputs": [
    {
     "data": {
      "text/plain": [
       "27113.117681298638"
      ]
     },
     "execution_count": 27,
     "metadata": {},
     "output_type": "execute_result"
    }
   ],
   "source": [
    "# XGBRegressor 모듈 import\n",
    "from xgboost import XGBRegressor\n",
    "\n",
    "# XGBRegressor 객체 생성 - 학습 강도는 0.1, 트리 깊이는 3, 학습기 개수는 100개, 총 데이터의 70%만 학습\n",
    "model = XGBRegressor(\n",
    "    learning_rate=0.1,\n",
    "    max_depth=3,\n",
    "    n_estimators=100,\n",
    "    subsample=0.7\n",
    ")\n",
    "# 머신러닝을 진행하여 모델 생성\n",
    "model.fit(X_train,y_train)\n",
    "# 만들어진 모델로 검증(예측) 진행\n",
    "pred = model.predict(X_verify)\n",
    "# 평균 오차 제곱 값 출력\n",
    "mean_squared_error(y_verify, pred)"
   ]
  },
  {
   "cell_type": "markdown",
   "id": "197d843e",
   "metadata": {},
   "source": [
    "---\n",
    "### 평가\n",
    "* 평균 오차 제곱 값이 가장 낮은 모델을 선정하여 테스트 데이터로 평가를 진행한다.\n",
    "* 새로운 데이터를 불러와서 만들어진 모델에 입력을 하는 것이기 때문에 모델의 객관적 성능을 판단할 수 있다."
   ]
  },
  {
   "cell_type": "code",
   "execution_count": 28,
   "id": "ea37f533",
   "metadata": {},
   "outputs": [],
   "source": [
    "# 평가 목표치 데이터 불러오기\n",
    "y_test = pd.read_csv('/Users/leeseonjae/git/Aiffel_Node/Machine_Learning/csv_dir/y_test.csv')\n",
    "\n",
    "# Xgboost 모델에 test 데이터 입력 후 예측 진행\n",
    "pred = model.predict(test)\n",
    "# 실제 데이터와 예측 결과 데이터 사이의 평균 제곱 오차의 값 확인 \n",
    "res = mean_squared_error(y_test, pred)"
   ]
  },
  {
   "cell_type": "code",
   "execution_count": 29,
   "id": "4abc305d",
   "metadata": {},
   "outputs": [
    {
     "name": "stdout",
     "output_type": "stream",
     "text": [
      "나의 점수는 (MSE 45521.6230618889)입니다.\n"
     ]
    }
   ],
   "source": [
    "#평균 제곱 오차의 값 출력\n",
    "print(f\"나의 점수는 (MSE {res})입니다.\")"
   ]
  },
  {
   "cell_type": "markdown",
   "id": "0708ab9f",
   "metadata": {},
   "source": [
    "---\n",
    "## 회고\n",
    "\n",
    "\n",
    "### KEEP:\n",
    "* 코드 단 이해를 하며 학습을 하였기에 코드 작성 시간이 오래 걸리지 않았다.\n",
    "* 데이터의 흐름을 파악하며 프로젝트를 진행했다.\n",
    "### PROBLEM:\n",
    "* 머신러닝에 대해 완전한 이해를 하지 않아 학습 데이터, 검증 데이터, 평가 데이터에 대해 파악하는 데 시간이 오래 소요되었다.\n",
    "* 각 모델과 하이퍼 파라미터에 대한 이해가 부족하여 적정한 MSE를 찾는 데 시간이 오래 소요되었다.\n",
    "### TRY:\n",
    "* 학습, 평가 구조가 아닌 학습, 검증, 평가의 구조로 더 많은 데이터로 머신러닝을 구현하며 전체적인 구조를 파악해야겠다.\n",
    "* 있는 그대로 사용하는 것이 아닌, 각각의 하이퍼 파라미터가 어떤 역할을 하는지, 그 모델의 특성이 무엇인지 더 정리해봐야겠다."
   ]
  }
 ],
 "metadata": {
  "kernelspec": {
   "display_name": "Python 3 (ipykernel)",
   "language": "python",
   "name": "python3"
  },
  "language_info": {
   "codemirror_mode": {
    "name": "ipython",
    "version": 3
   },
   "file_extension": ".py",
   "mimetype": "text/x-python",
   "name": "python",
   "nbconvert_exporter": "python",
   "pygments_lexer": "ipython3",
   "version": "3.11.5"
  }
 },
 "nbformat": 4,
 "nbformat_minor": 5
}
